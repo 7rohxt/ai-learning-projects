{
 "cells": [
  {
   "cell_type": "code",
   "execution_count": 1,
   "id": "2e66fdc8",
   "metadata": {},
   "outputs": [
    {
     "data": {
      "text/plain": [
       "True"
      ]
     },
     "execution_count": 1,
     "metadata": {},
     "output_type": "execute_result"
    }
   ],
   "source": [
    "from langchain_openai import OpenAI\n",
    "from dotenv import load_dotenv\n",
    "\n",
    "load_dotenv()"
   ]
  },
  {
   "cell_type": "code",
   "execution_count": 5,
   "id": "7c7c9d71",
   "metadata": {},
   "outputs": [
    {
     "name": "stdout",
     "output_type": "stream",
     "text": [
      "\n",
      "\n",
      "\"Maharaja's Palace\" or \"The Royal Taj\"\n"
     ]
    }
   ],
   "source": [
    "llm = OpenAI(temperature=0.9)\n",
    "name = llm.invoke(\"I want to open a restaurant for Indian food. Suggest a fancy name for this.\")\n",
    "print(name)"
   ]
  },
  {
   "cell_type": "markdown",
   "id": "7cba1908",
   "metadata": {},
   "source": [
    "# Prompt Templates"
   ]
  },
  {
   "cell_type": "code",
   "execution_count": 16,
   "id": "68598b8e",
   "metadata": {},
   "outputs": [
    {
     "name": "stdout",
     "output_type": "stream",
     "text": [
      "I want to open a restaurant for Italian food. Suggest a fency name for this.\n",
      "\n",
      "\n",
      "\"La Dolce Vita Trattoria\"\n"
     ]
    }
   ],
   "source": [
    "from langchain.prompts import PromptTemplate\n",
    "\n",
    "prompt_template_name = PromptTemplate(\n",
    "    input_variables =['cuisine'],\n",
    "    template = \"I want to open a restaurant for {cuisine} food. Suggest a fency name for this.\"\n",
    ")\n",
    "p = prompt_template_name.format(cuisine=\"Italian\")\n",
    "print(p)\n",
    "\n",
    "print(llm.invoke(p))"
   ]
  },
  {
   "cell_type": "markdown",
   "id": "ba591d0c",
   "metadata": {},
   "source": [
    "# Chains"
   ]
  },
  {
   "cell_type": "markdown",
   "id": "62b4808f",
   "metadata": {},
   "source": [
    "input --> chain1 --> intermediate output --> chain2 --> final output  \n",
    "\n",
    "`Simple sequential` chain `does not` return `intermediate output`.  \n",
    "Whereas `regular sequential` chain `does` return `the intermiadiate output`."
   ]
  },
  {
   "cell_type": "code",
   "execution_count": 11,
   "id": "652b7f92",
   "metadata": {},
   "outputs": [
    {
     "name": "stdout",
     "output_type": "stream",
     "text": [
      "\n",
      "\n",
      "\u001b[1m> Entering new LLMChain chain...\u001b[0m\n",
      "Prompt after formatting:\n",
      "\u001b[32;1m\u001b[1;3mI want to open a restaurant for Mexican food. Suggest a fency name for this.\u001b[0m\n",
      "\n",
      "\u001b[1m> Finished chain.\u001b[0m\n"
     ]
    },
    {
     "data": {
      "text/plain": [
       "{'cuisine': 'Mexican', 'text': '\\n\\n\"Casa de Sabor\"'}"
      ]
     },
     "execution_count": 11,
     "metadata": {},
     "output_type": "execute_result"
    }
   ],
   "source": [
    "from langchain.chains import LLMChain\n",
    "\n",
    "chain = LLMChain(llm=llm, prompt=prompt_template_name, verbose=True)\n",
    "chain.invoke(\"Mexican\")"
   ]
  },
  {
   "cell_type": "markdown",
   "id": "82c52ff0",
   "metadata": {},
   "source": [
    "##### Before diving deep into Sequential chains, lets copy paste the above code and name it `name_chain` and add another chain- `food_items_chain`"
   ]
  },
  {
   "cell_type": "code",
   "execution_count": null,
   "id": "ed1365c5",
   "metadata": {},
   "outputs": [],
   "source": []
  },
  {
   "cell_type": "markdown",
   "id": "62754f39",
   "metadata": {},
   "source": [
    "### Simple Sequential Chain"
   ]
  },
  {
   "cell_type": "code",
   "execution_count": null,
   "id": "554ffa7d",
   "metadata": {},
   "outputs": [],
   "source": [
    "# Setting up chains\n",
    "\n",
    "llm = OpenAI(temperature=0.6)\n",
    "\n",
    "prompt_template_name = PromptTemplate(\n",
    "    input_variables =['cuisine'],\n",
    "    template = \"I want to open a restaurant for {cuisine} food. Suggest a fancy name for this.\"\n",
    ")\n",
    "name_chain =LLMChain(llm=llm, prompt=prompt_template_name)\n",
    "\n",
    "prompt_template_items = PromptTemplate(\n",
    "    input_variables = ['restaurant_name'],\n",
    "    template=\"\"\"Suggest some menu items for {restaurant_name}\"\"\"\n",
    ")\n",
    "food_items_chain = LLMChain(llm=llm, prompt=prompt_template_items)"
   ]
  },
  {
   "cell_type": "code",
   "execution_count": null,
   "id": "be7c7ae3",
   "metadata": {},
   "outputs": [
    {
     "name": "stdout",
     "output_type": "stream",
     "text": [
      "{'input': 'Indian', 'output': '\\n\\n1. Chicken Tikka Masala\\n2. Vegetable Samosas\\n3. Lamb Vindaloo\\n4. Palak Paneer (spinach and cottage cheese curry)\\n5. Tandoori Chicken\\n6. Chana Masala (chickpea curry)\\n7. Aloo Gobi (potato and cauliflower curry)\\n8. Butter Chicken\\n9. Biryani (spiced rice dish)\\n10. Naan bread\\n11. Mango Lassi (yogurt drink)\\n12. Vegetable Korma\\n13. Dal Makhani (creamy lentil dish)\\n14. Tandoori Fish\\n15. Gulab Jamun (sweet fried dumplings in syrup)'}\n"
     ]
    }
   ],
   "source": [
    "from langchain.chains import SimpleSequentialChain\n",
    "\n",
    "chain = SimpleSequentialChain(chains = [name_chain, food_items_chain])\n",
    "\n",
    "content = chain.invoke(\"Indian\")\n",
    "print(content)"
   ]
  },
  {
   "cell_type": "markdown",
   "id": "0d12f250",
   "metadata": {},
   "source": [
    "### Sequential Chain"
   ]
  },
  {
   "cell_type": "code",
   "execution_count": null,
   "id": "a4b8c259",
   "metadata": {},
   "outputs": [],
   "source": [
    "# Setting up chains\n",
    "\n",
    "llm = OpenAI(temperature=0.7)\n",
    "\n",
    "prompt_template_name = PromptTemplate(\n",
    "    input_variables =['cuisine'],\n",
    "    template = \"I want to open a restaurant for {cuisine} food. Suggest a fency name for this.\"\n",
    ")\n",
    "\n",
    "name_chain =LLMChain(llm=llm, prompt=prompt_template_name, output_key=\"restaurant_name\")\n",
    "\n",
    "prompt_template_items = PromptTemplate(\n",
    "    input_variables = ['restaurant_name'],\n",
    "    template=\"Suggest some menu items for {restaurant_name}.\"\n",
    ")\n",
    "\n",
    "food_items_chain =LLMChain(llm=llm, prompt=prompt_template_items, output_key=\"menu_items\")"
   ]
  },
  {
   "cell_type": "code",
   "execution_count": 19,
   "id": "4f10f552",
   "metadata": {},
   "outputs": [
    {
     "name": "stdout",
     "output_type": "stream",
     "text": [
      "{'cuisine': 'Indian', 'restaurant_name': '\\n\\n\"Spice Palace\"', 'menu_items': '\\n\\n1. Chicken Tikka Masala\\n2. Lamb Vindaloo\\n3. Vegetable Biryani\\n4. Samosas\\n5. Garlic Naan\\n6. Tandoori Shrimp\\n7. Saag Paneer\\n8. Chana Masala\\n9. Mango Lassi\\n10. Butter Chicken\\n11. Aloo Gobi\\n12. Tandoori Chicken\\n13. Palak Paneer\\n14. Vegetable Korma\\n15. Gulab Jamun (dessert)'}\n"
     ]
    }
   ],
   "source": [
    "from langchain.chains import SequentialChain\n",
    "\n",
    "chain = SequentialChain(\n",
    "    chains = [name_chain, food_items_chain],\n",
    "    input_variables = ['cuisine'],\n",
    "    output_variables = ['restaurant_name', \"menu_items\"]\n",
    ")\n",
    "\n",
    "content = chain.invoke({\"cuisine\": \"Indian\"})\n",
    "print(content)"
   ]
  },
  {
   "cell_type": "markdown",
   "id": "5b1bb7f7",
   "metadata": {},
   "source": [
    "# Agents"
   ]
  },
  {
   "cell_type": "code",
   "execution_count": 12,
   "id": "e3be958d",
   "metadata": {},
   "outputs": [
    {
     "name": "stdout",
     "output_type": "stream",
     "text": [
      "\n",
      "\n",
      "\u001b[1m> Entering new AgentExecutor chain...\u001b[0m\n",
      "\u001b[32;1m\u001b[1;3m I should use duckduckgo_search to find the GDP of the US in 2024.\n",
      "Action: duckduckgo_search\n",
      "Action Input: \"US GDP 2024\"\u001b[0m"
     ]
    },
    {
     "name": "stderr",
     "output_type": "stream",
     "text": [
      "d:\\code\\ai-learning-projects\\nlp-genai\\.venv\\lib\\site-packages\\langchain_community\\utilities\\duckduckgo_search.py:63: RuntimeWarning: This package (`duckduckgo_search`) has been renamed to `ddgs`! Use `pip install ddgs` instead.\n",
      "  with DDGS() as ddgs:\n"
     ]
    },
    {
     "name": "stdout",
     "output_type": "stream",
     "text": [
      "\n",
      "Observation: \u001b[36;1m\u001b[1;3mThe GDP figure in 2024 was $29,184,900 million, United States is the world's leading economy with regard to GDP, as can be seen in the … Mar 27, 2025 · Real GDP increased 2.8 percent in 2024 (from the 2023 annual level to the 2024 annual level), the same as previously … Jul 5, 2024 · This graph shows a forecast of the gross domestic product of the United States of America for fiscal years 2024 to 2034. GDP … The Gross Domestic Product (GDP) in the United States was worth 29184.89 billion US dollars in 2024, according to official data from the World … United States GDP Is estimated To be $27,614,913,366,428 by the end of 2024 by World Economics. This estimate for United States …\u001b[0m\n",
      "Thought:\u001b[32;1m\u001b[1;3m Now I need to add 5 to the GDP figure.\n",
      "Action: Calculator\n",
      "Action Input: 29184.89 billion + 5 trillion\u001b[0m\n",
      "Observation: \u001b[33;1m\u001b[1;3mAnswer: 34184890000000.0\u001b[0m\n",
      "Thought:\u001b[32;1m\u001b[1;3m I now know the final answer.\n",
      "Final Answer: The GDP of the US in 2024 plus 5 trillion is $34.18 trillion.\u001b[0m\n",
      "\n",
      "\u001b[1m> Finished chain.\u001b[0m\n",
      "{'input': 'Find the GDP of the US in 2024 from the web and then add 5 to it. Give the answer in trillions.', 'output': 'The GDP of the US in 2024 plus 5 trillion is $34.18 trillion.'}\n"
     ]
    }
   ],
   "source": [
    "from langchain_openai import OpenAI\n",
    "from langchain_community.tools.ddg_search import DuckDuckGoSearchRun\n",
    "from langchain.chains.llm_math.base import LLMMathChain\n",
    "from langchain.agents import initialize_agent, AgentType, Tool\n",
    "\n",
    "llm = OpenAI(temperature=0)\n",
    "\n",
    "# Search tool\n",
    "search = DuckDuckGoSearchRun()\n",
    "\n",
    "# Math chain as a tool\n",
    "llm_math_chain = LLMMathChain.from_llm(llm=llm)\n",
    "math_tool = Tool(\n",
    "    name=\"Calculator\",\n",
    "    func=llm_math_chain.run,\n",
    "    description=\"Useful for when you need to do math\"\n",
    ")\n",
    "\n",
    "# Agent setup\n",
    "tools = [search, math_tool]\n",
    "agent = initialize_agent(\n",
    "    tools,\n",
    "    llm,\n",
    "    agent=AgentType.ZERO_SHOT_REACT_DESCRIPTION,\n",
    "    verbose=True\n",
    ")\n",
    "\n",
    "# Run query\n",
    "result = agent.invoke({\"input\":\"Find the GDP of the US in 2024 from the web and then add 5 to it. Give the answer in trillions.\"})\n",
    "print(result)\n"
   ]
  },
  {
   "cell_type": "markdown",
   "id": "ebab4a7e",
   "metadata": {},
   "source": [
    "# Memory"
   ]
  },
  {
   "cell_type": "markdown",
   "id": "b8d5d448",
   "metadata": {},
   "source": [
    "### Conversation Buffer Memory"
   ]
  },
  {
   "cell_type": "code",
   "execution_count": 22,
   "id": "cb9c7f4c",
   "metadata": {},
   "outputs": [
    {
     "name": "stdout",
     "output_type": "stream",
     "text": [
      "{'cuisine': 'Mexican', 'history': '', 'text': '\\n\\n\"El Sabor Exquisito\" (The Exquisite Flavor)'}\n"
     ]
    }
   ],
   "source": [
    "from langchain.memory import ConversationBufferMemory\n",
    "\n",
    "memory = ConversationBufferMemory()\n",
    "\n",
    "chain = LLMChain(llm=llm, prompt=prompt_template_name, memory=memory)\n",
    "\n",
    "name = chain.invoke(\"Mexican\")\n",
    "print(name)"
   ]
  },
  {
   "cell_type": "code",
   "execution_count": 23,
   "id": "f52c2c3f",
   "metadata": {},
   "outputs": [
    {
     "name": "stdout",
     "output_type": "stream",
     "text": [
      "Human: Mexican\n",
      "AI: \n",
      "\n",
      "\"El Sabor Exquisito\" (The Exquisite Flavor)\n"
     ]
    }
   ],
   "source": [
    "print(chain.memory.buffer)"
   ]
  },
  {
   "cell_type": "markdown",
   "id": "7193b5dd",
   "metadata": {},
   "source": [
    "### ConversationChain "
   ]
  },
  {
   "cell_type": "code",
   "execution_count": 27,
   "id": "74e31a2a",
   "metadata": {},
   "outputs": [
    {
     "data": {
      "text/plain": [
       "{'input': 'Who won the first cricket world cup?',\n",
       " 'history': '',\n",
       " 'response': ' The first cricket world cup was won by the West Indies in 1975. They defeated Australia in the final match by 17 runs. The tournament was held in England and featured eight teams. The West Indies, led by captain Clive Lloyd, had a strong team with players like Viv Richards, Gordon Greenidge, and Andy Roberts. They were considered the favorites going into the tournament and lived up to expectations by winning the final. The West Indies went on to win the next world cup in 1979 as well, solidifying their dominance in the sport.'}"
      ]
     },
     "execution_count": 27,
     "metadata": {},
     "output_type": "execute_result"
    }
   ],
   "source": [
    "from langchain.chains import ConversationChain\n",
    "\n",
    "convo = ConversationChain(llm=OpenAI(temperature=0.7))\n",
    "\n",
    "convo.invoke(\"Who won the first cricket world cup?\")"
   ]
  },
  {
   "cell_type": "code",
   "execution_count": 28,
   "id": "35a92e15",
   "metadata": {},
   "outputs": [
    {
     "data": {
      "text/plain": [
       "{'input': 'How much is 5+5?',\n",
       " 'history': 'Human: Who won the first cricket world cup?\\nAI:  The first cricket world cup was won by the West Indies in 1975. They defeated Australia in the final match by 17 runs. The tournament was held in England and featured eight teams. The West Indies, led by captain Clive Lloyd, had a strong team with players like Viv Richards, Gordon Greenidge, and Andy Roberts. They were considered the favorites going into the tournament and lived up to expectations by winning the final. The West Indies went on to win the next world cup in 1979 as well, solidifying their dominance in the sport.',\n",
       " 'response': ' The answer to 5+5 is 10. This is a basic addition problem that can be solved by adding 5 to 5, resulting in a sum of 10. Addition is a fundamental mathematical operation that involves combining two or more numbers to find a total or sum. It is often represented with the \"+\" symbol and is one of the first math concepts taught in elementary school. '}"
      ]
     },
     "execution_count": 28,
     "metadata": {},
     "output_type": "execute_result"
    }
   ],
   "source": [
    "convo.invoke(\"How much is 5+5?\")"
   ]
  },
  {
   "cell_type": "code",
   "execution_count": 29,
   "id": "4ba4d92b",
   "metadata": {},
   "outputs": [
    {
     "data": {
      "text/plain": [
       "{'input': 'Who was the captain ofthe winning team?',\n",
       " 'history': 'Human: Who won the first cricket world cup?\\nAI:  The first cricket world cup was won by the West Indies in 1975. They defeated Australia in the final match by 17 runs. The tournament was held in England and featured eight teams. The West Indies, led by captain Clive Lloyd, had a strong team with players like Viv Richards, Gordon Greenidge, and Andy Roberts. They were considered the favorites going into the tournament and lived up to expectations by winning the final. The West Indies went on to win the next world cup in 1979 as well, solidifying their dominance in the sport.\\nHuman: How much is 5+5?\\nAI:  The answer to 5+5 is 10. This is a basic addition problem that can be solved by adding 5 to 5, resulting in a sum of 10. Addition is a fundamental mathematical operation that involves combining two or more numbers to find a total or sum. It is often represented with the \"+\" symbol and is one of the first math concepts taught in elementary school. ',\n",
       " 'response': ' The captain of the winning team, the West Indies, was Clive Lloyd. He was a dominant force in the tournament, leading his team to victory with his strong leadership and impressive batting skills. Lloyd was a left-handed batsman and a medium-paced bowler, known for his aggressive and powerful playing style. He also captained the West Indies to victory in the 1979 World Cup and is considered one of the greatest captains in cricket history.'}"
      ]
     },
     "execution_count": 29,
     "metadata": {},
     "output_type": "execute_result"
    }
   ],
   "source": [
    "convo.invoke(\"Who was the captain ofthe winning team?\")"
   ]
  },
  {
   "cell_type": "code",
   "execution_count": 30,
   "id": "c1b7fda4",
   "metadata": {},
   "outputs": [
    {
     "name": "stdout",
     "output_type": "stream",
     "text": [
      "Human: Who won the first cricket world cup?\n",
      "AI:  The first cricket world cup was won by the West Indies in 1975. They defeated Australia in the final match by 17 runs. The tournament was held in England and featured eight teams. The West Indies, led by captain Clive Lloyd, had a strong team with players like Viv Richards, Gordon Greenidge, and Andy Roberts. They were considered the favorites going into the tournament and lived up to expectations by winning the final. The West Indies went on to win the next world cup in 1979 as well, solidifying their dominance in the sport.\n",
      "Human: How much is 5+5?\n",
      "AI:  The answer to 5+5 is 10. This is a basic addition problem that can be solved by adding 5 to 5, resulting in a sum of 10. Addition is a fundamental mathematical operation that involves combining two or more numbers to find a total or sum. It is often represented with the \"+\" symbol and is one of the first math concepts taught in elementary school. \n",
      "Human: Who was the captain ofthe winning team?\n",
      "AI:  The captain of the winning team, the West Indies, was Clive Lloyd. He was a dominant force in the tournament, leading his team to victory with his strong leadership and impressive batting skills. Lloyd was a left-handed batsman and a medium-paced bowler, known for his aggressive and powerful playing style. He also captained the West Indies to victory in the 1979 World Cup and is considered one of the greatest captains in cricket history.\n"
     ]
    }
   ],
   "source": [
    "print(convo.memory.buffer)"
   ]
  },
  {
   "cell_type": "markdown",
   "id": "6ac24560",
   "metadata": {},
   "source": [
    "##### See the llm remembers the context but this can be restricted to save memory"
   ]
  },
  {
   "cell_type": "markdown",
   "id": "e158755b",
   "metadata": {},
   "source": [
    "# ConversationBufferWindowMemory"
   ]
  },
  {
   "cell_type": "code",
   "execution_count": 34,
   "id": "4a82a949",
   "metadata": {},
   "outputs": [
    {
     "data": {
      "text/plain": [
       "{'input': 'Who won the first cricket world cup?',\n",
       " 'history': '',\n",
       " 'response': ' The first cricket world cup was won by the West Indies in 1975.'}"
      ]
     },
     "execution_count": 34,
     "metadata": {},
     "output_type": "execute_result"
    }
   ],
   "source": [
    "from langchain.memory import ConversationBufferWindowMemory\n",
    "\n",
    "memory = ConversationBufferWindowMemory(k=1)\n",
    "\n",
    "convo = ConversationChain(\n",
    "    llm=OpenAI(temperature=0.7),\n",
    "    memory=memory\n",
    ")\n",
    "convo.invoke(\"Who won the first cricket world cup?\")"
   ]
  },
  {
   "cell_type": "code",
   "execution_count": 35,
   "id": "565ee343",
   "metadata": {},
   "outputs": [
    {
     "data": {
      "text/plain": [
       "{'input': 'How much is 5+5?',\n",
       " 'history': 'Human: Who won the first cricket world cup?\\nAI:  The first cricket world cup was won by the West Indies in 1975.',\n",
       " 'response': '  5+5 is equal to 10.'}"
      ]
     },
     "execution_count": 35,
     "metadata": {},
     "output_type": "execute_result"
    }
   ],
   "source": [
    "convo.invoke(\"How much is 5+5?\")"
   ]
  },
  {
   "cell_type": "code",
   "execution_count": 36,
   "id": "64e7410a",
   "metadata": {},
   "outputs": [
    {
     "data": {
      "text/plain": [
       "{'input': 'Who was the captain of the winning team?',\n",
       " 'history': 'Human: How much is 5+5?\\nAI:   5+5 is equal to 10.',\n",
       " 'response': ' I do not have enough context to accurately answer that question. Can you provide more information?'}"
      ]
     },
     "execution_count": 36,
     "metadata": {},
     "output_type": "execute_result"
    }
   ],
   "source": [
    "convo.invoke(\"Who was the captain of the winning team?\")"
   ]
  },
  {
   "cell_type": "markdown",
   "id": "3997d40f",
   "metadata": {},
   "source": [
    "##### Now the llm do not have the context, hence cannot answer the question"
   ]
  }
 ],
 "metadata": {
  "kernelspec": {
   "display_name": ".venv",
   "language": "python",
   "name": "python3"
  },
  "language_info": {
   "codemirror_mode": {
    "name": "ipython",
    "version": 3
   },
   "file_extension": ".py",
   "mimetype": "text/x-python",
   "name": "python",
   "nbconvert_exporter": "python",
   "pygments_lexer": "ipython3",
   "version": "3.10.0"
  }
 },
 "nbformat": 4,
 "nbformat_minor": 5
}
