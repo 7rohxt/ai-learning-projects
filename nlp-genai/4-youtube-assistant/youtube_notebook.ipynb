{
 "cells": [
  {
   "cell_type": "markdown",
   "id": "7199e00d",
   "metadata": {},
   "source": [
    "# Import Libraries"
   ]
  },
  {
   "cell_type": "code",
   "execution_count": 1,
   "id": "93592199",
   "metadata": {},
   "outputs": [],
   "source": [
    "from dotenv import load_dotenv\n",
    "from youtube_transcript_api import YouTubeTranscriptApi\n",
    "from langchain.schema import Document\n",
    "from langchain.text_splitter import RecursiveCharacterTextSplitter\n",
    "from langchain_openai import OpenAIEmbeddings\n",
    "from langchain_community.vectorstores import FAISS\n",
    "from langchain_openai import ChatOpenAI\n",
    "from langchain.prompts import ChatPromptTemplate"
   ]
  },
  {
   "cell_type": "code",
   "execution_count": 2,
   "id": "d7e93a6a",
   "metadata": {},
   "outputs": [],
   "source": [
    "load_dotenv()\n",
    "embeddings = OpenAIEmbeddings()"
   ]
  },
  {
   "cell_type": "markdown",
   "id": "ebd09dde",
   "metadata": {},
   "source": [
    "# Get Transcription from Youtube Url"
   ]
  },
  {
   "cell_type": "code",
   "execution_count": 3,
   "id": "fbc3ce8c",
   "metadata": {},
   "outputs": [],
   "source": [
    "def get_transcript_text(video_url: str, languages=['en']) -> str:\n",
    "    video_id = video_url.split(\"v=\")[-1]\n",
    "    ytt = YouTubeTranscriptApi()\n",
    "    transcript_list = ytt.list(video_id)\n",
    "    transcript = transcript_list.find_transcript(languages)\n",
    "    fetched = transcript.fetch()\n",
    "    return \" \".join([snippet.text for snippet in fetched])"
   ]
  },
  {
   "cell_type": "code",
   "execution_count": 4,
   "id": "c7cbbc80",
   "metadata": {},
   "outputs": [
    {
     "name": "stdout",
     "output_type": "stream",
     "text": [
      "Now we are at 480 trillion... Is there still time to sleep? When do you get up, when do you go to sleep? I think first of all the education system \n",
      "needs to adapt... Can we still trust our eyes while scrolling through the internet? Okay let's be honest, what has been happening in the world of tech over the last few years is absolutely insane. Smartphones are turning into smart glasses we are seeing tech startups pop out of nowhere that either fail completely or go on to change the entire world. Artificial intelligence is THE tech topic for years now and I got to talk all about it with this man right here, Sunda Pichai, the CEO of Google  he told me what he really thinks about AI answering questions like  Are we about to \n",
      "be replaced in our jobs? Or how is this actually going to work out here on social media?  And a quick heads up for my German speaking community:  I've decided to make this entire video in English, but you can turn on the German subtitles  that I've added for you right here on YouTube.  So then, hi, I'm Jay and you're watching my interview with the CEO of Google. Hello again and thank you very much \n",
      "for your time, I really appreciate it talking to  you. It's a real pleasure! I would like to start with a with a simple question so as   a CEO of Google, of Alphabet, you do have a lot of,  lot of things to do every day, is there still time to sleep? When do you get up, when do you go to sleep?  Look, I mean, of course you know sleep is   important, you know I try to get 6 hours that's my goal. And I, you know, I think I average around there. It's an exciting time in the industry but, you know, I've always been a late night person. I tend to catch up towards the end of the day, but yeah that's what I do  So of course you have got lots of responsibility, you're the CEO of Google, that means Search, YouTube, Maps  and so on, of course Gemini plays maybe the biggest role \n",
      "nowadays  for you and your company. Now we've got AI overview, every search now is basically a kind of   AI request, can you approximately say how many AI request does Gemini basically process maybe  every second, every minute, something like that so we can get a number of how important Gemini is for you as a company? I mean, I'll share this   a couple metrics for you: One is what we call AI Overviews, are being used by 1.5 billion people every month, but if you look at the tokens processed... Last year at IO we were roughly at 9.7, now we are at 480 trillion we are processing across our \n",
      "infrastructure. So maybe for the younger people, may you just explain what  one token means for just a normal search? If you type in a, like query which is like three words or something, you know it could be anywhere  from like 8 to 10 tokens.   Or more, but you know, so that's what it means. That's why we say, this is, we are operating at the scale of human curiosity, right that's what it is. Just getting more I guess? Yeah, just getting more... So just as a quick reminder, what exactly are tokens  in the world of AI ? The thing is a computer cannot read a sentence we type in the same way as humans can. Instead to understand the text faster it breaks it down into smaller individual parts, the so-called  \"Tokens\". One token can be a whole word like \"and\" or \"hello\",  but a word can also be split into two tokens   for example \"foot-ball\" or \"week-end\"  Or even into three tokens for words like \"un-friend-ly\" or \"in-depend-ence\"   A token can also be a patch of pixels from an image \n",
      "or a snippet of an audio track. So really, this is the basic unit we use to measure AI  I collected a lot of question out of my community. It was very hard sorting them out. Did you use AI to sort it out? No, I still...  So you did the hard work? I did actually do the work by myself...  Let's stick to maybe three big questions my community   was very interested in.  The first one, I would ask you to please imagine as me being a programmer, a software developer, sitting in front of you, just finished my education. And of course you at Alphabet you have a lot of software developers, lots of programmer at your company. Now we saw Canvas in Gemini, we saw project Jules. What would you tell me if I tell you   as a programmer, as a software developer that I'm  afraid that AI will maybe replace my job someday. You know, look, I can tell you from our Google's own experience, you know, we've been deploying AI to help our engineers, and you know we are continuing to hire engineers. Right, I think because we, it will   enable us to do more as a company. But I think if you're a developer, you get to spend more of your time on the problem solving, on the creative, on architecting and once these tools get even better you know there are things which you know how to do but it's going to just take a long time to do it. Think about in web design the amount \n",
      "of time you've spent getting dealing with CSS or something like that. Just having these programs do that mundane work for you and then   you being able to edit it the way you want it. I think it just allows all of us to be more   creative, right, and you know, you're a YouTube creator, you make videos, tomorrow if we give you   tools which makes the process of creating those videos easier you're going to use it and   so I think, you know, I understand the concern  but I think we are definitely at a phase where  it'll allow more people to become programmers, but the very good programmers can become even better. And you know so that's the way I I see it. Just like Google Docs or Microsoft Word didn't make what authors do different. So you know I think there's a lot of room for developers, but I would lean in, learn these tools while I'm also occasionally testing my own fundamentals deeply. I think both are going to be important. Okay, so you think we'll still need these developers in future? Absolutely! Let's stick to this roleplay, I think it makes us understand a bit better. I'm switching off from \n",
      "a software developer to a let's say 15year-old student. I know you have kids by yourself,  I know many people in this age group like   let's say 12 to 18 and up Do profit from this artificial intelligence by maybe letting it do the homework, by just not having to do the work by yourself anymore. If I would be such a student, sitting in front of you and I tell you this I use Gemini for doing my homework, it works way faster, I can search anything up that I want to in just a second,  what would you tell me, why should I still do the homework by myself  and just still go to school and learn my things?  I think first of all, look, the education system needs to adapt. I think if it stays where it is you're going to see   people do more and more like that. But I think, you know, gain in the context of a classroom I still feel, for example in history, is the emphasis really on remembering dates and events or more broadly understanding the implications of what happened and what what we can learn for the future from it? So I think it's shifting the emphasis from the former to the latter  Totally agree... I think in each subject allowing people to spend more time on what is the creative part, what is  the implications and the learning part is what education needs to evolve. These tools are going to force it to evolve in that direction. Look, I can still be a professor and I can say at the end  of the class I'm still going to interview students for 10 minutes, and ask them a few questions, if you do that, if you've just done everything, using Gemini or some other AI tool you're not going to be able to do that right? So I think, I see over the last year, I see more   and more teachers beginning to adapt and embrace this so we will go through some of a turbulent phase but I think people will get used to \n",
      "it. Having access to Google search, do you think, over the, like when you were a student you probably  had access to Google search? Of course! Do you think that helped you or like... Of course, of course it did.  So it's a version of that, right, these are   all, you know, super versions of that. So I think it'll be pretty positive over time. Okay so you think the system itself has to adapt to the AI era? That's right! I find both of these answers incredibly fascinating,  because it means nothing less than  the majority of our life is set to change we're   We're talking about the entire span here from the age of 5 to 7 when you start your school career,  all the way to when you transition from your job into retirement between 60 and 70, or even later. And when it comes to topics like the school system  I've made videos on that a long time ago. And yes, I can at least speak for us here in Germany when I say things desperately need to change! On the other hand of course and I see this as the biggest challenge, we constantly have to make sure that AI is here to support humans, not to replace them. The first industries are already facing this   exact challenge but I'd love to hear your opinion on this  so let me know in the comments down below. Do you prefer coffee or tea in the morning? I drink tea in the morning and then switch to coffee later in the day. Light mode or dark mode for your phone? I use search in light mode, Gemini in dark mode. Short form video or long form video? I still prefer long form video, I love learning on YouTube and so I love the longer form content. Traditional smartphone or smart glasses?   Since, you know, I have prescription, I wear glasses all the time I can't wait for these glasses to be smarter than they are. Me neither... Yeah there you go... So maybe one last big question as we have just some time left... Let's switch back to me as a creator, I'm doing video content, I'm recording video content, editing it and uploading it. Scrolling through social media shows me a lot of artificial generated content already. Many studies say there will be more artificial content in future than real recorded video. It's a bit a simplified question but can we still trust our eyes while scrolling through the internet? I think part of it is over time, there will be moments and places where people will value that  human experience, I do think it's important over time to kind of label what are AI generated versus not, and so all this we have to evolve as norms. And I think we are in the early stages \n",
      "of this technology. I think it's always going to be important for you  to know whether something really \n",
      "happened or you're looking at something which is a fake, so I think people will want like objective sources of truth. Journalism will matter, human voices will matter. But AI will also play a extraordinary role, you know, so for example   tomorrow I can say I want to learn on a topic, find all the content and create a personalized course for me. It may still involve content from creators but you know, so you can have these interesting paradigms  coming together, too. So I hope people will be able to differentiate between those...  Thank you very much and hope to talk to you again in a future interview, it was very exciting! Likewise, thank you, great seeing you!  Of course, at this point I want to say thank you,  first to Sundar Pichai for taking the time, but also to you guys, because it's only due to your support that interviews like this are even possible for me in the first place. I'll see you in the next video which by the way will be back in German,  I promise, until then, see you all, bye-bye\n"
     ]
    }
   ],
   "source": [
    "video_url = \"https://www.youtube.com/watch?v=Pqb19IaWwOE\"\n",
    "print(get_transcript_text(video_url))"
   ]
  },
  {
   "cell_type": "markdown",
   "id": "8ebfff3e",
   "metadata": {},
   "source": [
    "# Create FAISS Vector Database"
   ]
  },
  {
   "cell_type": "code",
   "execution_count": 5,
   "id": "a5ab325b",
   "metadata": {},
   "outputs": [],
   "source": [
    "def create_db_from_youtube_video_url(video_url: str) -> FAISS:\n",
    "\n",
    "    transcript_text = get_transcript_text(video_url)\n",
    "\n",
    "    docs = [Document(page_content=transcript_text, metadata={\"source\": video_url})]\n",
    "\n",
    "    text_splitter = RecursiveCharacterTextSplitter(chunk_size=1000, chunk_overlap=100)\n",
    "    split_docs = text_splitter.split_documents(docs)\n",
    "\n",
    "    db = FAISS.from_documents(split_docs, embeddings)\n",
    "    return db"
   ]
  },
  {
   "cell_type": "code",
   "execution_count": 11,
   "id": "85a0ce08",
   "metadata": {},
   "outputs": [
    {
     "name": "stdout",
     "output_type": "stream",
     "text": [
      "FAISS DB Summary:\n",
      "- Total chunks: 17\n",
      "- Metadata example: {'source': 'https://www.youtube.com/watch?v=Pqb19IaWwOE'}\n"
     ]
    }
   ],
   "source": [
    "db = create_db_from_youtube_video_url(video_url)\n",
    "print(\"FAISS DB Summary:\")\n",
    "print(f\"- Total chunks: {len(db.docstore._dict)}\")\n",
    "print(f\"- Metadata example: {next(iter(db.docstore._dict.values())).metadata}\")"
   ]
  },
  {
   "cell_type": "markdown",
   "id": "9c19be12",
   "metadata": {},
   "source": [
    "# Run Q&A on Transcript"
   ]
  },
  {
   "cell_type": "code",
   "execution_count": 8,
   "id": "04872e5e",
   "metadata": {},
   "outputs": [],
   "source": [
    "def get_response_from_query(db, query, k=4):\n",
    "\n",
    "    docs = db.similarity_search(query, k=k)\n",
    "    docs_page_content = \" \".join([d.page_content for d in docs])\n",
    "\n",
    "    llm = ChatOpenAI(model_name=\"gpt-3.5-turbo\", temperature=0)\n",
    "\n",
    "    prompt = ChatPromptTemplate.from_template(\"\"\"\n",
    "    You are a helpful assistant that can answer questions about YouTube videos \n",
    "    based on the video's transcript.\n",
    "\n",
    "    Question: {question}\n",
    "    Transcript: {docs}\n",
    "\n",
    "    Give a short, concise answer in 1-2 sentences only.\n",
    "    Only use factual information from the transcript.\n",
    "    If the transcript doesn't have enough info, say \"I don't know\".\n",
    "    \"\"\")\n",
    "\n",
    "    chain = prompt | llm\n",
    "\n",
    "    result = chain.invoke({\"question\": query, \"docs\": docs_page_content})\n",
    "    return result.content.strip()"
   ]
  },
  {
   "cell_type": "code",
   "execution_count": 9,
   "id": "1b88141c",
   "metadata": {},
   "outputs": [
    {
     "name": "stdout",
     "output_type": "stream",
     "text": [
      "Question: What are the main topics discussed in the video?\n",
      "Answer: The main topics discussed in the video are the implications of technology on education, the role of artificial intelligence, the importance of journalism, and the future of personalized learning.\n"
     ]
    }
   ],
   "source": [
    "query = \"What are the main topics discussed in the video?\"\n",
    "response = get_response_from_query(db, query)\n",
    "\n",
    "print(f\"Question: {query}\")\n",
    "print(f\"Answer: { response}\")"
   ]
  }
 ],
 "metadata": {
  "kernelspec": {
   "display_name": ".venv",
   "language": "python",
   "name": "python3"
  },
  "language_info": {
   "codemirror_mode": {
    "name": "ipython",
    "version": 3
   },
   "file_extension": ".py",
   "mimetype": "text/x-python",
   "name": "python",
   "nbconvert_exporter": "python",
   "pygments_lexer": "ipython3",
   "version": "3.11.0"
  }
 },
 "nbformat": 4,
 "nbformat_minor": 5
}
