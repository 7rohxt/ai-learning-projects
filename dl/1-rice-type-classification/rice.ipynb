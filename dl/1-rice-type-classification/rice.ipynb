{
 "cells": [
  {
   "cell_type": "markdown",
   "id": "fe4be294",
   "metadata": {},
   "source": [
    "# Importing Libraries"
   ]
  },
  {
   "cell_type": "code",
   "execution_count": 22,
   "id": "9708a507",
   "metadata": {},
   "outputs": [],
   "source": [
    "import torch \n",
    "import torch.nn as nn \n",
    "from torch.optim import Adam\n",
    "from torch.utils.data import Dataset, DataLoader \n",
    "from torchsummary import summary \n",
    "\n",
    "from sklearn.preprocessing import StandardScaler\n",
    "from sklearn.model_selection import train_test_split \n",
    "from sklearn.metrics import accuracy_score \n",
    "\n",
    "import matplotlib.pyplot as plt \n",
    "import pandas as pd\n",
    "import numpy as np "
   ]
  },
  {
   "cell_type": "code",
   "execution_count": 3,
   "id": "26145ae6",
   "metadata": {},
   "outputs": [],
   "source": [
    "device = 'cuda' if torch.cuda.is_available() else 'cpu'"
   ]
  },
  {
   "cell_type": "markdown",
   "id": "cf683c49",
   "metadata": {},
   "source": [
    "# Data Loading and Exploration"
   ]
  },
  {
   "cell_type": "code",
   "execution_count": 4,
   "id": "5fb6ed24",
   "metadata": {},
   "outputs": [
    {
     "data": {
      "text/html": [
       "<div>\n",
       "<style scoped>\n",
       "    .dataframe tbody tr th:only-of-type {\n",
       "        vertical-align: middle;\n",
       "    }\n",
       "\n",
       "    .dataframe tbody tr th {\n",
       "        vertical-align: top;\n",
       "    }\n",
       "\n",
       "    .dataframe thead th {\n",
       "        text-align: right;\n",
       "    }\n",
       "</style>\n",
       "<table border=\"1\" class=\"dataframe\">\n",
       "  <thead>\n",
       "    <tr style=\"text-align: right;\">\n",
       "      <th></th>\n",
       "      <th>id</th>\n",
       "      <th>Area</th>\n",
       "      <th>MajorAxisLength</th>\n",
       "      <th>MinorAxisLength</th>\n",
       "      <th>Eccentricity</th>\n",
       "      <th>ConvexArea</th>\n",
       "      <th>EquivDiameter</th>\n",
       "      <th>Extent</th>\n",
       "      <th>Perimeter</th>\n",
       "      <th>Roundness</th>\n",
       "      <th>AspectRation</th>\n",
       "      <th>Class</th>\n",
       "    </tr>\n",
       "  </thead>\n",
       "  <tbody>\n",
       "    <tr>\n",
       "      <th>0</th>\n",
       "      <td>1</td>\n",
       "      <td>4537</td>\n",
       "      <td>92.229316</td>\n",
       "      <td>64.012769</td>\n",
       "      <td>0.719916</td>\n",
       "      <td>4677</td>\n",
       "      <td>76.004525</td>\n",
       "      <td>0.657536</td>\n",
       "      <td>273.085</td>\n",
       "      <td>0.764510</td>\n",
       "      <td>1.440796</td>\n",
       "      <td>1</td>\n",
       "    </tr>\n",
       "    <tr>\n",
       "      <th>1</th>\n",
       "      <td>2</td>\n",
       "      <td>2872</td>\n",
       "      <td>74.691881</td>\n",
       "      <td>51.400454</td>\n",
       "      <td>0.725553</td>\n",
       "      <td>3015</td>\n",
       "      <td>60.471018</td>\n",
       "      <td>0.713009</td>\n",
       "      <td>208.317</td>\n",
       "      <td>0.831658</td>\n",
       "      <td>1.453137</td>\n",
       "      <td>1</td>\n",
       "    </tr>\n",
       "    <tr>\n",
       "      <th>2</th>\n",
       "      <td>3</td>\n",
       "      <td>3048</td>\n",
       "      <td>76.293164</td>\n",
       "      <td>52.043491</td>\n",
       "      <td>0.731211</td>\n",
       "      <td>3132</td>\n",
       "      <td>62.296341</td>\n",
       "      <td>0.759153</td>\n",
       "      <td>210.012</td>\n",
       "      <td>0.868434</td>\n",
       "      <td>1.465950</td>\n",
       "      <td>1</td>\n",
       "    </tr>\n",
       "    <tr>\n",
       "      <th>3</th>\n",
       "      <td>4</td>\n",
       "      <td>3073</td>\n",
       "      <td>77.033628</td>\n",
       "      <td>51.928487</td>\n",
       "      <td>0.738639</td>\n",
       "      <td>3157</td>\n",
       "      <td>62.551300</td>\n",
       "      <td>0.783529</td>\n",
       "      <td>210.657</td>\n",
       "      <td>0.870203</td>\n",
       "      <td>1.483456</td>\n",
       "      <td>1</td>\n",
       "    </tr>\n",
       "    <tr>\n",
       "      <th>4</th>\n",
       "      <td>5</td>\n",
       "      <td>3693</td>\n",
       "      <td>85.124785</td>\n",
       "      <td>56.374021</td>\n",
       "      <td>0.749282</td>\n",
       "      <td>3802</td>\n",
       "      <td>68.571668</td>\n",
       "      <td>0.769375</td>\n",
       "      <td>230.332</td>\n",
       "      <td>0.874743</td>\n",
       "      <td>1.510000</td>\n",
       "      <td>1</td>\n",
       "    </tr>\n",
       "  </tbody>\n",
       "</table>\n",
       "</div>"
      ],
      "text/plain": [
       "   id  Area  MajorAxisLength  MinorAxisLength  Eccentricity  ConvexArea  \\\n",
       "0   1  4537        92.229316        64.012769      0.719916        4677   \n",
       "1   2  2872        74.691881        51.400454      0.725553        3015   \n",
       "2   3  3048        76.293164        52.043491      0.731211        3132   \n",
       "3   4  3073        77.033628        51.928487      0.738639        3157   \n",
       "4   5  3693        85.124785        56.374021      0.749282        3802   \n",
       "\n",
       "   EquivDiameter    Extent  Perimeter  Roundness  AspectRation  Class  \n",
       "0      76.004525  0.657536    273.085   0.764510      1.440796      1  \n",
       "1      60.471018  0.713009    208.317   0.831658      1.453137      1  \n",
       "2      62.296341  0.759153    210.012   0.868434      1.465950      1  \n",
       "3      62.551300  0.783529    210.657   0.870203      1.483456      1  \n",
       "4      68.571668  0.769375    230.332   0.874743      1.510000      1  "
      ]
     },
     "execution_count": 4,
     "metadata": {},
     "output_type": "execute_result"
    }
   ],
   "source": [
    "df = pd.read_csv(\"riceClassification.csv\")\n",
    "df.head()"
   ]
  },
  {
   "cell_type": "code",
   "execution_count": 5,
   "id": "19009bf1",
   "metadata": {},
   "outputs": [
    {
     "data": {
      "text/plain": [
       "(18185, 12)"
      ]
     },
     "execution_count": 5,
     "metadata": {},
     "output_type": "execute_result"
    }
   ],
   "source": [
    "df.shape"
   ]
  },
  {
   "cell_type": "code",
   "execution_count": 6,
   "id": "431a9ce1",
   "metadata": {},
   "outputs": [
    {
     "name": "stdout",
     "output_type": "stream",
     "text": [
      "<class 'pandas.core.frame.DataFrame'>\n",
      "RangeIndex: 18185 entries, 0 to 18184\n",
      "Data columns (total 12 columns):\n",
      " #   Column           Non-Null Count  Dtype  \n",
      "---  ------           --------------  -----  \n",
      " 0   id               18185 non-null  int64  \n",
      " 1   Area             18185 non-null  int64  \n",
      " 2   MajorAxisLength  18185 non-null  float64\n",
      " 3   MinorAxisLength  18185 non-null  float64\n",
      " 4   Eccentricity     18185 non-null  float64\n",
      " 5   ConvexArea       18185 non-null  int64  \n",
      " 6   EquivDiameter    18185 non-null  float64\n",
      " 7   Extent           18185 non-null  float64\n",
      " 8   Perimeter        18185 non-null  float64\n",
      " 9   Roundness        18185 non-null  float64\n",
      " 10  AspectRation     18185 non-null  float64\n",
      " 11  Class            18185 non-null  int64  \n",
      "dtypes: float64(8), int64(4)\n",
      "memory usage: 1.7 MB\n"
     ]
    }
   ],
   "source": [
    "df.info()"
   ]
  },
  {
   "cell_type": "code",
   "execution_count": 7,
   "id": "225efba7",
   "metadata": {},
   "outputs": [
    {
     "data": {
      "text/plain": [
       "Class\n",
       "1    9985\n",
       "0    8200\n",
       "Name: count, dtype: int64"
      ]
     },
     "execution_count": 7,
     "metadata": {},
     "output_type": "execute_result"
    }
   ],
   "source": [
    "df.Class.value_counts() # To check Class imbalance"
   ]
  },
  {
   "cell_type": "markdown",
   "id": "b2587e1e",
   "metadata": {},
   "source": [
    "# Data Preprocessing"
   ]
  },
  {
   "cell_type": "code",
   "execution_count": 8,
   "id": "47b11ae3",
   "metadata": {},
   "outputs": [],
   "source": [
    "X = df.drop(columns=\"Class\", axis=1)\n",
    "y = df[\"Class\"]"
   ]
  },
  {
   "cell_type": "code",
   "execution_count": 9,
   "id": "0451a18e",
   "metadata": {},
   "outputs": [
    {
     "name": "stdout",
     "output_type": "stream",
     "text": [
      "(12729, 11)\n",
      "(12729,)\n",
      "(2728, 11)\n",
      "(2728,)\n",
      "(2728, 11)\n",
      "(2728,)\n"
     ]
    }
   ],
   "source": [
    "X_train, X_test, y_train, y_test = train_test_split(X, y, test_size=0.3) \n",
    "X_test, X_val, y_test, y_val = train_test_split(X_test, y_test, test_size = 0.5)\n",
    "\n",
    "print(X_train.shape)\n",
    "print(y_train.shape)\n",
    "print(X_test.shape)\n",
    "print(y_test.shape)\n",
    "print(X_val.shape)\n",
    "print(y_val.shape)"
   ]
  },
  {
   "cell_type": "code",
   "execution_count": 10,
   "id": "c0f16b1c",
   "metadata": {},
   "outputs": [],
   "source": [
    "scaler = StandardScaler()\n",
    "\n",
    "X_train_scaled = scaler.fit_transform(X_train)\n",
    "X_test_scaled = scaler.transform(X_test) #no fit_transform\n",
    "X_val_scaled = scaler.transform(X_val)\n",
    "\n",
    "X_train = pd.DataFrame(X_train_scaled, columns=X_train.columns)\n",
    "X_test = pd.DataFrame(X_test_scaled, columns=X_test.columns)\n",
    "X_val = pd.DataFrame(X_val_scaled, columns=X_val.columns)"
   ]
  },
  {
   "cell_type": "markdown",
   "id": "0480dc94",
   "metadata": {},
   "source": [
    "After this we need to change the df to tensors\n",
    "\n",
    "`Method #1` -- quick and simple  \n",
    "\n",
    "X_train_tensor = torch.tensor(X_train.values, dtype=torch.float32)  \n",
    "y_train_tensor = torch.tensor(y_train.values, dtype=torch.long)\n",
    "\n",
    "`Method #2` -- Standard way - `TensorDataset + DataLoader`\n",
    "\n",
    "train_dataset = TensorDataset(X_train_tensor, y_train_tensor)   \n",
    "train_loader = DataLoader(train_dataset, batch_size=32, shuffle=True)\n",
    "\n",
    "`Method #3` -- By creating our own Dataset Class    \n",
    "\n",
    "from torch.utils.data import Dataset    \n",
    "class MyDataset(Dataset):  # Dataset is already a class, we are subclassing and modifying some of the functions\n",
    "    def __init__(self, X, y):  \n",
    "        self.X = torch.tensor(X.values, dtype=torch.float32)  \n",
    "        self.y = torch.tensor(y.values, dtype=torch.float32)    \n",
    "    def __len__(self):  \n",
    "        return len(self.X)    \n",
    "    def __getitem__(self, idx):  \n",
    "        return self.X[idx], self.y[idx]  \n",
    "train_dataset = MyDataset(X_train, y_train)"
   ]
  },
  {
   "cell_type": "markdown",
   "id": "aa993382",
   "metadata": {},
   "source": [
    "# Custom Dataset Class"
   ]
  },
  {
   "cell_type": "code",
   "execution_count": 11,
   "id": "9a89d265",
   "metadata": {},
   "outputs": [],
   "source": [
    "class MyDataset(Dataset):\n",
    "    def __init__(self, X, y):\n",
    "        self.X = torch.tensor(X.values, dtype=torch.float32).to(device)\n",
    "        self.y = torch.tensor(y.values, dtype=torch.float32).to(device)\n",
    "\n",
    "    def __len__(self):\n",
    "        return len(self.X)\n",
    "\n",
    "    def __getitem__(self, idx):\n",
    "        return self.X[idx], self.y[idx]"
   ]
  },
  {
   "cell_type": "markdown",
   "id": "49f3e6ca",
   "metadata": {},
   "source": [
    "#### Dataset Objects"
   ]
  },
  {
   "cell_type": "code",
   "execution_count": 12,
   "id": "6962a754",
   "metadata": {},
   "outputs": [],
   "source": [
    "train_dataset = MyDataset(X_train, y_train)\n",
    "test_dataset = MyDataset(X_test, y_test)\n",
    "val_dataset = MyDataset(X_val, y_val)"
   ]
  },
  {
   "cell_type": "markdown",
   "id": "3651b2c9",
   "metadata": {},
   "source": [
    "# Hyperparameters"
   ]
  },
  {
   "cell_type": "code",
   "execution_count": 13,
   "id": "945a7b8f",
   "metadata": {},
   "outputs": [],
   "source": [
    "BATCH_SIZE = 32\n",
    "EPOCHS = 10\n",
    "HIDDEN_NEURONS = 10\n",
    "LR = 1e-3"
   ]
  },
  {
   "cell_type": "markdown",
   "id": "7da22758",
   "metadata": {},
   "source": [
    "# DataLoaders"
   ]
  },
  {
   "cell_type": "code",
   "execution_count": 14,
   "id": "096e745c",
   "metadata": {},
   "outputs": [],
   "source": [
    "train_loader = DataLoader(train_dataset, batch_size=32, shuffle=True)\n",
    "test_loader = DataLoader(test_dataset, batch_size=32)\n",
    "val_loader = DataLoader(val_dataset, batch_size=32)"
   ]
  },
  {
   "cell_type": "code",
   "execution_count": 15,
   "id": "2adb137c",
   "metadata": {},
   "outputs": [
    {
     "name": "stdout",
     "output_type": "stream",
     "text": [
      "tensor([[-1.2615e+00, -1.2037e+00, -1.1612e+00, -1.0087e+00,  5.5476e-01,\n",
      "         -1.2291e+00, -1.2330e+00, -2.6377e-01, -1.3374e+00, -4.2266e-01,\n",
      "          3.8397e-01],\n",
      "        [ 5.9987e-01,  1.2315e+00,  3.2695e-01,  1.2879e+00, -1.0289e+00,\n",
      "          1.2228e+00,  1.2093e+00,  1.4236e+00,  9.1932e-01,  9.9412e-01,\n",
      "         -1.0575e+00],\n",
      "        [ 4.8020e-01,  7.3697e-01, -2.4620e-01,  1.0534e+00, -1.1404e+00,\n",
      "          7.5285e-01,  7.6031e-01,  2.5690e-02,  2.7827e-01,  1.1878e+00,\n",
      "         -1.1239e+00],\n",
      "        [ 1.5311e-01,  1.3989e+00,  2.7912e-01,  1.5712e+00, -1.3883e+00,\n",
      "          1.4291e+00,  1.3570e+00,  5.4099e-01,  1.1285e+00,  9.3802e-01,\n",
      "         -1.2615e+00],\n",
      "        [ 1.5762e+00,  1.8434e-01, -2.4820e-01,  3.3628e-01, -3.3963e-01,\n",
      "          1.6408e-01,  2.3424e-01, -2.3632e-01, -7.6594e-02,  6.5869e-01,\n",
      "         -5.6908e-01],\n",
      "        [-1.0499e+00, -4.2566e-01,  1.4829e-01, -5.7320e-01,  6.7470e-01,\n",
      "         -4.4337e-01, -3.8151e-01,  4.8202e-01, -1.9995e-01, -5.0268e-01,\n",
      "          5.5688e-01],\n",
      "        [-1.0392e+00, -1.0247e+00, -6.9925e-01, -9.4728e-01,  6.8142e-01,\n",
      "         -1.0515e+00, -1.0296e+00, -9.1049e-01, -1.0852e+00, -4.0699e-01,\n",
      "          5.6700e-01],\n",
      "        [-3.7648e-01, -1.2980e+00, -6.8662e-01, -1.2849e+00,  9.6716e-01,\n",
      "         -1.2818e+00, -1.3421e+00, -1.5122e+00, -9.9311e-01, -1.2963e+00,\n",
      "          1.0490e+00],\n",
      "        [-4.8304e-01, -6.3401e-01,  2.7046e-01, -8.4399e-01,  9.2545e-01,\n",
      "         -6.3628e-01, -6.0155e-01, -4.1171e-01, -2.6355e-01, -8.7575e-01,\n",
      "          9.7171e-01],\n",
      "        [ 5.4365e-01,  1.2807e+00,  4.0616e-01,  1.3760e+00, -1.0767e+00,\n",
      "          1.3129e+00,  1.2529e+00, -2.4308e-01,  9.6335e-01,  1.0090e+00,\n",
      "         -1.0863e+00],\n",
      "        [ 1.9015e-01,  1.4501e+00,  3.4970e-01,  1.5890e+00, -1.3594e+00,\n",
      "          1.4851e+00,  1.4018e+00, -1.7945e-01,  1.0098e+00,  1.2454e+00,\n",
      "         -1.2462e+00],\n",
      "        [-6.8173e-01, -4.8577e-01,  3.4540e-01, -7.0771e-01,  8.4585e-01,\n",
      "         -4.3870e-01, -4.4445e-01, -1.4271e+00,  2.9133e-01, -1.4185e+00,\n",
      "          8.3123e-01],\n",
      "        [-1.0550e+00, -4.1063e-01,  1.5499e-01, -5.6799e-01,  6.7283e-01,\n",
      "         -4.3536e-01, -3.6585e-01, -7.4558e-01, -2.7417e-01, -3.3991e-01,\n",
      "          5.5406e-01],\n",
      "        [ 1.0922e+00, -2.7811e-01, -1.0623e+00,  2.3614e-01, -7.1547e-01,\n",
      "         -2.7448e-01, -2.2883e-01, -1.3449e-01, -7.0165e-01,  7.8062e-01,\n",
      "         -8.5374e-01],\n",
      "        [-1.1068e+00, -9.4755e-01, -5.4358e-01, -8.4200e-01,  6.4867e-01,\n",
      "         -8.9729e-01, -9.4331e-01,  1.6109e+00, -8.1095e-01, -7.0266e-01,\n",
      "          5.1810e-01],\n",
      "        [ 3.1361e-01, -4.1746e-01,  1.4743e+00, -1.0696e+00,  1.3792e+00,\n",
      "         -3.9464e-01, -3.7297e-01, -1.9730e-01,  5.7119e-01, -1.6835e+00,\n",
      "          1.9912e+00],\n",
      "        [ 1.2552e+00,  1.2220e+00,  7.5946e-01,  1.1447e+00, -6.1893e-01,\n",
      "          1.2875e+00,  1.2008e+00, -5.4458e-01,  1.2862e+00,  3.4679e-01,\n",
      "         -7.8525e-01],\n",
      "        [-7.3397e-01, -5.4589e-01,  1.9194e-01, -7.4333e-01,  8.2418e-01,\n",
      "         -5.4750e-01, -5.0783e-01, -8.6779e-01, -2.4827e-01, -6.9740e-01,\n",
      "          7.9450e-01],\n",
      "        [ 2.4699e-02, -7.3852e-01,  4.4073e-01, -1.0912e+00,  1.1511e+00,\n",
      "         -7.2106e-01, -7.1400e-01, -8.8033e-01, -1.9988e-01, -1.2196e+00,\n",
      "          1.4249e+00],\n",
      "        [-8.0197e-01, -7.6448e-01, -1.7609e-01, -8.5707e-01,  7.9228e-01,\n",
      "         -7.6044e-01, -7.4215e-01, -2.7954e-01, -4.2676e-01, -9.1108e-01,\n",
      "          7.4152e-01],\n",
      "        [ 5.8700e-02, -4.8747e-03,  1.6166e+00, -6.7623e-01,  1.1724e+00,\n",
      "          7.2633e-02,  4.7479e-02, -8.6089e-01,  1.2743e+00, -1.8532e+00,\n",
      "          1.4726e+00],\n",
      "        [-1.6300e+00, -2.0569e+00, -3.1134e+00, -1.3737e+00, -5.3360e-02,\n",
      "         -2.0661e+00, -2.2808e+00, -6.1920e-01, -3.0094e+00,  3.3593e-01,\n",
      "         -3.1449e-01],\n",
      "        [-1.0269e+00, -5.7663e-01, -1.9635e-05, -6.5446e-01,  6.8873e-01,\n",
      "         -5.8755e-01, -5.4041e-01, -1.3285e+00, -4.8424e-01, -3.6244e-01,\n",
      "          5.7808e-01],\n",
      "        [ 6.6028e-01,  2.7451e-01, -6.7779e-01,  6.7631e-01, -9.8576e-01,\n",
      "          2.3618e-01,  3.2200e-01,  1.8681e+00, -2.6297e-01,  1.2272e+00,\n",
      "         -1.0310e+00],\n",
      "        [-2.8112e-01, -7.2501e-02,  1.2303e+00, -5.7336e-01,  1.0075e+00,\n",
      "         -8.9577e-02, -2.0161e-02, -1.0387e+00,  5.3437e-01, -9.3106e-01,\n",
      "          1.1265e+00],\n",
      "        [-1.6710e-02, -4.3932e-01,  8.6677e-01, -8.9517e-01,  1.1288e+00,\n",
      "         -4.6673e-01, -3.9578e-01, -1.6479e+00,  1.8673e-01, -1.1609e+00,\n",
      "          1.3759e+00],\n",
      "        [-5.7175e-01, -6.2255e-02,  1.0303e+00, -4.8841e-01,  8.9237e-01,\n",
      "         -8.0232e-02, -9.8818e-03,  1.6544e+00,  3.9329e-01, -6.8904e-01,\n",
      "          9.1225e-01],\n",
      "        [ 1.1249e+00,  1.1236e+00,  5.4828e-01,  1.1062e+00, -6.9798e-01,\n",
      "          1.1247e+00,  1.1129e+00, -5.7793e-01,  9.0519e-01,  8.1283e-01,\n",
      "         -8.4155e-01],\n",
      "        [-1.7059e+00, -1.8322e+00, -3.8576e+00, -5.3142e-01, -2.0770e+00,\n",
      "         -1.8665e+00, -1.9906e+00, -7.5128e-01, -3.0917e+00,  1.4439e+00,\n",
      "         -1.5855e+00],\n",
      "        [-1.2295e+00, -9.2979e-01, -6.8063e-01, -8.2132e-01,  5.7794e-01,\n",
      "         -9.4201e-01, -9.2359e-01,  1.5626e+00, -1.0366e+00, -2.4482e-01,\n",
      "          4.1626e-01],\n",
      "        [ 5.0793e-01,  1.1557e+00,  2.1807e-01,  1.2965e+00, -1.1097e+00,\n",
      "          1.1353e+00,  1.1417e+00,  1.6287e+00,  6.5392e-01,  1.3336e+00,\n",
      "         -1.1059e+00],\n",
      "        [-1.3386e+00, -3.2251e-01,  8.2722e-02, -3.9472e-01,  5.0261e-01,\n",
      "         -2.8650e-01, -2.7452e-01,  4.8034e-01,  4.5750e-01, -1.3255e+00,\n",
      "          3.1313e-01]], device='cuda:0')\n",
      "----------\n",
      "tensor([1., 0., 0., 0., 0., 1., 1., 1., 1., 0., 0., 1., 1., 0., 1., 1., 0., 1.,\n",
      "        1., 1., 1., 1., 1., 0., 1., 1., 1., 0., 1., 1., 0., 1.],\n",
      "       device='cuda:0')\n"
     ]
    }
   ],
   "source": [
    "for x,y in train_loader:  # sample of how data in X and y are stored in data loader\n",
    "    print(x)\n",
    "    print(\"----------\")\n",
    "    print(y)\n",
    "    break"
   ]
  },
  {
   "cell_type": "markdown",
   "id": "0a8ebcd5",
   "metadata": {},
   "source": [
    "# Model"
   ]
  },
  {
   "cell_type": "code",
   "execution_count": 16,
   "id": "1922ea77",
   "metadata": {},
   "outputs": [],
   "source": [
    "class MyModel(nn.Module):\n",
    "    def __init__(self):\n",
    "\n",
    "        super(MyModel, self).__init__()   # In dataset class we created constructor from scratch\n",
    "                                          # But here we are using same contructor of nn.module using super\n",
    "\n",
    "        self.input_layer = nn.Linear(X.shape[1], HIDDEN_NEURONS) # X.shape[1] return the input features \n",
    "        self.linear = nn.Linear(HIDDEN_NEURONS, 1)\n",
    "        self.sigmoid = nn.Sigmoid()\n",
    "\n",
    "    def forward(self, x):\n",
    "        x = self.input_layer(x)\n",
    "        x = self.linear(x)\n",
    "        x = self.sigmoid(x)\n",
    "        return x\n",
    "\n",
    "model = MyModel().to(device)"
   ]
  },
  {
   "cell_type": "markdown",
   "id": "b64aa32b",
   "metadata": {},
   "source": [
    "#### Why constructor__init()?\n",
    "\n",
    "By defining them in __init__(), PyTorch can:\n",
    "\n",
    "- Register them as learnable parameters\n",
    "\n",
    "- Track them for autograd\n",
    "\n",
    "- Save and load them correctly using .state_dict()"
   ]
  },
  {
   "cell_type": "markdown",
   "id": "02285b34",
   "metadata": {},
   "source": [
    "#### Model Summary"
   ]
  },
  {
   "cell_type": "code",
   "execution_count": 17,
   "id": "7f6889e6",
   "metadata": {},
   "outputs": [
    {
     "name": "stdout",
     "output_type": "stream",
     "text": [
      "----------------------------------------------------------------\n",
      "        Layer (type)               Output Shape         Param #\n",
      "================================================================\n",
      "            Linear-1                   [-1, 10]             120\n",
      "            Linear-2                    [-1, 1]              11\n",
      "           Sigmoid-3                    [-1, 1]               0\n",
      "================================================================\n",
      "Total params: 131\n",
      "Trainable params: 131\n",
      "Non-trainable params: 0\n",
      "----------------------------------------------------------------\n",
      "Input size (MB): 0.00\n",
      "Forward/backward pass size (MB): 0.00\n",
      "Params size (MB): 0.00\n",
      "Estimated Total Size (MB): 0.00\n",
      "----------------------------------------------------------------\n"
     ]
    }
   ],
   "source": [
    "summary(model, (X.shape[1],))  # for pytorch you need to pass input shape too unlike tensorflow"
   ]
  },
  {
   "cell_type": "markdown",
   "id": "6f67ccf8",
   "metadata": {},
   "source": [
    "# Loss and Optimizer"
   ]
  },
  {
   "cell_type": "code",
   "execution_count": 18,
   "id": "de976303",
   "metadata": {},
   "outputs": [],
   "source": [
    "criterion = nn.BCELoss() # binary cross-entropy loss\n",
    "optimizer = Adam(model.parameters(), lr= LR)"
   ]
  },
  {
   "cell_type": "markdown",
   "id": "f404796a",
   "metadata": {},
   "source": [
    "# Training and Validation"
   ]
  },
  {
   "cell_type": "code",
   "execution_count": 19,
   "id": "f972044a",
   "metadata": {},
   "outputs": [
    {
     "name": "stdout",
     "output_type": "stream",
     "text": [
      "Epoch 1/10, Train Loss: 0.0979, Val Loss: 0.0169\n",
      "Epoch 2/10, Train Loss: 0.0132, Val Loss: 0.0064\n",
      "Epoch 3/10, Train Loss: 0.0068, Val Loss: 0.0033\n",
      "Epoch 4/10, Train Loss: 0.0041, Val Loss: 0.0020\n",
      "Epoch 5/10, Train Loss: 0.0027, Val Loss: 0.0013\n",
      "Epoch 6/10, Train Loss: 0.0020, Val Loss: 0.0009\n",
      "Epoch 7/10, Train Loss: 0.0015, Val Loss: 0.0007\n",
      "Epoch 8/10, Train Loss: 0.0012, Val Loss: 0.0005\n",
      "Epoch 9/10, Train Loss: 0.0010, Val Loss: 0.0004\n",
      "Epoch 10/10, Train Loss: 0.0008, Val Loss: 0.0003\n"
     ]
    }
   ],
   "source": [
    "train_losses = []\n",
    "val_losses = []\n",
    "\n",
    "for epoch in range(EPOCHS):\n",
    "    model.train()\n",
    "    epoch_loss = 0.0\n",
    "\n",
    "    for inputs, labels in train_loader:\n",
    "        outputs = model(inputs).squeeze()\n",
    "        loss = criterion(outputs, labels)\n",
    "\n",
    "        optimizer.zero_grad()\n",
    "        loss.backward()\n",
    "        optimizer.step()\n",
    "\n",
    "        epoch_loss += loss.item()\n",
    "\n",
    "    avg_train_loss = epoch_loss / len(train_loader)\n",
    "    train_losses.append(avg_train_loss)\n",
    "    \n",
    "    model.eval()  \n",
    "    val_loss = 0.0\n",
    "\n",
    "    with torch.no_grad():  \n",
    "        for inputs, labels in val_loader:\n",
    "            outputs = model(inputs).squeeze()\n",
    "            loss = criterion(outputs, labels)\n",
    "            val_loss += loss.item()\n",
    "\n",
    "    avg_val_loss = val_loss / len(val_loader)\n",
    "    val_losses.append(avg_val_loss)\n",
    "\n",
    "    print(f\"Epoch {epoch+1}/{EPOCHS}, Train Loss: {avg_train_loss:.4f}, Val Loss: {avg_val_loss:.4f}\")\n"
   ]
  },
  {
   "cell_type": "markdown",
   "id": "4386c9c1",
   "metadata": {},
   "source": [
    "# Visualizing Training and Validation loss"
   ]
  },
  {
   "cell_type": "code",
   "execution_count": 20,
   "id": "f07868bd",
   "metadata": {},
   "outputs": [
    {
     "data": {
      "image/png": "[encoded data removed]",
      "text/plain": [
       "<Figure size 1000x600 with 1 Axes>"
      ]
     },
     "metadata": {},
     "output_type": "display_data"
    }
   ],
   "source": [
    "plt.figure(figsize=(10, 6))\n",
    "plt.plot(range(1, EPOCHS+1), train_losses, label='Train Loss')\n",
    "plt.plot(range(1, EPOCHS+1), val_losses, label='Validation Loss')\n",
    "plt.xlabel('Epoch')\n",
    "plt.ylabel('Loss')\n",
    "plt.title('Training vs Validation Loss')\n",
    "plt.legend()\n",
    "plt.grid(True)\n",
    "plt.show()"
   ]
  },
  {
   "cell_type": "markdown",
   "id": "87b2f7a1",
   "metadata": {},
   "source": [
    "# Testing and Evaluation"
   ]
  },
  {
   "cell_type": "code",
   "execution_count": 21,
   "id": "103f9df3",
   "metadata": {},
   "outputs": [
    {
     "name": "stdout",
     "output_type": "stream",
     "text": [
      "Test Accuracy: 1.0000\n"
     ]
    }
   ],
   "source": [
    "model.eval()\n",
    "with torch.no_grad():\n",
    "    correct = 0\n",
    "    total = 0\n",
    "\n",
    "    for inputs, labels in test_loader:\n",
    "        outputs = model(inputs).squeeze()\n",
    "        predicted = (outputs >= 0.5).float()  \n",
    "        correct += (predicted == labels).sum().item()\n",
    "        total += labels.size(0)\n",
    "\n",
    "    accuracy = correct / total\n",
    "    print(f\"Test Accuracy: {accuracy:.4f}\")\n"
   ]
  }
 ],
 "metadata": {
  "kernelspec": {
   "display_name": "Python 3",
   "language": "python",
   "name": "python3"
  },
  "language_info": {
   "codemirror_mode": {
    "name": "ipython",
    "version": 3
   },
   "file_extension": ".py",
   "mimetype": "text/x-python",
   "name": "python",
   "nbconvert_exporter": "python",
   "pygments_lexer": "ipython3",
   "version": "3.10.0"
  }
 },
 "nbformat": 4,
 "nbformat_minor": 5
}
