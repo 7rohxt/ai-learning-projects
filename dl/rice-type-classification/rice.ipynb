{
 "cells": [
  {
   "cell_type": "markdown",
   "id": "fe4be294",
   "metadata": {},
   "source": [
    "# Importing Libraries"
   ]
  },
  {
   "cell_type": "code",
   "execution_count": 4,
   "id": "9708a507",
   "metadata": {},
   "outputs": [],
   "source": [
    "import torch \n",
    "import torch.nn as nn \n",
    "from torch.optim import Adam\n",
    "from torch.utils.data import Dataset, DataLoader \n",
    "from torchsummary import summary \n",
    "from sklearn.model_selection import train_test_split \n",
    "from sklearn.metrics import accuracy_score \n",
    "import matplotlib.pyplot as plt \n",
    "import pandas as pd\n",
    "import numpy as np "
   ]
  },
  {
   "cell_type": "code",
   "execution_count": 5,
   "id": "e19868a0",
   "metadata": {},
   "outputs": [],
   "source": [
    "from sklearn.preprocessing import StandardScaler"
   ]
  },
  {
   "cell_type": "code",
   "execution_count": 6,
   "id": "26145ae6",
   "metadata": {},
   "outputs": [],
   "source": [
    "device = 'cuda' if torch.cuda.is_available() else 'cpu'"
   ]
  },
  {
   "cell_type": "markdown",
   "id": "cf683c49",
   "metadata": {},
   "source": [
    "# Data Loading and Exploration"
   ]
  },
  {
   "cell_type": "code",
   "execution_count": 7,
   "id": "5fb6ed24",
   "metadata": {},
   "outputs": [
    {
     "data": {
      "text/html": [
       "<div>\n",
       "<style scoped>\n",
       "    .dataframe tbody tr th:only-of-type {\n",
       "        vertical-align: middle;\n",
       "    }\n",
       "\n",
       "    .dataframe tbody tr th {\n",
       "        vertical-align: top;\n",
       "    }\n",
       "\n",
       "    .dataframe thead th {\n",
       "        text-align: right;\n",
       "    }\n",
       "</style>\n",
       "<table border=\"1\" class=\"dataframe\">\n",
       "  <thead>\n",
       "    <tr style=\"text-align: right;\">\n",
       "      <th></th>\n",
       "      <th>id</th>\n",
       "      <th>Area</th>\n",
       "      <th>MajorAxisLength</th>\n",
       "      <th>MinorAxisLength</th>\n",
       "      <th>Eccentricity</th>\n",
       "      <th>ConvexArea</th>\n",
       "      <th>EquivDiameter</th>\n",
       "      <th>Extent</th>\n",
       "      <th>Perimeter</th>\n",
       "      <th>Roundness</th>\n",
       "      <th>AspectRation</th>\n",
       "      <th>Class</th>\n",
       "    </tr>\n",
       "  </thead>\n",
       "  <tbody>\n",
       "    <tr>\n",
       "      <th>0</th>\n",
       "      <td>1</td>\n",
       "      <td>4537</td>\n",
       "      <td>92.229316</td>\n",
       "      <td>64.012769</td>\n",
       "      <td>0.719916</td>\n",
       "      <td>4677</td>\n",
       "      <td>76.004525</td>\n",
       "      <td>0.657536</td>\n",
       "      <td>273.085</td>\n",
       "      <td>0.764510</td>\n",
       "      <td>1.440796</td>\n",
       "      <td>1</td>\n",
       "    </tr>\n",
       "    <tr>\n",
       "      <th>1</th>\n",
       "      <td>2</td>\n",
       "      <td>2872</td>\n",
       "      <td>74.691881</td>\n",
       "      <td>51.400454</td>\n",
       "      <td>0.725553</td>\n",
       "      <td>3015</td>\n",
       "      <td>60.471018</td>\n",
       "      <td>0.713009</td>\n",
       "      <td>208.317</td>\n",
       "      <td>0.831658</td>\n",
       "      <td>1.453137</td>\n",
       "      <td>1</td>\n",
       "    </tr>\n",
       "    <tr>\n",
       "      <th>2</th>\n",
       "      <td>3</td>\n",
       "      <td>3048</td>\n",
       "      <td>76.293164</td>\n",
       "      <td>52.043491</td>\n",
       "      <td>0.731211</td>\n",
       "      <td>3132</td>\n",
       "      <td>62.296341</td>\n",
       "      <td>0.759153</td>\n",
       "      <td>210.012</td>\n",
       "      <td>0.868434</td>\n",
       "      <td>1.465950</td>\n",
       "      <td>1</td>\n",
       "    </tr>\n",
       "    <tr>\n",
       "      <th>3</th>\n",
       "      <td>4</td>\n",
       "      <td>3073</td>\n",
       "      <td>77.033628</td>\n",
       "      <td>51.928487</td>\n",
       "      <td>0.738639</td>\n",
       "      <td>3157</td>\n",
       "      <td>62.551300</td>\n",
       "      <td>0.783529</td>\n",
       "      <td>210.657</td>\n",
       "      <td>0.870203</td>\n",
       "      <td>1.483456</td>\n",
       "      <td>1</td>\n",
       "    </tr>\n",
       "    <tr>\n",
       "      <th>4</th>\n",
       "      <td>5</td>\n",
       "      <td>3693</td>\n",
       "      <td>85.124785</td>\n",
       "      <td>56.374021</td>\n",
       "      <td>0.749282</td>\n",
       "      <td>3802</td>\n",
       "      <td>68.571668</td>\n",
       "      <td>0.769375</td>\n",
       "      <td>230.332</td>\n",
       "      <td>0.874743</td>\n",
       "      <td>1.510000</td>\n",
       "      <td>1</td>\n",
       "    </tr>\n",
       "  </tbody>\n",
       "</table>\n",
       "</div>"
      ],
      "text/plain": [
       "   id  Area  MajorAxisLength  MinorAxisLength  Eccentricity  ConvexArea  \\\n",
       "0   1  4537        92.229316        64.012769      0.719916        4677   \n",
       "1   2  2872        74.691881        51.400454      0.725553        3015   \n",
       "2   3  3048        76.293164        52.043491      0.731211        3132   \n",
       "3   4  3073        77.033628        51.928487      0.738639        3157   \n",
       "4   5  3693        85.124785        56.374021      0.749282        3802   \n",
       "\n",
       "   EquivDiameter    Extent  Perimeter  Roundness  AspectRation  Class  \n",
       "0      76.004525  0.657536    273.085   0.764510      1.440796      1  \n",
       "1      60.471018  0.713009    208.317   0.831658      1.453137      1  \n",
       "2      62.296341  0.759153    210.012   0.868434      1.465950      1  \n",
       "3      62.551300  0.783529    210.657   0.870203      1.483456      1  \n",
       "4      68.571668  0.769375    230.332   0.874743      1.510000      1  "
      ]
     },
     "execution_count": 7,
     "metadata": {},
     "output_type": "execute_result"
    }
   ],
   "source": [
    "df = pd.read_csv(\"riceClassification.csv\")\n",
    "df.head()"
   ]
  },
  {
   "cell_type": "code",
   "execution_count": 8,
   "id": "19009bf1",
   "metadata": {},
   "outputs": [
    {
     "data": {
      "text/plain": [
       "(18185, 12)"
      ]
     },
     "execution_count": 8,
     "metadata": {},
     "output_type": "execute_result"
    }
   ],
   "source": [
    "df.shape"
   ]
  },
  {
   "cell_type": "code",
   "execution_count": 9,
   "id": "431a9ce1",
   "metadata": {},
   "outputs": [
    {
     "name": "stdout",
     "output_type": "stream",
     "text": [
      "<class 'pandas.core.frame.DataFrame'>\n",
      "RangeIndex: 18185 entries, 0 to 18184\n",
      "Data columns (total 12 columns):\n",
      " #   Column           Non-Null Count  Dtype  \n",
      "---  ------           --------------  -----  \n",
      " 0   id               18185 non-null  int64  \n",
      " 1   Area             18185 non-null  int64  \n",
      " 2   MajorAxisLength  18185 non-null  float64\n",
      " 3   MinorAxisLength  18185 non-null  float64\n",
      " 4   Eccentricity     18185 non-null  float64\n",
      " 5   ConvexArea       18185 non-null  int64  \n",
      " 6   EquivDiameter    18185 non-null  float64\n",
      " 7   Extent           18185 non-null  float64\n",
      " 8   Perimeter        18185 non-null  float64\n",
      " 9   Roundness        18185 non-null  float64\n",
      " 10  AspectRation     18185 non-null  float64\n",
      " 11  Class            18185 non-null  int64  \n",
      "dtypes: float64(8), int64(4)\n",
      "memory usage: 1.7 MB\n"
     ]
    }
   ],
   "source": [
    "df.info()"
   ]
  },
  {
   "cell_type": "code",
   "execution_count": 10,
   "id": "225efba7",
   "metadata": {},
   "outputs": [
    {
     "data": {
      "text/plain": [
       "Class\n",
       "1    9985\n",
       "0    8200\n",
       "Name: count, dtype: int64"
      ]
     },
     "execution_count": 10,
     "metadata": {},
     "output_type": "execute_result"
    }
   ],
   "source": [
    "df.Class.value_counts() # To check Class imbalance"
   ]
  },
  {
   "cell_type": "markdown",
   "id": "b2587e1e",
   "metadata": {},
   "source": [
    "# Data Preprocessing"
   ]
  },
  {
   "cell_type": "code",
   "execution_count": 11,
   "id": "47b11ae3",
   "metadata": {},
   "outputs": [],
   "source": [
    "X = df.drop(columns=\"Class\", axis=1)\n",
    "y = df[\"Class\"]"
   ]
  },
  {
   "cell_type": "code",
   "execution_count": 12,
   "id": "0451a18e",
   "metadata": {},
   "outputs": [
    {
     "name": "stdout",
     "output_type": "stream",
     "text": [
      "(14548, 11)\n",
      "(14548,)\n",
      "(3637, 11)\n",
      "(3637,)\n"
     ]
    }
   ],
   "source": [
    "X_train, X_test, y_train, y_test = train_test_split(X, y, test_size=0.2) \n",
    "\n",
    "print(X_train.shape)\n",
    "print(y_train.shape)\n",
    "print(X_test.shape)\n",
    "print(y_test.shape)"
   ]
  },
  {
   "cell_type": "code",
   "execution_count": 13,
   "id": "c0f16b1c",
   "metadata": {},
   "outputs": [
    {
     "data": {
      "text/html": [
       "<div>\n",
       "<style scoped>\n",
       "    .dataframe tbody tr th:only-of-type {\n",
       "        vertical-align: middle;\n",
       "    }\n",
       "\n",
       "    .dataframe tbody tr th {\n",
       "        vertical-align: top;\n",
       "    }\n",
       "\n",
       "    .dataframe thead th {\n",
       "        text-align: right;\n",
       "    }\n",
       "</style>\n",
       "<table border=\"1\" class=\"dataframe\">\n",
       "  <thead>\n",
       "    <tr style=\"text-align: right;\">\n",
       "      <th></th>\n",
       "      <th>id</th>\n",
       "      <th>Area</th>\n",
       "      <th>MajorAxisLength</th>\n",
       "      <th>MinorAxisLength</th>\n",
       "      <th>Eccentricity</th>\n",
       "      <th>ConvexArea</th>\n",
       "      <th>EquivDiameter</th>\n",
       "      <th>Extent</th>\n",
       "      <th>Perimeter</th>\n",
       "      <th>Roundness</th>\n",
       "      <th>AspectRation</th>\n",
       "    </tr>\n",
       "  </thead>\n",
       "  <tbody>\n",
       "    <tr>\n",
       "      <th>0</th>\n",
       "      <td>-1.708500</td>\n",
       "      <td>-1.942610</td>\n",
       "      <td>-3.798442</td>\n",
       "      <td>-0.752670</td>\n",
       "      <td>-1.603407</td>\n",
       "      <td>-1.962882</td>\n",
       "      <td>-2.131433</td>\n",
       "      <td>-0.661549</td>\n",
       "      <td>-3.217686</td>\n",
       "      <td>1.359629</td>\n",
       "      <td>-1.372520</td>\n",
       "    </tr>\n",
       "    <tr>\n",
       "      <th>1</th>\n",
       "      <td>-1.639981</td>\n",
       "      <td>-1.215735</td>\n",
       "      <td>-1.768125</td>\n",
       "      <td>-0.709684</td>\n",
       "      <td>-0.048594</td>\n",
       "      <td>-1.205721</td>\n",
       "      <td>-1.246396</td>\n",
       "      <td>-0.240483</td>\n",
       "      <td>-1.785956</td>\n",
       "      <td>0.463359</td>\n",
       "      <td>-0.311069</td>\n",
       "    </tr>\n",
       "    <tr>\n",
       "      <th>2</th>\n",
       "      <td>-1.566894</td>\n",
       "      <td>-1.066545</td>\n",
       "      <td>-1.293598</td>\n",
       "      <td>-0.742850</td>\n",
       "      <td>0.234282</td>\n",
       "      <td>-1.075979</td>\n",
       "      <td>-1.076228</td>\n",
       "      <td>-0.596847</td>\n",
       "      <td>-1.309548</td>\n",
       "      <td>-0.085909</td>\n",
       "      <td>-0.016378</td>\n",
       "    </tr>\n",
       "    <tr>\n",
       "      <th>3</th>\n",
       "      <td>-0.478969</td>\n",
       "      <td>-0.374413</td>\n",
       "      <td>0.666214</td>\n",
       "      <td>-0.690304</td>\n",
       "      <td>0.928796</td>\n",
       "      <td>-0.360070</td>\n",
       "      <td>-0.327951</td>\n",
       "      <td>1.138451</td>\n",
       "      <td>0.212934</td>\n",
       "      <td>-1.065322</td>\n",
       "      <td>0.981206</td>\n",
       "    </tr>\n",
       "    <tr>\n",
       "      <th>4</th>\n",
       "      <td>0.089165</td>\n",
       "      <td>-0.602626</td>\n",
       "      <td>0.780478</td>\n",
       "      <td>-1.027162</td>\n",
       "      <td>1.191702</td>\n",
       "      <td>-0.602255</td>\n",
       "      <td>-0.567751</td>\n",
       "      <td>-0.272407</td>\n",
       "      <td>0.204604</td>\n",
       "      <td>-1.541874</td>\n",
       "      <td>1.523601</td>\n",
       "    </tr>\n",
       "  </tbody>\n",
       "</table>\n",
       "</div>"
      ],
      "text/plain": [
       "         id      Area  MajorAxisLength  MinorAxisLength  Eccentricity  \\\n",
       "0 -1.708500 -1.942610        -3.798442        -0.752670     -1.603407   \n",
       "1 -1.639981 -1.215735        -1.768125        -0.709684     -0.048594   \n",
       "2 -1.566894 -1.066545        -1.293598        -0.742850      0.234282   \n",
       "3 -0.478969 -0.374413         0.666214        -0.690304      0.928796   \n",
       "4  0.089165 -0.602626         0.780478        -1.027162      1.191702   \n",
       "\n",
       "   ConvexArea  EquivDiameter    Extent  Perimeter  Roundness  AspectRation  \n",
       "0   -1.962882      -2.131433 -0.661549  -3.217686   1.359629     -1.372520  \n",
       "1   -1.205721      -1.246396 -0.240483  -1.785956   0.463359     -0.311069  \n",
       "2   -1.075979      -1.076228 -0.596847  -1.309548  -0.085909     -0.016378  \n",
       "3   -0.360070      -0.327951  1.138451   0.212934  -1.065322      0.981206  \n",
       "4   -0.602255      -0.567751 -0.272407   0.204604  -1.541874      1.523601  "
      ]
     },
     "execution_count": 13,
     "metadata": {},
     "output_type": "execute_result"
    }
   ],
   "source": [
    "scaler = StandardScaler()\n",
    "\n",
    "scaled_train = scaler.fit_transform(X_train)\n",
    "X_train = pd.DataFrame(scaled_train, columns=X_train.columns)\n",
    "\n",
    "X_train.head()"
   ]
  },
  {
   "cell_type": "markdown",
   "id": "0480dc94",
   "metadata": {},
   "source": [
    "After this we need to change the df to tensors\n",
    "\n",
    "`Method #1` -- quick and simple  \n",
    "\n",
    "X_train_tensor = torch.tensor(X_train.values, dtype=torch.float32)  \n",
    "y_train_tensor = torch.tensor(y_train.values, dtype=torch.long)\n",
    "\n",
    "`Method #2` -- Standard way - `TensorDataset + DataLoader`\n",
    "\n",
    "train_dataset = TensorDataset(X_train_tensor, y_train_tensor)   \n",
    "train_loader = DataLoader(train_dataset, batch_size=32, shuffle=True)\n",
    "\n",
    "`Method #3` -- By creating our own Dataset Class    \n",
    "\n",
    "from torch.utils.data import Dataset    \n",
    "class MyDataset(Dataset):  # Dataset is already a class, we are subclassing and modifying some of the functions\n",
    "    def __init__(self, X, y):  \n",
    "        self.X = torch.tensor(X.values, dtype=torch.float32)  \n",
    "        self.y = torch.tensor(y.values, dtype=torch.float32)    \n",
    "    def __len__(self):  \n",
    "        return len(self.X)    \n",
    "    def __getitem__(self, idx):  \n",
    "        return self.X[idx], self.y[idx]  \n",
    "train_dataset = MyDataset(X_train, y_train)"
   ]
  },
  {
   "cell_type": "code",
   "execution_count": 14,
   "id": "9a89d265",
   "metadata": {},
   "outputs": [],
   "source": [
    "class MyDataset(Dataset):\n",
    "    def __init__(self, X, y):\n",
    "        self.X = torch.tensor(X.values, dtype=torch.float32).to(device)\n",
    "        self.y = torch.tensor(y.values, dtype=torch.float32).to(device)\n",
    "\n",
    "    def __len__(self):\n",
    "        return len(self.X)\n",
    "\n",
    "    def __getitem__(self, idx):\n",
    "        return self.X[idx], self.y[idx]"
   ]
  },
  {
   "cell_type": "code",
   "execution_count": 15,
   "id": "6962a754",
   "metadata": {},
   "outputs": [],
   "source": [
    "train_dataset = MyDataset(X_train, y_train)"
   ]
  },
  {
   "cell_type": "code",
   "execution_count": 16,
   "id": "096e745c",
   "metadata": {},
   "outputs": [],
   "source": [
    "train_loader = DataLoader(train_dataset, batch_size=32, shuffle=True)"
   ]
  },
  {
   "cell_type": "code",
   "execution_count": null,
   "id": "2adb137c",
   "metadata": {},
   "outputs": [
    {
     "name": "stdout",
     "output_type": "stream",
     "text": [
      "tensor([[ 0.5378,  1.2728,  0.4003,  1.3694, -1.0668,  1.3040,  1.2454, -0.2457,\n",
      "          0.9536,  1.0088, -1.0820],\n",
      "        [-0.2281, -0.8942,  0.0170, -1.0889,  1.0290, -0.8877, -0.8838,  0.1184,\n",
      "         -0.5045, -1.0933,  1.1732],\n",
      "        [ 0.7568,  1.5112,  0.7497,  1.4200, -0.9039,  1.5056,  1.4545,  0.9443,\n",
      "          1.1641,  1.0789, -0.9810],\n",
      "        [-1.6634, -0.5325, -1.0114, -0.1412, -0.2522, -0.4911, -0.4933, -0.4362,\n",
      "         -0.7119,  0.1685, -0.4966],\n",
      "        [ 0.4401,  0.9043, -0.0141,  1.2133, -1.1643,  1.0278,  0.9141, -0.1255,\n",
      "          0.7244,  0.7047, -1.1393],\n",
      "        [-0.0456, -0.7620,  0.3676, -1.0705,  1.1142, -0.7792, -0.7391, -1.5806,\n",
      "         -0.2813, -1.1448,  1.3502],\n",
      "        [-1.0781, -0.1448,  0.5708, -0.3795,  0.6653, -0.1385, -0.0929, -0.0086,\n",
      "          0.2617, -0.6533,  0.5440],\n",
      "        [ 1.5446,  0.6747,  0.3468,  0.6816, -0.3710,  0.7630,  0.7022, -0.2546,\n",
      "          0.6852,  0.3192, -0.5963],\n",
      "        [-1.5922, -0.7586, -0.8648, -0.4706,  0.1671, -0.7646, -0.7354, -0.1843,\n",
      "         -0.8803, -0.0873, -0.0908],\n",
      "        [ 1.5893,  1.1754,  0.9549,  0.9410, -0.3134,  1.1649,  1.1589, -0.5682,\n",
      "          1.1813,  0.4314, -0.5487],\n",
      "        [-1.5155,  0.0480,  0.3706, -0.0623,  0.3307,  0.0677,  0.1001, -0.2653,\n",
      "          0.2674, -0.2531,  0.0958],\n",
      "        [-0.4668, -1.3220, -0.7585, -1.2768,  0.9337, -1.2822, -1.3698, -1.5293,\n",
      "         -0.8609, -1.5769,  0.9903],\n",
      "        [ 0.8691,  0.4199, -0.4077,  0.7051, -0.8363,  0.3771,  0.4618,  1.6514,\n",
      "         -0.1197,  1.2762, -0.9371],\n",
      "        [ 1.0631,  0.3402, -0.3797,  0.6207, -0.7224,  0.3332,  0.3854,  1.3196,\n",
      "          0.0100,  0.8438, -0.8602],\n",
      "        [ 0.6552,  0.2830, -0.5851,  0.7237, -0.9760,  0.3512,  0.3302,  0.7168,\n",
      "          0.0097,  0.7175, -1.0266],\n",
      "        [-1.4934, -1.2076, -1.3768, -0.9089,  0.3617, -1.2410, -1.2370, -0.3424,\n",
      "         -1.6566,  0.2118,  0.1333],\n",
      "        [-1.0083, -0.9405, -0.5751, -0.9191,  0.7007, -0.9642, -0.9351, -0.3305,\n",
      "         -0.8674, -0.5813,  0.5979],\n",
      "        [ 0.2020, -0.5195,  1.0902, -1.0430,  1.2758, -0.5344, -0.4797, -0.2706,\n",
      "          0.2343, -1.4084,  1.7269],\n",
      "        [-0.6750,  0.0711,  1.1994, -0.3615,  0.8507,  0.1037,  0.1230, -1.3711,\n",
      "          1.0381, -1.3984,  0.8422],\n",
      "        [-0.3777, -0.4003,  0.7154, -0.7234,  0.9667, -0.3767, -0.3548, -0.2976,\n",
      "          0.4569, -1.4890,  1.0520],\n",
      "        [ 1.2584,  1.7258,  1.2676,  1.4163, -0.6083,  1.7105,  1.6393,  1.6825,\n",
      "          1.5625,  0.7737, -0.7791],\n",
      "        [-0.9653, -0.1380,  0.6225, -0.4274,  0.7197, -0.0899, -0.0860, -0.7241,\n",
      "          0.4480, -0.9352,  0.6273],\n",
      "        [-1.3200, -0.4759, -0.1634, -0.5309,  0.5237, -0.4565, -0.4338,  0.4467,\n",
      "         -0.0782, -0.8213,  0.3419],\n",
      "        [-1.6927, -1.9365, -3.5859, -0.9293, -1.0806, -1.9655, -2.1235,  0.5017,\n",
      "         -3.2722,  1.5362, -1.0902],\n",
      "        [ 0.9247,  1.4179,  0.7225,  1.3109, -0.8053,  1.3871,  1.3731,  0.9699,\n",
      "          1.0344,  1.1376, -0.9165],\n",
      "        [ 0.1788, -1.1067,  0.0328, -1.4034,  1.2563, -1.1073, -1.1217, -1.2063,\n",
      "         -0.5618, -1.5172,  1.6782],\n",
      "        [ 1.2707,  1.1461,  0.6101,  1.0491, -0.5992,  1.1476,  1.1327,  1.5022,\n",
      "          0.8955,  0.8706, -0.7725],\n",
      "        [-0.5433, -0.2572, -1.8357,  0.7379, -2.0322, -0.2337, -0.2072,  0.4537,\n",
      "         -0.9696,  1.4032, -1.5678],\n",
      "        [-0.2854, -0.0645,  1.2287, -0.5745,  1.0062, -0.0613, -0.0119, -1.5138,\n",
      "          0.6185, -1.0474,  1.1281],\n",
      "        [ 1.3354,  1.6461,  1.1594,  1.3042, -0.5566,  1.6280,  1.5710,  0.0596,\n",
      "          1.5049,  0.7317, -0.7410],\n",
      "        [ 0.5372, -0.5556, -1.6876,  0.1616, -1.0676, -0.5949, -0.5178,  1.2153,\n",
      "         -1.2687,  1.2547, -1.0825],\n",
      "        [-1.4613, -1.2457, -1.3729, -0.9481,  0.4022, -1.2164, -1.2810,  0.2997,\n",
      "         -1.3371, -0.5360,  0.1835]], device='cuda:0')\n",
      "----------\n",
      "tensor([0., 1., 0., 1., 0., 1., 1., 0., 1., 0., 1., 1., 0., 0., 0., 1., 1., 1.,\n",
      "        1., 1., 0., 1., 1., 1., 0., 1., 0., 0., 1., 0., 0., 1.],\n",
      "       device='cuda:0')\n"
     ]
    }
   ],
   "source": [
    "for x,y in train_loader:  # sample of how data in X and y are stored in data loader\n",
    "    print(x)\n",
    "    print(\"----------\")\n",
    "    print(y)\n",
    "    break"
   ]
  }
 ],
 "metadata": {
  "kernelspec": {
   "display_name": "Python 3",
   "language": "python",
   "name": "python3"
  },
  "language_info": {
   "codemirror_mode": {
    "name": "ipython",
    "version": 3
   },
   "file_extension": ".py",
   "mimetype": "text/x-python",
   "name": "python",
   "nbconvert_exporter": "python",
   "pygments_lexer": "ipython3",
   "version": "3.10.0"
  }
 },
 "nbformat": 4,
 "nbformat_minor": 5
}
