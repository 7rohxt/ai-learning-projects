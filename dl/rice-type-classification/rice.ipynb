{
 "cells": [
  {
   "cell_type": "markdown",
   "id": "fe4be294",
   "metadata": {},
   "source": [
    "# Importing Libraries"
   ]
  },
  {
   "cell_type": "code",
   "execution_count": 1,
   "id": "9708a507",
   "metadata": {},
   "outputs": [],
   "source": [
    "import torch \n",
    "import torch.nn as nn \n",
    "from torch.optim import Adam\n",
    "from torch.utils.data import Dataset, DataLoader \n",
    "from torchsummary import summary \n",
    "from sklearn.model_selection import train_test_split \n",
    "from sklearn.metrics import accuracy_score \n",
    "import matplotlib.pyplot as plt \n",
    "import pandas as pd\n",
    "import numpy as np "
   ]
  },
  {
   "cell_type": "code",
   "execution_count": 2,
   "id": "e19868a0",
   "metadata": {},
   "outputs": [],
   "source": [
    "from sklearn.preprocessing import StandardScaler"
   ]
  },
  {
   "cell_type": "code",
   "execution_count": 3,
   "id": "26145ae6",
   "metadata": {},
   "outputs": [],
   "source": [
    "device = 'cuda' if torch.cuda.is_available() else 'cpu'"
   ]
  },
  {
   "cell_type": "markdown",
   "id": "cf683c49",
   "metadata": {},
   "source": [
    "# Data Loading and Exploration"
   ]
  },
  {
   "cell_type": "code",
   "execution_count": 4,
   "id": "5fb6ed24",
   "metadata": {},
   "outputs": [
    {
     "data": {
      "text/html": [
       "<div>\n",
       "<style scoped>\n",
       "    .dataframe tbody tr th:only-of-type {\n",
       "        vertical-align: middle;\n",
       "    }\n",
       "\n",
       "    .dataframe tbody tr th {\n",
       "        vertical-align: top;\n",
       "    }\n",
       "\n",
       "    .dataframe thead th {\n",
       "        text-align: right;\n",
       "    }\n",
       "</style>\n",
       "<table border=\"1\" class=\"dataframe\">\n",
       "  <thead>\n",
       "    <tr style=\"text-align: right;\">\n",
       "      <th></th>\n",
       "      <th>id</th>\n",
       "      <th>Area</th>\n",
       "      <th>MajorAxisLength</th>\n",
       "      <th>MinorAxisLength</th>\n",
       "      <th>Eccentricity</th>\n",
       "      <th>ConvexArea</th>\n",
       "      <th>EquivDiameter</th>\n",
       "      <th>Extent</th>\n",
       "      <th>Perimeter</th>\n",
       "      <th>Roundness</th>\n",
       "      <th>AspectRation</th>\n",
       "      <th>Class</th>\n",
       "    </tr>\n",
       "  </thead>\n",
       "  <tbody>\n",
       "    <tr>\n",
       "      <th>0</th>\n",
       "      <td>1</td>\n",
       "      <td>4537</td>\n",
       "      <td>92.229316</td>\n",
       "      <td>64.012769</td>\n",
       "      <td>0.719916</td>\n",
       "      <td>4677</td>\n",
       "      <td>76.004525</td>\n",
       "      <td>0.657536</td>\n",
       "      <td>273.085</td>\n",
       "      <td>0.764510</td>\n",
       "      <td>1.440796</td>\n",
       "      <td>1</td>\n",
       "    </tr>\n",
       "    <tr>\n",
       "      <th>1</th>\n",
       "      <td>2</td>\n",
       "      <td>2872</td>\n",
       "      <td>74.691881</td>\n",
       "      <td>51.400454</td>\n",
       "      <td>0.725553</td>\n",
       "      <td>3015</td>\n",
       "      <td>60.471018</td>\n",
       "      <td>0.713009</td>\n",
       "      <td>208.317</td>\n",
       "      <td>0.831658</td>\n",
       "      <td>1.453137</td>\n",
       "      <td>1</td>\n",
       "    </tr>\n",
       "    <tr>\n",
       "      <th>2</th>\n",
       "      <td>3</td>\n",
       "      <td>3048</td>\n",
       "      <td>76.293164</td>\n",
       "      <td>52.043491</td>\n",
       "      <td>0.731211</td>\n",
       "      <td>3132</td>\n",
       "      <td>62.296341</td>\n",
       "      <td>0.759153</td>\n",
       "      <td>210.012</td>\n",
       "      <td>0.868434</td>\n",
       "      <td>1.465950</td>\n",
       "      <td>1</td>\n",
       "    </tr>\n",
       "    <tr>\n",
       "      <th>3</th>\n",
       "      <td>4</td>\n",
       "      <td>3073</td>\n",
       "      <td>77.033628</td>\n",
       "      <td>51.928487</td>\n",
       "      <td>0.738639</td>\n",
       "      <td>3157</td>\n",
       "      <td>62.551300</td>\n",
       "      <td>0.783529</td>\n",
       "      <td>210.657</td>\n",
       "      <td>0.870203</td>\n",
       "      <td>1.483456</td>\n",
       "      <td>1</td>\n",
       "    </tr>\n",
       "    <tr>\n",
       "      <th>4</th>\n",
       "      <td>5</td>\n",
       "      <td>3693</td>\n",
       "      <td>85.124785</td>\n",
       "      <td>56.374021</td>\n",
       "      <td>0.749282</td>\n",
       "      <td>3802</td>\n",
       "      <td>68.571668</td>\n",
       "      <td>0.769375</td>\n",
       "      <td>230.332</td>\n",
       "      <td>0.874743</td>\n",
       "      <td>1.510000</td>\n",
       "      <td>1</td>\n",
       "    </tr>\n",
       "  </tbody>\n",
       "</table>\n",
       "</div>"
      ],
      "text/plain": [
       "   id  Area  MajorAxisLength  MinorAxisLength  Eccentricity  ConvexArea  \\\n",
       "0   1  4537        92.229316        64.012769      0.719916        4677   \n",
       "1   2  2872        74.691881        51.400454      0.725553        3015   \n",
       "2   3  3048        76.293164        52.043491      0.731211        3132   \n",
       "3   4  3073        77.033628        51.928487      0.738639        3157   \n",
       "4   5  3693        85.124785        56.374021      0.749282        3802   \n",
       "\n",
       "   EquivDiameter    Extent  Perimeter  Roundness  AspectRation  Class  \n",
       "0      76.004525  0.657536    273.085   0.764510      1.440796      1  \n",
       "1      60.471018  0.713009    208.317   0.831658      1.453137      1  \n",
       "2      62.296341  0.759153    210.012   0.868434      1.465950      1  \n",
       "3      62.551300  0.783529    210.657   0.870203      1.483456      1  \n",
       "4      68.571668  0.769375    230.332   0.874743      1.510000      1  "
      ]
     },
     "execution_count": 4,
     "metadata": {},
     "output_type": "execute_result"
    }
   ],
   "source": [
    "df = pd.read_csv(\"riceClassification.csv\")\n",
    "df.head()"
   ]
  },
  {
   "cell_type": "code",
   "execution_count": 5,
   "id": "19009bf1",
   "metadata": {},
   "outputs": [
    {
     "data": {
      "text/plain": [
       "(18185, 12)"
      ]
     },
     "execution_count": 5,
     "metadata": {},
     "output_type": "execute_result"
    }
   ],
   "source": [
    "df.shape"
   ]
  },
  {
   "cell_type": "code",
   "execution_count": 6,
   "id": "431a9ce1",
   "metadata": {},
   "outputs": [
    {
     "name": "stdout",
     "output_type": "stream",
     "text": [
      "<class 'pandas.core.frame.DataFrame'>\n",
      "RangeIndex: 18185 entries, 0 to 18184\n",
      "Data columns (total 12 columns):\n",
      " #   Column           Non-Null Count  Dtype  \n",
      "---  ------           --------------  -----  \n",
      " 0   id               18185 non-null  int64  \n",
      " 1   Area             18185 non-null  int64  \n",
      " 2   MajorAxisLength  18185 non-null  float64\n",
      " 3   MinorAxisLength  18185 non-null  float64\n",
      " 4   Eccentricity     18185 non-null  float64\n",
      " 5   ConvexArea       18185 non-null  int64  \n",
      " 6   EquivDiameter    18185 non-null  float64\n",
      " 7   Extent           18185 non-null  float64\n",
      " 8   Perimeter        18185 non-null  float64\n",
      " 9   Roundness        18185 non-null  float64\n",
      " 10  AspectRation     18185 non-null  float64\n",
      " 11  Class            18185 non-null  int64  \n",
      "dtypes: float64(8), int64(4)\n",
      "memory usage: 1.7 MB\n"
     ]
    }
   ],
   "source": [
    "df.info()"
   ]
  },
  {
   "cell_type": "code",
   "execution_count": 7,
   "id": "225efba7",
   "metadata": {},
   "outputs": [
    {
     "data": {
      "text/plain": [
       "Class\n",
       "1    9985\n",
       "0    8200\n",
       "Name: count, dtype: int64"
      ]
     },
     "execution_count": 7,
     "metadata": {},
     "output_type": "execute_result"
    }
   ],
   "source": [
    "df.Class.value_counts() # To check Class imbalance"
   ]
  },
  {
   "cell_type": "markdown",
   "id": "b2587e1e",
   "metadata": {},
   "source": [
    "# Data Preprocessing"
   ]
  },
  {
   "cell_type": "code",
   "execution_count": 8,
   "id": "47b11ae3",
   "metadata": {},
   "outputs": [],
   "source": [
    "X = df.drop(columns=\"Class\", axis=1)\n",
    "y = df[\"Class\"]"
   ]
  },
  {
   "cell_type": "code",
   "execution_count": 9,
   "id": "0451a18e",
   "metadata": {},
   "outputs": [
    {
     "name": "stdout",
     "output_type": "stream",
     "text": [
      "(12729, 11)\n",
      "(12729,)\n",
      "(2728, 11)\n",
      "(2728,)\n",
      "(2728, 11)\n",
      "(2728,)\n"
     ]
    }
   ],
   "source": [
    "X_train, X_test, y_train, y_test = train_test_split(X, y, test_size=0.3) \n",
    "X_test, X_val, y_test, y_val = train_test_split(X_test, y_test, test_size = 0.5)\n",
    "\n",
    "print(X_train.shape)\n",
    "print(y_train.shape)\n",
    "print(X_test.shape)\n",
    "print(y_test.shape)\n",
    "print(X_val.shape)\n",
    "print(y_val.shape)"
   ]
  },
  {
   "cell_type": "code",
   "execution_count": 10,
   "id": "c0f16b1c",
   "metadata": {},
   "outputs": [],
   "source": [
    "scaler = StandardScaler()\n",
    "\n",
    "X_train_scaled = scaler.fit_transform(X_train)\n",
    "X_test_scaled = scaler.transform(X_test) #no fit_transform\n",
    "X_val_scaled = scaler.transform(X_val)\n",
    "\n",
    "X_train = pd.DataFrame(X_train_scaled, columns=X_train.columns)\n",
    "X_test = pd.DataFrame(X_test_scaled, columns=X_test.columns)\n",
    "X_val = pd.DataFrame(X_val_scaled, columns=X_val.columns)"
   ]
  },
  {
   "cell_type": "markdown",
   "id": "0480dc94",
   "metadata": {},
   "source": [
    "After this we need to change the df to tensors\n",
    "\n",
    "`Method #1` -- quick and simple  \n",
    "\n",
    "X_train_tensor = torch.tensor(X_train.values, dtype=torch.float32)  \n",
    "y_train_tensor = torch.tensor(y_train.values, dtype=torch.long)\n",
    "\n",
    "`Method #2` -- Standard way - `TensorDataset + DataLoader`\n",
    "\n",
    "train_dataset = TensorDataset(X_train_tensor, y_train_tensor)   \n",
    "train_loader = DataLoader(train_dataset, batch_size=32, shuffle=True)\n",
    "\n",
    "`Method #3` -- By creating our own Dataset Class    \n",
    "\n",
    "from torch.utils.data import Dataset    \n",
    "class MyDataset(Dataset):  # Dataset is already a class, we are subclassing and modifying some of the functions\n",
    "    def __init__(self, X, y):  \n",
    "        self.X = torch.tensor(X.values, dtype=torch.float32)  \n",
    "        self.y = torch.tensor(y.values, dtype=torch.float32)    \n",
    "    def __len__(self):  \n",
    "        return len(self.X)    \n",
    "    def __getitem__(self, idx):  \n",
    "        return self.X[idx], self.y[idx]  \n",
    "train_dataset = MyDataset(X_train, y_train)"
   ]
  },
  {
   "cell_type": "code",
   "execution_count": 11,
   "id": "9a89d265",
   "metadata": {},
   "outputs": [],
   "source": [
    "class MyDataset(Dataset):\n",
    "    def __init__(self, X, y):\n",
    "        self.X = torch.tensor(X.values, dtype=torch.float32).to(device)\n",
    "        self.y = torch.tensor(y.values, dtype=torch.float32).to(device)\n",
    "\n",
    "    def __len__(self):\n",
    "        return len(self.X)\n",
    "\n",
    "    def __getitem__(self, idx):\n",
    "        return self.X[idx], self.y[idx]"
   ]
  },
  {
   "cell_type": "code",
   "execution_count": 12,
   "id": "6962a754",
   "metadata": {},
   "outputs": [],
   "source": [
    "train_dataset = MyDataset(X_train, y_train)\n",
    "test_dataset = MyDataset(X_test, y_test)\n",
    "val_dataset = MyDataset(X_val, y_val)"
   ]
  },
  {
   "cell_type": "code",
   "execution_count": 13,
   "id": "945a7b8f",
   "metadata": {},
   "outputs": [],
   "source": [
    "BATCH_SIZE = 32\n",
    "EPOCHS = 10\n",
    "HIDDEN_NEURONS = 10\n",
    "LR = 1e-3"
   ]
  },
  {
   "cell_type": "code",
   "execution_count": 14,
   "id": "096e745c",
   "metadata": {},
   "outputs": [],
   "source": [
    "train_loader = DataLoader(train_dataset, batch_size=32, shuffle=True)\n",
    "test_loader = DataLoader(test_dataset, batch_size=32)\n",
    "val_loader = DataLoader(val_dataset, batch_size=32)"
   ]
  },
  {
   "cell_type": "code",
   "execution_count": 15,
   "id": "2adb137c",
   "metadata": {},
   "outputs": [
    {
     "name": "stdout",
     "output_type": "stream",
     "text": [
      "tensor([[-0.0242, -0.4824,  0.8489, -0.8961,  1.1260, -0.4815, -0.4407, -1.5208,\n",
      "          0.1681, -1.2264,  1.3679],\n",
      "        [-0.6802, -0.5260,  0.2751, -0.7393,  0.8484, -0.4948, -0.4866, -1.2336,\n",
      "         -0.1102, -0.8802,  0.8338],\n",
      "        [ 0.6624,  1.6844,  0.8329,  1.5372, -0.9808,  1.6364,  1.6041,  1.1174,\n",
      "          1.2422,  1.2484, -1.0264],\n",
      "        [-0.0826, -0.6616,  0.5032, -0.9896,  1.0981, -0.6612, -0.6309, -0.2542,\n",
      "         -0.1586, -1.1089,  1.3083],\n",
      "        [ 0.3940,  1.3137,  0.2934,  1.4294, -1.2099,  1.2950,  1.2818,  0.8160,\n",
      "          0.8070,  1.3497, -1.1619],\n",
      "        [-1.6559, -2.2390, -3.5283, -1.4813, -0.2054, -2.2500, -2.5252, -0.2923,\n",
      "         -3.4020,  0.6083, -0.4541],\n",
      "        [-1.4389, -0.3823, -0.0778, -0.3719,  0.4203, -0.3584, -0.3361,  0.9155,\n",
      "         -0.1988, -0.4038,  0.2052],\n",
      "        [-1.4959, -0.9287, -0.9718, -0.7144,  0.3550, -0.9648, -0.9222, -0.9805,\n",
      "         -1.1665,  0.0178,  0.1245],\n",
      "        [ 0.7190,  1.4663,  0.6546,  1.3970, -0.9399,  1.4507,  1.4156, -0.0368,\n",
      "          1.0331,  1.2239, -1.0009],\n",
      "        [-1.0728, -1.2871, -1.1785, -1.1415,  0.6673, -1.3055, -1.3294,  0.5821,\n",
      "         -1.5835, -0.1685,  0.5444],\n",
      "        [-0.2007, -0.0620,  1.3384, -0.5774,  1.0413, -0.0342, -0.0095, -0.5066,\n",
      "          0.7729, -1.2727,  1.1912],\n",
      "        [-0.1718, -0.4013,  0.8691, -0.7830,  1.0546, -0.3870, -0.3560,  1.5589,\n",
      "          0.2788, -1.2234,  1.2183],\n",
      "        [ 1.5970,  0.5676,  0.2600,  0.5650, -0.3017,  0.5681,  0.6020,  1.4907,\n",
      "          0.5282,  0.3741, -0.5370],\n",
      "        [-0.9672, -0.7093, -0.1760, -0.7659,  0.7180, -0.7345, -0.6822, -1.1876,\n",
      "         -0.5864, -0.4993,  0.6215],\n",
      "        [-0.6718, -1.2394, -0.7665, -1.1785,  0.8523, -1.2490, -1.2740, -1.2157,\n",
      "         -1.1448, -0.8679,  0.8406],\n",
      "        [-0.9548, -0.4129,  0.3147, -0.5620,  0.7238, -0.4376, -0.3680,  0.6391,\n",
      "         -0.1586, -0.5429,  0.6306],\n",
      "        [-0.7907, -0.8299, -0.2666, -0.9035,  0.7987, -0.8403, -0.8133, -1.1969,\n",
      "         -0.6526, -0.6798,  0.7504],\n",
      "        [ 0.3976,  0.2017, -0.8815,  0.7347, -1.2078,  0.1495,  0.2513, -0.3064,\n",
      "         -0.3789,  1.2956, -1.1607],\n",
      "        [ 0.3997,  1.2388,  0.2264,  1.3861, -1.2054,  1.2218,  1.2154,  0.6558,\n",
      "          0.8456,  1.1332, -1.1594],\n",
      "        [ 1.1709,  0.8129,  0.2141,  0.8980, -0.6700,  0.8204,  0.8304, -0.3730,\n",
      "          0.5429,  0.8452, -0.8208],\n",
      "        [ 0.6713,  1.5188,  0.7417,  1.4783, -0.9738,  1.6065,  1.4613, -0.4089,\n",
      "          1.3560,  0.7514, -1.0221],\n",
      "        [-0.1313, -1.8288, -1.5474, -1.7594,  1.0731, -1.8473, -1.9866, -0.1542,\n",
      "         -2.0776, -0.8612,  1.2561],\n",
      "        [ 1.4842, -0.1438, -0.7153,  0.1842, -0.4421, -0.1527, -0.0918, -0.4431,\n",
      "         -0.3555,  0.4344, -0.6510],\n",
      "        [-1.0189,  0.2535, -2.1921,  1.8210, -4.4959,  0.2806,  0.3017, -0.0676,\n",
      "         -0.4822,  1.6354, -2.3143],\n",
      "        [-0.2506, -0.1042, -1.5170,  0.6936, -1.6740, -0.1527, -0.0519,  1.7156,\n",
      "         -0.9351,  1.7288, -1.4028],\n",
      "        [ 0.1195, -0.4974,  1.0159, -0.9662,  1.2140, -0.4682, -0.4565,  0.3787,\n",
      "          0.1763, -1.2712,  1.5666],\n",
      "        [ 0.2200, -0.6875,  0.8355, -1.1553,  1.2920, -0.6919, -0.6587, -0.4784,\n",
      "          0.0067, -1.4262,  1.7571],\n",
      "        [ 0.5703,  0.8885, -0.0156,  1.1107, -1.0502,  0.8909,  0.8998,  1.4373,\n",
      "          0.6101,  0.8749, -1.0687],\n",
      "        [ 0.1350, -0.7659,  0.6122, -1.1345,  1.2248, -0.7325, -0.7435,  0.0836,\n",
      "         -0.0299, -1.5444,  1.5921],\n",
      "        [-1.1015, -0.3734,  0.2456, -0.5042,  0.6538, -0.3577, -0.3269, -1.2512,\n",
      "          0.1033, -0.8882,  0.5243],\n",
      "        [ 0.2901, -0.2494, -1.4442,  0.4599, -1.2847, -0.2705, -0.1992, -0.2571,\n",
      "         -0.9179,  1.3128, -1.2036],\n",
      "        [-0.4617, -1.5386, -1.1375, -1.4310,  0.9355, -1.5066, -1.6276, -0.2203,\n",
      "         -1.5457, -0.9800,  0.9882]], device='cuda:0')\n",
      "----------\n",
      "tensor([1., 1., 0., 1., 0., 1., 1., 1., 0., 1., 1., 1., 0., 1., 1., 1., 1., 0.,\n",
      "        0., 0., 0., 1., 0., 0., 0., 1., 1., 0., 1., 1., 0., 1.],\n",
      "       device='cuda:0')\n"
     ]
    }
   ],
   "source": [
    "for x,y in train_loader:  # sample of how data in X and y are stored in data loader\n",
    "    print(x)\n",
    "    print(\"----------\")\n",
    "    print(y)\n",
    "    break"
   ]
  },
  {
   "cell_type": "code",
   "execution_count": 16,
   "id": "1922ea77",
   "metadata": {},
   "outputs": [],
   "source": [
    "class MyModel(nn.Module):\n",
    "    def __init__(self):\n",
    "\n",
    "        super(MyModel, self).__init__()   # In dataset class we created constructor from scratch\n",
    "                                          # But here we are using same contructor of nn.module using super\n",
    "\n",
    "        self.input_layer = nn.Linear(X.shape[1], HIDDEN_NEURONS) # X.shape[1] return the input features \n",
    "        self.linear = nn.Linear(HIDDEN_NEURONS, 1)\n",
    "        self.sigmoid = nn.Sigmoid()\n",
    "\n",
    "    def forward(self, x):\n",
    "        x = self.input_layer(x)\n",
    "        x = self.linear(x)\n",
    "        x = self.sigmoid(x)\n",
    "        return x\n",
    "\n",
    "model = MyModel().to(device)"
   ]
  },
  {
   "cell_type": "markdown",
   "id": "b64aa32b",
   "metadata": {},
   "source": [
    "#### Why constructor__init()?\n",
    "\n",
    "By defining them in __init__(), PyTorch can:\n",
    "\n",
    "- Register them as learnable parameters\n",
    "\n",
    "- Track them for autograd\n",
    "\n",
    "- Save and load them correctly using .state_dict()"
   ]
  },
  {
   "cell_type": "code",
   "execution_count": 17,
   "id": "7f6889e6",
   "metadata": {},
   "outputs": [
    {
     "name": "stdout",
     "output_type": "stream",
     "text": [
      "----------------------------------------------------------------\n",
      "        Layer (type)               Output Shape         Param #\n",
      "================================================================\n",
      "            Linear-1                   [-1, 10]             120\n",
      "            Linear-2                    [-1, 1]              11\n",
      "           Sigmoid-3                    [-1, 1]               0\n",
      "================================================================\n",
      "Total params: 131\n",
      "Trainable params: 131\n",
      "Non-trainable params: 0\n",
      "----------------------------------------------------------------\n",
      "Input size (MB): 0.00\n",
      "Forward/backward pass size (MB): 0.00\n",
      "Params size (MB): 0.00\n",
      "Estimated Total Size (MB): 0.00\n",
      "----------------------------------------------------------------\n"
     ]
    }
   ],
   "source": [
    "summary(model, (X.shape[1],))  # for pytorch you need to pass input shape too unlike tensorflow"
   ]
  },
  {
   "cell_type": "code",
   "execution_count": 18,
   "id": "de976303",
   "metadata": {},
   "outputs": [],
   "source": [
    "criterion = nn.BCELoss() # binary cross-entropy loss\n",
    "optimizer = Adam(model.parameters(), lr= LR)"
   ]
  },
  {
   "cell_type": "markdown",
   "id": "f404796a",
   "metadata": {},
   "source": [
    "# Training and Validation"
   ]
  },
  {
   "cell_type": "code",
   "execution_count": 19,
   "id": "f972044a",
   "metadata": {},
   "outputs": [
    {
     "name": "stdout",
     "output_type": "stream",
     "text": [
      "Epoch 1/10, Train Loss: 0.1411, Val Loss: 0.0271\n",
      "Epoch 2/10, Train Loss: 0.0161, Val Loss: 0.0096\n",
      "Epoch 3/10, Train Loss: 0.0070, Val Loss: 0.0051\n",
      "Epoch 4/10, Train Loss: 0.0039, Val Loss: 0.0030\n",
      "Epoch 5/10, Train Loss: 0.0025, Val Loss: 0.0019\n",
      "Epoch 6/10, Train Loss: 0.0017, Val Loss: 0.0013\n",
      "Epoch 7/10, Train Loss: 0.0013, Val Loss: 0.0009\n",
      "Epoch 8/10, Train Loss: 0.0010, Val Loss: 0.0007\n",
      "Epoch 9/10, Train Loss: 0.0009, Val Loss: 0.0006\n",
      "Epoch 10/10, Train Loss: 0.0007, Val Loss: 0.0004\n"
     ]
    }
   ],
   "source": [
    "train_losses = []\n",
    "val_losses = []\n",
    "\n",
    "for epoch in range(EPOCHS):\n",
    "    model.train()\n",
    "    epoch_loss = 0.0\n",
    "\n",
    "    for inputs, labels in train_loader:\n",
    "        outputs = model(inputs).squeeze()\n",
    "        loss = criterion(outputs, labels)\n",
    "\n",
    "        optimizer.zero_grad()\n",
    "        loss.backward()\n",
    "        optimizer.step()\n",
    "\n",
    "        epoch_loss += loss.item()\n",
    "\n",
    "    avg_train_loss = epoch_loss / len(train_loader)\n",
    "    train_losses.append(avg_train_loss)\n",
    "    \n",
    "    model.eval()  \n",
    "    val_loss = 0.0\n",
    "\n",
    "    with torch.no_grad():  \n",
    "        for inputs, labels in val_loader:\n",
    "            outputs = model(inputs).squeeze()\n",
    "            loss = criterion(outputs, labels)\n",
    "            val_loss += loss.item()\n",
    "\n",
    "    avg_val_loss = val_loss / len(val_loader)\n",
    "    val_losses.append(avg_val_loss)\n",
    "\n",
    "    print(f\"Epoch {epoch+1}/{EPOCHS}, Train Loss: {avg_train_loss:.4f}, Val Loss: {avg_val_loss:.4f}\")\n"
   ]
  },
  {
   "cell_type": "code",
   "execution_count": 26,
   "id": "f07868bd",
   "metadata": {},
   "outputs": [
    {
     "data": {
      "image/png": "[encoded data removed]",
      "text/plain": [
       "<Figure size 1000x600 with 1 Axes>"
      ]
     },
     "metadata": {},
     "output_type": "display_data"
    }
   ],
   "source": [
    "plt.figure(figsize=(10, 6))\n",
    "plt.plot(range(1, EPOCHS+1), train_losses, label='Train Loss')\n",
    "plt.plot(range(1, EPOCHS+1), val_losses, label='Validation Loss')\n",
    "plt.xlabel('Epoch')\n",
    "plt.ylabel('Loss')\n",
    "plt.title('Training vs Validation Loss')\n",
    "plt.legend()\n",
    "plt.grid(True)\n",
    "plt.show()"
   ]
  },
  {
   "cell_type": "markdown",
   "id": "87b2f7a1",
   "metadata": {},
   "source": [
    "# Testing and Evaluation"
   ]
  },
  {
   "cell_type": "code",
   "execution_count": 25,
   "id": "103f9df3",
   "metadata": {},
   "outputs": [
    {
     "name": "stdout",
     "output_type": "stream",
     "text": [
      "Test Accuracy: 1.0000\n"
     ]
    }
   ],
   "source": [
    "model.eval()\n",
    "with torch.no_grad():\n",
    "    correct = 0\n",
    "    total = 0\n",
    "\n",
    "    for inputs, labels in test_loader:\n",
    "        outputs = model(inputs).squeeze()\n",
    "        predicted = (outputs >= 0.5).float()  \n",
    "        correct += (predicted == labels).sum().item()\n",
    "        total += labels.size(0)\n",
    "\n",
    "    accuracy = correct / total\n",
    "    print(f\"Test Accuracy: {accuracy:.4f}\")\n"
   ]
  }
 ],
 "metadata": {
  "kernelspec": {
   "display_name": "Python 3",
   "language": "python",
   "name": "python3"
  },
  "language_info": {
   "codemirror_mode": {
    "name": "ipython",
    "version": 3
   },
   "file_extension": ".py",
   "mimetype": "text/x-python",
   "name": "python",
   "nbconvert_exporter": "python",
   "pygments_lexer": "ipython3",
   "version": "3.10.0"
  }
 },
 "nbformat": 4,
 "nbformat_minor": 5
}
