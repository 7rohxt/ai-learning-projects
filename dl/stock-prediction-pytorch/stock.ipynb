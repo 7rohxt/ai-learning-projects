{
 "cells": [
  {
   "cell_type": "markdown",
   "id": "81fb873e",
   "metadata": {},
   "source": [
    "## Importing headers"
   ]
  },
  {
   "cell_type": "code",
   "execution_count": 84,
   "id": "95f87488",
   "metadata": {},
   "outputs": [],
   "source": [
    "import numpy as np\n",
    "import pandas as pd\n",
    "import yfinance as yf\n",
    "import matplotlib.pyplot as plt\n",
    "\n",
    "import torch\n",
    "import torch.nn as nn\n",
    "import torch.optim as optim\n",
    "\n",
    "from sklearn.preprocessing import StandardScaler\n",
    "from sklearn.metrics import root_mean_squared_error"
   ]
  },
  {
   "cell_type": "code",
   "execution_count": 85,
   "id": "17a6c69c",
   "metadata": {},
   "outputs": [
    {
     "data": {
      "text/plain": [
       "device(type='cuda')"
      ]
     },
     "execution_count": 85,
     "metadata": {},
     "output_type": "execute_result"
    }
   ],
   "source": [
    "device = torch.device('cuda' if torch.cuda.is_available() else 'cpu')\n",
    "device"
   ]
  },
  {
   "cell_type": "markdown",
   "id": "23310c04",
   "metadata": {},
   "source": [
    "## Data Loading and Exploration"
   ]
  },
  {
   "cell_type": "code",
   "execution_count": 86,
   "id": "30bc71b2",
   "metadata": {},
   "outputs": [
    {
     "name": "stderr",
     "output_type": "stream",
     "text": [
      "C:\\Users\\rk\\AppData\\Local\\Temp\\ipykernel_19524\\101187372.py:2: FutureWarning: YF.download() has changed argument auto_adjust default to True\n",
      "  df = yf.download(ticker, start=\"2020-01-01\")\n",
      "[*********************100%***********************]  1 of 1 completed\n"
     ]
    },
    {
     "data": {
      "text/html": [
       "<div>\n",
       "<style scoped>\n",
       "    .dataframe tbody tr th:only-of-type {\n",
       "        vertical-align: middle;\n",
       "    }\n",
       "\n",
       "    .dataframe tbody tr th {\n",
       "        vertical-align: top;\n",
       "    }\n",
       "\n",
       "    .dataframe thead tr th {\n",
       "        text-align: left;\n",
       "    }\n",
       "\n",
       "    .dataframe thead tr:last-of-type th {\n",
       "        text-align: right;\n",
       "    }\n",
       "</style>\n",
       "<table border=\"1\" class=\"dataframe\">\n",
       "  <thead>\n",
       "    <tr>\n",
       "      <th>Price</th>\n",
       "      <th>Close</th>\n",
       "      <th>High</th>\n",
       "      <th>Low</th>\n",
       "      <th>Open</th>\n",
       "      <th>Volume</th>\n",
       "    </tr>\n",
       "    <tr>\n",
       "      <th>Ticker</th>\n",
       "      <th>AAPL</th>\n",
       "      <th>AAPL</th>\n",
       "      <th>AAPL</th>\n",
       "      <th>AAPL</th>\n",
       "      <th>AAPL</th>\n",
       "    </tr>\n",
       "    <tr>\n",
       "      <th>Date</th>\n",
       "      <th></th>\n",
       "      <th></th>\n",
       "      <th></th>\n",
       "      <th></th>\n",
       "      <th></th>\n",
       "    </tr>\n",
       "  </thead>\n",
       "  <tbody>\n",
       "    <tr>\n",
       "      <th>2020-01-02</th>\n",
       "      <td>72.620842</td>\n",
       "      <td>72.681289</td>\n",
       "      <td>71.373218</td>\n",
       "      <td>71.627092</td>\n",
       "      <td>135480400</td>\n",
       "    </tr>\n",
       "    <tr>\n",
       "      <th>2020-01-03</th>\n",
       "      <td>71.914810</td>\n",
       "      <td>72.676439</td>\n",
       "      <td>71.689950</td>\n",
       "      <td>71.847110</td>\n",
       "      <td>146322800</td>\n",
       "    </tr>\n",
       "    <tr>\n",
       "      <th>2020-01-06</th>\n",
       "      <td>72.487854</td>\n",
       "      <td>72.526541</td>\n",
       "      <td>70.783256</td>\n",
       "      <td>71.034717</td>\n",
       "      <td>118387200</td>\n",
       "    </tr>\n",
       "    <tr>\n",
       "      <th>2020-01-07</th>\n",
       "      <td>72.146950</td>\n",
       "      <td>72.753831</td>\n",
       "      <td>71.926922</td>\n",
       "      <td>72.497537</td>\n",
       "      <td>108872000</td>\n",
       "    </tr>\n",
       "    <tr>\n",
       "      <th>2020-01-08</th>\n",
       "      <td>73.307503</td>\n",
       "      <td>73.609737</td>\n",
       "      <td>71.849525</td>\n",
       "      <td>71.849525</td>\n",
       "      <td>132079200</td>\n",
       "    </tr>\n",
       "    <tr>\n",
       "      <th>...</th>\n",
       "      <td>...</td>\n",
       "      <td>...</td>\n",
       "      <td>...</td>\n",
       "      <td>...</td>\n",
       "      <td>...</td>\n",
       "    </tr>\n",
       "    <tr>\n",
       "      <th>2025-07-29</th>\n",
       "      <td>211.270004</td>\n",
       "      <td>214.809998</td>\n",
       "      <td>210.820007</td>\n",
       "      <td>214.179993</td>\n",
       "      <td>51411700</td>\n",
       "    </tr>\n",
       "    <tr>\n",
       "      <th>2025-07-30</th>\n",
       "      <td>209.050003</td>\n",
       "      <td>212.389999</td>\n",
       "      <td>207.720001</td>\n",
       "      <td>211.899994</td>\n",
       "      <td>45512500</td>\n",
       "    </tr>\n",
       "    <tr>\n",
       "      <th>2025-07-31</th>\n",
       "      <td>207.570007</td>\n",
       "      <td>209.839996</td>\n",
       "      <td>207.160004</td>\n",
       "      <td>208.490005</td>\n",
       "      <td>80698400</td>\n",
       "    </tr>\n",
       "    <tr>\n",
       "      <th>2025-08-01</th>\n",
       "      <td>202.380005</td>\n",
       "      <td>213.580002</td>\n",
       "      <td>201.500000</td>\n",
       "      <td>210.869995</td>\n",
       "      <td>104434500</td>\n",
       "    </tr>\n",
       "    <tr>\n",
       "      <th>2025-08-04</th>\n",
       "      <td>203.350006</td>\n",
       "      <td>207.880005</td>\n",
       "      <td>201.679993</td>\n",
       "      <td>204.509995</td>\n",
       "      <td>75020600</td>\n",
       "    </tr>\n",
       "  </tbody>\n",
       "</table>\n",
       "<p>1404 rows × 5 columns</p>\n",
       "</div>"
      ],
      "text/plain": [
       "Price            Close        High         Low        Open     Volume\n",
       "Ticker            AAPL        AAPL        AAPL        AAPL       AAPL\n",
       "Date                                                                 \n",
       "2020-01-02   72.620842   72.681289   71.373218   71.627092  135480400\n",
       "2020-01-03   71.914810   72.676439   71.689950   71.847110  146322800\n",
       "2020-01-06   72.487854   72.526541   70.783256   71.034717  118387200\n",
       "2020-01-07   72.146950   72.753831   71.926922   72.497537  108872000\n",
       "2020-01-08   73.307503   73.609737   71.849525   71.849525  132079200\n",
       "...                ...         ...         ...         ...        ...\n",
       "2025-07-29  211.270004  214.809998  210.820007  214.179993   51411700\n",
       "2025-07-30  209.050003  212.389999  207.720001  211.899994   45512500\n",
       "2025-07-31  207.570007  209.839996  207.160004  208.490005   80698400\n",
       "2025-08-01  202.380005  213.580002  201.500000  210.869995  104434500\n",
       "2025-08-04  203.350006  207.880005  201.679993  204.509995   75020600\n",
       "\n",
       "[1404 rows x 5 columns]"
      ]
     },
     "execution_count": 86,
     "metadata": {},
     "output_type": "execute_result"
    }
   ],
   "source": [
    "ticker = \"AAPL\"\n",
    "df = yf.download(ticker, start=\"2020-01-01\")\n",
    "df"
   ]
  },
  {
   "cell_type": "code",
   "execution_count": 87,
   "id": "90f3abbe",
   "metadata": {},
   "outputs": [
    {
     "data": {
      "text/plain": [
       "<Axes: xlabel='Date'>"
      ]
     },
     "execution_count": 87,
     "metadata": {},
     "output_type": "execute_result"
    },
    {
     "data": {
      "image/png": "[encoded data removed]",
      "text/plain": [
       "<Figure size 1200x800 with 1 Axes>"
      ]
     },
     "metadata": {},
     "output_type": "display_data"
    }
   ],
   "source": [
    "df.Close.plot(figsize=(12,8))"
   ]
  },
  {
   "cell_type": "code",
   "execution_count": 88,
   "id": "96a6b8a3",
   "metadata": {},
   "outputs": [],
   "source": [
    "scaler = StandardScaler()\n",
    "df['Close'] = scaler.fit_transform(df[['Close']])"
   ]
  },
  {
   "cell_type": "code",
   "execution_count": 89,
   "id": "b3feada4",
   "metadata": {},
   "outputs": [
    {
     "data": {
      "text/html": [
       "<div>\n",
       "<style scoped>\n",
       "    .dataframe tbody tr th:only-of-type {\n",
       "        vertical-align: middle;\n",
       "    }\n",
       "\n",
       "    .dataframe tbody tr th {\n",
       "        vertical-align: top;\n",
       "    }\n",
       "\n",
       "    .dataframe thead th {\n",
       "        text-align: right;\n",
       "    }\n",
       "</style>\n",
       "<table border=\"1\" class=\"dataframe\">\n",
       "  <thead>\n",
       "    <tr style=\"text-align: right;\">\n",
       "      <th>Ticker</th>\n",
       "      <th>AAPL</th>\n",
       "    </tr>\n",
       "    <tr>\n",
       "      <th>Date</th>\n",
       "      <th></th>\n",
       "    </tr>\n",
       "  </thead>\n",
       "  <tbody>\n",
       "    <tr>\n",
       "      <th>2020-01-02</th>\n",
       "      <td>-1.930650</td>\n",
       "    </tr>\n",
       "    <tr>\n",
       "      <th>2020-01-03</th>\n",
       "      <td>-1.946509</td>\n",
       "    </tr>\n",
       "    <tr>\n",
       "      <th>2020-01-06</th>\n",
       "      <td>-1.933637</td>\n",
       "    </tr>\n",
       "    <tr>\n",
       "      <th>2020-01-07</th>\n",
       "      <td>-1.941294</td>\n",
       "    </tr>\n",
       "    <tr>\n",
       "      <th>2020-01-08</th>\n",
       "      <td>-1.915225</td>\n",
       "    </tr>\n",
       "    <tr>\n",
       "      <th>...</th>\n",
       "      <td>...</td>\n",
       "    </tr>\n",
       "    <tr>\n",
       "      <th>2025-07-29</th>\n",
       "      <td>1.183796</td>\n",
       "    </tr>\n",
       "    <tr>\n",
       "      <th>2025-07-30</th>\n",
       "      <td>1.133929</td>\n",
       "    </tr>\n",
       "    <tr>\n",
       "      <th>2025-07-31</th>\n",
       "      <td>1.100684</td>\n",
       "    </tr>\n",
       "    <tr>\n",
       "      <th>2025-08-01</th>\n",
       "      <td>0.984102</td>\n",
       "    </tr>\n",
       "    <tr>\n",
       "      <th>2025-08-04</th>\n",
       "      <td>1.005891</td>\n",
       "    </tr>\n",
       "  </tbody>\n",
       "</table>\n",
       "<p>1404 rows × 1 columns</p>\n",
       "</div>"
      ],
      "text/plain": [
       "Ticker          AAPL\n",
       "Date                \n",
       "2020-01-02 -1.930650\n",
       "2020-01-03 -1.946509\n",
       "2020-01-06 -1.933637\n",
       "2020-01-07 -1.941294\n",
       "2020-01-08 -1.915225\n",
       "...              ...\n",
       "2025-07-29  1.183796\n",
       "2025-07-30  1.133929\n",
       "2025-07-31  1.100684\n",
       "2025-08-01  0.984102\n",
       "2025-08-04  1.005891\n",
       "\n",
       "[1404 rows x 1 columns]"
      ]
     },
     "execution_count": 89,
     "metadata": {},
     "output_type": "execute_result"
    }
   ],
   "source": [
    "df.Close"
   ]
  },
  {
   "cell_type": "code",
   "execution_count": 90,
   "id": "90a50873",
   "metadata": {},
   "outputs": [],
   "source": [
    "seq_length = 30\n",
    "data = []\n",
    "\n",
    "for i in range(len(df) - seq_length):\n",
    "    data.append(df.Close[i:i+seq_length])    # Each sequence overlaps with the previous one by 29 elements.\n",
    "\n",
    "data = np.array(data)"
   ]
  },
  {
   "cell_type": "markdown",
   "id": "8138f5f1",
   "metadata": {},
   "source": [
    "There is overlap. That is if input is 1,2 then test is 3, the next set will be input --> 2,3 and pred --> 4  \n",
    "  \n",
    "\n",
    "![](./image.png)  \n",
    "  \n",
    "  The arrow shows pred value"
   ]
  },
  {
   "cell_type": "code",
   "execution_count": 91,
   "id": "a57b4fa9",
   "metadata": {},
   "outputs": [
    {
     "data": {
      "text/plain": [
       "array([[[-1.93064952],\n",
       "        [-1.94650896],\n",
       "        [-1.9336368 ],\n",
       "        ...,\n",
       "        [-1.82192461],\n",
       "        [-1.7806038 ],\n",
       "        [-1.79328881]],\n",
       "\n",
       "       [[-1.94650896],\n",
       "        [-1.9336368 ],\n",
       "        [-1.94129446],\n",
       "        ...,\n",
       "        [-1.7806038 ],\n",
       "        [-1.79328881],\n",
       "        [-1.792853  ]],\n",
       "\n",
       "       [[-1.9336368 ],\n",
       "        [-1.94129446],\n",
       "        [-1.91522521],\n",
       "        ...,\n",
       "        [-1.79328881],\n",
       "        [-1.792853  ],\n",
       "        [-1.82524556]],\n",
       "\n",
       "       ...,\n",
       "\n",
       "       [[ 0.83270275],\n",
       "        [ 0.85381782],\n",
       "        [ 0.95310326],\n",
       "        ...,\n",
       "        [ 1.24624261],\n",
       "        [ 1.18379611],\n",
       "        [ 1.13392871]],\n",
       "\n",
       "       [[ 0.85381782],\n",
       "        [ 0.95310326],\n",
       "        [ 0.96433465],\n",
       "        ...,\n",
       "        [ 1.18379611],\n",
       "        [ 1.13392871],\n",
       "        [ 1.10068389]],\n",
       "\n",
       "       [[ 0.95310326],\n",
       "        [ 0.96433465],\n",
       "        [ 0.93737938],\n",
       "        ...,\n",
       "        [ 1.13392871],\n",
       "        [ 1.10068389],\n",
       "        [ 0.98410201]]])"
      ]
     },
     "execution_count": 91,
     "metadata": {},
     "output_type": "execute_result"
    }
   ],
   "source": [
    "data"
   ]
  },
  {
   "cell_type": "code",
   "execution_count": 92,
   "id": "ae7b89ac",
   "metadata": {},
   "outputs": [],
   "source": [
    "train_size = int(0.8 * len(data))\n",
    "\n",
    "X_train = torch.from_numpy(data[:train_size, :-1, :]).type(torch.Tensor).to(device) # first 29 elements in all sequences\n",
    "y_train = torch.from_numpy(data[:train_size, -1, :]).type(torch.Tensor).to(device)  # last element ie 30th element\n",
    "\n",
    "X_test = torch.from_numpy(data[train_size:, :-1, :]).type(torch.Tensor).to(device)  # only diff is no :train_size but starts from train_size:\n",
    "y_test = torch.from_numpy(data[train_size:, -1, :]).type(torch.Tensor).to(device)"
   ]
  },
  {
   "cell_type": "markdown",
   "id": "f9d6ab6f",
   "metadata": {},
   "source": [
    "#### Why We Don't Shuffle Time Series Data\n",
    "\n",
    "Unlike regular machine learning tasks (e.g., classification with `train_test_split(shuffle=True)`), time series data has a **temporal order**.\n",
    "\n",
    "Shuffling the data would break the sequence of events and **leak future information into the past**, making the model unrealistic and invalid for real-world prediction.\n",
    "\n",
    "So we keep the **older data for training** and the **newer data for testing**, preserving the timeline and making the prediction task reflect real scenarios.\n"
   ]
  },
  {
   "cell_type": "markdown",
   "id": "f0959336",
   "metadata": {},
   "source": [
    "___________________"
   ]
  },
  {
   "cell_type": "markdown",
   "id": "79ce4350",
   "metadata": {},
   "source": [
    "## Model"
   ]
  },
  {
   "cell_type": "code",
   "execution_count": 93,
   "id": "b27d01ed",
   "metadata": {},
   "outputs": [],
   "source": [
    "class PredictionModel(nn.Module):\n",
    "    def __init__(self, input_dim, hidden_dim, num_layers, output_dim):\n",
    "        super(PredictionModel, self).__init__()\n",
    "\n",
    "        self.num_layers = num_layers\n",
    "        self.hidden_dim = hidden_dim\n",
    "\n",
    "        self.lstm = nn.LSTM(input_dim, hidden_dim, num_layers, batch_first=True)\n",
    "        self.fc = nn.Linear(hidden_dim, output_dim)\n",
    "\n",
    "    def forward(self, x):\n",
    "        h0 = torch.zeros(self.num_layers, x.size(0), self.hidden_dim, device=device)\n",
    "        c0 = torch.zeros(self.num_layers, x.size(0), self.hidden_dim, device=device)\n",
    "\n",
    "        out, (hn, cn) = self.lstm(x, (h0.detach(), c0.detach()))\n",
    "        out = self.fc(out[:, -1, :])\n",
    "\n",
    "        return out"
   ]
  },
  {
   "cell_type": "code",
   "execution_count": 94,
   "id": "cc3c6441",
   "metadata": {},
   "outputs": [],
   "source": [
    "model = PredictionModel(input_dim=1, hidden_dim=32, num_layers=2, output_dim=1).to(device)"
   ]
  },
  {
   "cell_type": "code",
   "execution_count": 95,
   "id": "576135e6",
   "metadata": {},
   "outputs": [],
   "source": [
    "criterion = nn.MSELoss()\n",
    "optimizer = optim.Adam(model.parameters(), lr=0.01)"
   ]
  },
  {
   "cell_type": "code",
   "execution_count": 96,
   "id": "766a892c",
   "metadata": {},
   "outputs": [
    {
     "name": "stdout",
     "output_type": "stream",
     "text": [
      "1 0.7044833898544312\n",
      "25 0.009206242859363556\n",
      "50 0.005937922280281782\n",
      "75 0.005247144959867001\n",
      "100 0.004921857733279467\n",
      "125 0.004632361698895693\n",
      "150 0.0043573579750955105\n",
      "175 0.004097179509699345\n",
      "200 0.0038704026956111193\n"
     ]
    }
   ],
   "source": [
    "num_epochs = 200\n",
    "\n",
    "for i in range(num_epochs):\n",
    "    y_train_pred = model (X_train)\n",
    "\n",
    "    loss = criterion(y_train_pred, y_train)\n",
    "\n",
    "    if i == 0 or (i + 1) % 25 == 0:\n",
    "        print(i+1, loss.item())\n",
    "\n",
    "    optimizer.zero_grad()\n",
    "    loss.backward()\n",
    "    optimizer.step()"
   ]
  },
  {
   "cell_type": "code",
   "execution_count": 97,
   "id": "fea1d3bc",
   "metadata": {},
   "outputs": [],
   "source": [
    "model.eval()\n",
    "\n",
    "y_test_pred = model(X_test)\n",
    "\n",
    "y_train_pred = scaler.inverse_transform(y_train_pred.detach().cpu().numpy())\n",
    "y_train = scaler.inverse_transform(y_train.detach().cpu().numpy())\n",
    "y_test_pred = scaler.inverse_transform(y_test_pred.detach().cpu().numpy())\n",
    "y_test = scaler.inverse_transform(y_test.detach().cpu().numpy())"
   ]
  },
  {
   "cell_type": "code",
   "execution_count": 98,
   "id": "389dd2ab",
   "metadata": {},
   "outputs": [
    {
     "name": "stdout",
     "output_type": "stream",
     "text": [
      "Train RMSE: 2.7695841789245605\n",
      "Test RMSE: 6.024062633514404\n"
     ]
    }
   ],
   "source": [
    "train_rmse = root_mean_squared_error(y_train[:, 0], y_train_pred[:, 0])\n",
    "print(f\"Train RMSE: {train_rmse}\")\n",
    "\n",
    "test_rmse = root_mean_squared_error(y_test[:, 0], y_test_pred[:, 0])\n",
    "print(f\"Test RMSE: {test_rmse}\")"
   ]
  }
 ],
 "metadata": {
  "kernelspec": {
   "display_name": "Python 3",
   "language": "python",
   "name": "python3"
  },
  "language_info": {
   "codemirror_mode": {
    "name": "ipython",
    "version": 3
   },
   "file_extension": ".py",
   "mimetype": "text/x-python",
   "name": "python",
   "nbconvert_exporter": "python",
   "pygments_lexer": "ipython3",
   "version": "3.10.0"
  }
 },
 "nbformat": 4,
 "nbformat_minor": 5
}
