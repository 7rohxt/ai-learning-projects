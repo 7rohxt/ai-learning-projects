{
 "cells": [
  {
   "cell_type": "markdown",
   "id": "81fb873e",
   "metadata": {},
   "source": [
    "## Importing headers"
   ]
  },
  {
   "cell_type": "code",
   "execution_count": 1,
   "id": "95f87488",
   "metadata": {},
   "outputs": [],
   "source": [
    "import numpy as np\n",
    "import pandas as pd\n",
    "import yfinance as yf\n",
    "import matplotlib.pyplot as plt\n",
    "\n",
    "import torch\n",
    "import torch.nn as nn\n",
    "import torch.optim as optim\n",
    "\n",
    "from sklearn.preprocessing import StandardScaler\n",
    "from sklearn.metrics import root_mean_squared_error"
   ]
  },
  {
   "cell_type": "code",
   "execution_count": 2,
   "id": "17a6c69c",
   "metadata": {},
   "outputs": [
    {
     "data": {
      "text/plain": [
       "device(type='cuda')"
      ]
     },
     "execution_count": 2,
     "metadata": {},
     "output_type": "execute_result"
    }
   ],
   "source": [
    "device = torch.device('cuda' if torch.cuda.is_available() else 'cpu')\n",
    "device"
   ]
  },
  {
   "cell_type": "markdown",
   "id": "23310c04",
   "metadata": {},
   "source": [
    "## Data Loading and Exploration"
   ]
  },
  {
   "cell_type": "code",
   "execution_count": 3,
   "id": "30bc71b2",
   "metadata": {},
   "outputs": [
    {
     "name": "stderr",
     "output_type": "stream",
     "text": [
      "C:\\Users\\rk\\AppData\\Local\\Temp\\ipykernel_13964\\101187372.py:2: FutureWarning: YF.download() has changed argument auto_adjust default to True\n",
      "  df = yf.download(ticker, start=\"2020-01-01\")\n",
      "[*********************100%***********************]  1 of 1 completed\n"
     ]
    },
    {
     "data": {
      "text/html": [
       "<div>\n",
       "<style scoped>\n",
       "    .dataframe tbody tr th:only-of-type {\n",
       "        vertical-align: middle;\n",
       "    }\n",
       "\n",
       "    .dataframe tbody tr th {\n",
       "        vertical-align: top;\n",
       "    }\n",
       "\n",
       "    .dataframe thead tr th {\n",
       "        text-align: left;\n",
       "    }\n",
       "\n",
       "    .dataframe thead tr:last-of-type th {\n",
       "        text-align: right;\n",
       "    }\n",
       "</style>\n",
       "<table border=\"1\" class=\"dataframe\">\n",
       "  <thead>\n",
       "    <tr>\n",
       "      <th>Price</th>\n",
       "      <th>Close</th>\n",
       "      <th>High</th>\n",
       "      <th>Low</th>\n",
       "      <th>Open</th>\n",
       "      <th>Volume</th>\n",
       "    </tr>\n",
       "    <tr>\n",
       "      <th>Ticker</th>\n",
       "      <th>AAPL</th>\n",
       "      <th>AAPL</th>\n",
       "      <th>AAPL</th>\n",
       "      <th>AAPL</th>\n",
       "      <th>AAPL</th>\n",
       "    </tr>\n",
       "    <tr>\n",
       "      <th>Date</th>\n",
       "      <th></th>\n",
       "      <th></th>\n",
       "      <th></th>\n",
       "      <th></th>\n",
       "      <th></th>\n",
       "    </tr>\n",
       "  </thead>\n",
       "  <tbody>\n",
       "    <tr>\n",
       "      <th>2020-01-02</th>\n",
       "      <td>72.620827</td>\n",
       "      <td>72.681274</td>\n",
       "      <td>71.373203</td>\n",
       "      <td>71.627077</td>\n",
       "      <td>135480400</td>\n",
       "    </tr>\n",
       "    <tr>\n",
       "      <th>2020-01-03</th>\n",
       "      <td>71.914825</td>\n",
       "      <td>72.676454</td>\n",
       "      <td>71.689965</td>\n",
       "      <td>71.847125</td>\n",
       "      <td>146322800</td>\n",
       "    </tr>\n",
       "    <tr>\n",
       "      <th>2020-01-06</th>\n",
       "      <td>72.487839</td>\n",
       "      <td>72.526526</td>\n",
       "      <td>70.783241</td>\n",
       "      <td>71.034702</td>\n",
       "      <td>118387200</td>\n",
       "    </tr>\n",
       "    <tr>\n",
       "      <th>2020-01-07</th>\n",
       "      <td>72.146957</td>\n",
       "      <td>72.753839</td>\n",
       "      <td>71.926930</td>\n",
       "      <td>72.497545</td>\n",
       "      <td>108872000</td>\n",
       "    </tr>\n",
       "    <tr>\n",
       "      <th>2020-01-08</th>\n",
       "      <td>73.307503</td>\n",
       "      <td>73.609737</td>\n",
       "      <td>71.849525</td>\n",
       "      <td>71.849525</td>\n",
       "      <td>132079200</td>\n",
       "    </tr>\n",
       "    <tr>\n",
       "      <th>...</th>\n",
       "      <td>...</td>\n",
       "      <td>...</td>\n",
       "      <td>...</td>\n",
       "      <td>...</td>\n",
       "      <td>...</td>\n",
       "    </tr>\n",
       "    <tr>\n",
       "      <th>2025-07-28</th>\n",
       "      <td>214.050003</td>\n",
       "      <td>214.850006</td>\n",
       "      <td>213.059998</td>\n",
       "      <td>214.029999</td>\n",
       "      <td>37858000</td>\n",
       "    </tr>\n",
       "    <tr>\n",
       "      <th>2025-07-29</th>\n",
       "      <td>211.270004</td>\n",
       "      <td>214.809998</td>\n",
       "      <td>210.820007</td>\n",
       "      <td>214.179993</td>\n",
       "      <td>51411700</td>\n",
       "    </tr>\n",
       "    <tr>\n",
       "      <th>2025-07-30</th>\n",
       "      <td>209.050003</td>\n",
       "      <td>212.389999</td>\n",
       "      <td>207.720001</td>\n",
       "      <td>211.899994</td>\n",
       "      <td>45512500</td>\n",
       "    </tr>\n",
       "    <tr>\n",
       "      <th>2025-07-31</th>\n",
       "      <td>207.570007</td>\n",
       "      <td>209.839996</td>\n",
       "      <td>207.160004</td>\n",
       "      <td>208.490005</td>\n",
       "      <td>80698400</td>\n",
       "    </tr>\n",
       "    <tr>\n",
       "      <th>2025-08-01</th>\n",
       "      <td>202.380005</td>\n",
       "      <td>213.580002</td>\n",
       "      <td>201.500000</td>\n",
       "      <td>210.869995</td>\n",
       "      <td>104301700</td>\n",
       "    </tr>\n",
       "  </tbody>\n",
       "</table>\n",
       "<p>1403 rows × 5 columns</p>\n",
       "</div>"
      ],
      "text/plain": [
       "Price            Close        High         Low        Open     Volume\n",
       "Ticker            AAPL        AAPL        AAPL        AAPL       AAPL\n",
       "Date                                                                 \n",
       "2020-01-02   72.620827   72.681274   71.373203   71.627077  135480400\n",
       "2020-01-03   71.914825   72.676454   71.689965   71.847125  146322800\n",
       "2020-01-06   72.487839   72.526526   70.783241   71.034702  118387200\n",
       "2020-01-07   72.146957   72.753839   71.926930   72.497545  108872000\n",
       "2020-01-08   73.307503   73.609737   71.849525   71.849525  132079200\n",
       "...                ...         ...         ...         ...        ...\n",
       "2025-07-28  214.050003  214.850006  213.059998  214.029999   37858000\n",
       "2025-07-29  211.270004  214.809998  210.820007  214.179993   51411700\n",
       "2025-07-30  209.050003  212.389999  207.720001  211.899994   45512500\n",
       "2025-07-31  207.570007  209.839996  207.160004  208.490005   80698400\n",
       "2025-08-01  202.380005  213.580002  201.500000  210.869995  104301700\n",
       "\n",
       "[1403 rows x 5 columns]"
      ]
     },
     "execution_count": 3,
     "metadata": {},
     "output_type": "execute_result"
    }
   ],
   "source": [
    "ticker = \"AAPL\"\n",
    "df = yf.download(ticker, start=\"2020-01-01\")\n",
    "df"
   ]
  },
  {
   "cell_type": "code",
   "execution_count": 4,
   "id": "90f3abbe",
   "metadata": {},
   "outputs": [
    {
     "data": {
      "text/plain": [
       "<Axes: xlabel='Date'>"
      ]
     },
     "execution_count": 4,
     "metadata": {},
     "output_type": "execute_result"
    },
    {
     "data": {
      "image/png": "[encoded data removed]",
      "text/plain": [
       "<Figure size 1200x800 with 1 Axes>"
      ]
     },
     "metadata": {},
     "output_type": "display_data"
    }
   ],
   "source": [
    "df.Close.plot(figsize=(12,8))"
   ]
  },
  {
   "cell_type": "code",
   "execution_count": 5,
   "id": "96a6b8a3",
   "metadata": {},
   "outputs": [],
   "source": [
    "scaler = StandardScaler()\n",
    "df['Close'] = scaler.fit_transform(df[['Close']])"
   ]
  },
  {
   "cell_type": "code",
   "execution_count": 6,
   "id": "b3feada4",
   "metadata": {},
   "outputs": [
    {
     "data": {
      "text/html": [
       "<div>\n",
       "<style scoped>\n",
       "    .dataframe tbody tr th:only-of-type {\n",
       "        vertical-align: middle;\n",
       "    }\n",
       "\n",
       "    .dataframe tbody tr th {\n",
       "        vertical-align: top;\n",
       "    }\n",
       "\n",
       "    .dataframe thead th {\n",
       "        text-align: right;\n",
       "    }\n",
       "</style>\n",
       "<table border=\"1\" class=\"dataframe\">\n",
       "  <thead>\n",
       "    <tr style=\"text-align: right;\">\n",
       "      <th>Ticker</th>\n",
       "      <th>AAPL</th>\n",
       "    </tr>\n",
       "    <tr>\n",
       "      <th>Date</th>\n",
       "      <th></th>\n",
       "    </tr>\n",
       "  </thead>\n",
       "  <tbody>\n",
       "    <tr>\n",
       "      <th>2020-01-02</th>\n",
       "      <td>-1.929942</td>\n",
       "    </tr>\n",
       "    <tr>\n",
       "      <th>2020-01-03</th>\n",
       "      <td>-1.945800</td>\n",
       "    </tr>\n",
       "    <tr>\n",
       "      <th>2020-01-06</th>\n",
       "      <td>-1.932929</td>\n",
       "    </tr>\n",
       "    <tr>\n",
       "      <th>2020-01-07</th>\n",
       "      <td>-1.940586</td>\n",
       "    </tr>\n",
       "    <tr>\n",
       "      <th>2020-01-08</th>\n",
       "      <td>-1.914517</td>\n",
       "    </tr>\n",
       "    <tr>\n",
       "      <th>...</th>\n",
       "      <td>...</td>\n",
       "    </tr>\n",
       "    <tr>\n",
       "      <th>2025-07-28</th>\n",
       "      <td>1.246965</td>\n",
       "    </tr>\n",
       "    <tr>\n",
       "      <th>2025-07-29</th>\n",
       "      <td>1.184518</td>\n",
       "    </tr>\n",
       "    <tr>\n",
       "      <th>2025-07-30</th>\n",
       "      <td>1.134651</td>\n",
       "    </tr>\n",
       "    <tr>\n",
       "      <th>2025-07-31</th>\n",
       "      <td>1.101406</td>\n",
       "    </tr>\n",
       "    <tr>\n",
       "      <th>2025-08-01</th>\n",
       "      <td>0.984823</td>\n",
       "    </tr>\n",
       "  </tbody>\n",
       "</table>\n",
       "<p>1403 rows × 1 columns</p>\n",
       "</div>"
      ],
      "text/plain": [
       "Ticker          AAPL\n",
       "Date                \n",
       "2020-01-02 -1.929942\n",
       "2020-01-03 -1.945800\n",
       "2020-01-06 -1.932929\n",
       "2020-01-07 -1.940586\n",
       "2020-01-08 -1.914517\n",
       "...              ...\n",
       "2025-07-28  1.246965\n",
       "2025-07-29  1.184518\n",
       "2025-07-30  1.134651\n",
       "2025-07-31  1.101406\n",
       "2025-08-01  0.984823\n",
       "\n",
       "[1403 rows x 1 columns]"
      ]
     },
     "execution_count": 6,
     "metadata": {},
     "output_type": "execute_result"
    }
   ],
   "source": [
    "df.Close"
   ]
  },
  {
   "cell_type": "code",
   "execution_count": null,
   "id": "90a50873",
   "metadata": {},
   "outputs": [],
   "source": [
    "seq_length = 30\n",
    "data = []\n",
    "\n",
    "for i in range(len(df) - seq_length):\n",
    "    data.append(df.Close[i:i+seq_length])    # Each sequence overlaps with the previous one by 29 elements.\n",
    "\n",
    "data = np.array(data)"
   ]
  },
  {
   "cell_type": "markdown",
   "id": "8138f5f1",
   "metadata": {},
   "source": [
    "There is overlap. That is if input is 1,2 then test is 3, the next set will be input --> 2,3 and pred --> 4  \n",
    "  \n",
    "\n",
    "![](./image.png)  \n",
    "  \n",
    "  The arrow shows pred value"
   ]
  },
  {
   "cell_type": "code",
   "execution_count": 9,
   "id": "a57b4fa9",
   "metadata": {},
   "outputs": [
    {
     "data": {
      "text/plain": [
       "array([[[-1.92994152],\n",
       "        [-1.94580034],\n",
       "        [-1.93292881],\n",
       "        ...,\n",
       "        [-1.82121595],\n",
       "        [-1.77989513],\n",
       "        [-1.7925802 ]],\n",
       "\n",
       "       [[-1.94580034],\n",
       "        [-1.93292881],\n",
       "        [-1.94058599],\n",
       "        ...,\n",
       "        [-1.77989513],\n",
       "        [-1.7925802 ],\n",
       "        [-1.79214404]],\n",
       "\n",
       "       [[-1.93292881],\n",
       "        [-1.94058599],\n",
       "        [-1.9145168 ],\n",
       "        ...,\n",
       "        [-1.7925802 ],\n",
       "        [-1.79214404],\n",
       "        [-1.82453674]],\n",
       "\n",
       "       ...,\n",
       "\n",
       "       [[ 0.89587022],\n",
       "        [ 0.83342344],\n",
       "        [ 0.8545386 ],\n",
       "        ...,\n",
       "        [ 1.2431465 ],\n",
       "        [ 1.24696515],\n",
       "        [ 1.18451837]],\n",
       "\n",
       "       [[ 0.83342344],\n",
       "        [ 0.8545386 ],\n",
       "        [ 0.95382449],\n",
       "        ...,\n",
       "        [ 1.24696515],\n",
       "        [ 1.18451837],\n",
       "        [ 1.13465074]],\n",
       "\n",
       "       [[ 0.8545386 ],\n",
       "        [ 0.95382449],\n",
       "        [ 0.96505593],\n",
       "        ...,\n",
       "        [ 1.18451837],\n",
       "        [ 1.13465074],\n",
       "        [ 1.10140578]]])"
      ]
     },
     "execution_count": 9,
     "metadata": {},
     "output_type": "execute_result"
    }
   ],
   "source": [
    "data"
   ]
  },
  {
   "cell_type": "code",
   "execution_count": 17,
   "id": "ae7b89ac",
   "metadata": {},
   "outputs": [],
   "source": [
    "train_size = int(0.8 * len(data))\n",
    "\n",
    "X_train = torch.from_numpy(data[:train_size, :-1, :]) # first 29 elements in all sequences\n",
    "y_train = torch.from_numpy(data[:train_size, -1, :])  # last element ie 30th element\n",
    "\n",
    "X_test = torch.from_numpy(data[train_size:, :-1, :])  # only diff is no :train_size but starts from train_size:\n",
    "y_test = torch.from_numpy(data[train_size:, -1, :])"
   ]
  },
  {
   "cell_type": "markdown",
   "id": "f9d6ab6f",
   "metadata": {},
   "source": [
    "#### Why We Don't Shuffle Time Series Data\n",
    "\n",
    "Unlike regular machine learning tasks (e.g., classification with `train_test_split(shuffle=True)`), time series data has a **temporal order**.\n",
    "\n",
    "Shuffling the data would break the sequence of events and **leak future information into the past**, making the model unrealistic and invalid for real-world prediction.\n",
    "\n",
    "So we keep the **older data for training** and the **newer data for testing**, preserving the timeline and making the prediction task reflect real scenarios.\n"
   ]
  },
  {
   "cell_type": "code",
   "execution_count": 21,
   "id": "9765aeff",
   "metadata": {},
   "outputs": [
    {
     "name": "stdout",
     "output_type": "stream",
     "text": [
      "X_train shape : torch.Size([1098, 29, 1])\n",
      "y_train shape : torch.Size([1098, 1])\n",
      "X_test shape  : torch.Size([275, 29, 1])\n",
      "y_test shape  : torch.Size([275, 1])\n"
     ]
    }
   ],
   "source": [
    "print(f\"X_train shape : {X_train.shape}\")\n",
    "print(f\"y_train shape : {y_train.shape}\")\n",
    "print(f\"X_test shape  : {X_test.shape}\")\n",
    "print(f\"y_test shape  : {y_test.shape}\")"
   ]
  }
 ],
 "metadata": {
  "kernelspec": {
   "display_name": "Python 3",
   "language": "python",
   "name": "python3"
  },
  "language_info": {
   "codemirror_mode": {
    "name": "ipython",
    "version": 3
   },
   "file_extension": ".py",
   "mimetype": "text/x-python",
   "name": "python",
   "nbconvert_exporter": "python",
   "pygments_lexer": "ipython3",
   "version": "3.10.0"
  }
 },
 "nbformat": 4,
 "nbformat_minor": 5
}
