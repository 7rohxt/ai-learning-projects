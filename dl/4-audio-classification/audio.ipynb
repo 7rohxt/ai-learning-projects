{
 "cells": [
  {
   "cell_type": "markdown",
   "id": "b74976a8",
   "metadata": {},
   "source": [
    "# Importing Libraries"
   ]
  },
  {
   "cell_type": "code",
   "execution_count": 1,
   "id": "43a1abf4",
   "metadata": {},
   "outputs": [],
   "source": [
    "import torch \n",
    "from torch import nn \n",
    "from torch.optim import Adam \n",
    "import librosa\n",
    "from torch.utils.data import Dataset, DataLoader \n",
    "from sklearn.preprocessing import LabelEncoder \n",
    "import matplotlib.pyplot as plt\n",
    "import pandas as pd \n",
    "import numpy as np \n",
    "import os\n",
    "import shutil\n",
    "import time \n",
    "from skimage.transform import resize \n",
    "\n",
    "device = \"cuda\" if torch.cuda.is_available() else \"cpu\""
   ]
  },
  {
   "cell_type": "markdown",
   "id": "acbef8d9",
   "metadata": {},
   "source": [
    "# Loading Data"
   ]
  },
  {
   "cell_type": "code",
   "execution_count": 2,
   "id": "869adebe",
   "metadata": {},
   "outputs": [
    {
     "data": {
      "text/html": [
       "<div>\n",
       "<style scoped>\n",
       "    .dataframe tbody tr th:only-of-type {\n",
       "        vertical-align: middle;\n",
       "    }\n",
       "\n",
       "    .dataframe tbody tr th {\n",
       "        vertical-align: top;\n",
       "    }\n",
       "\n",
       "    .dataframe thead th {\n",
       "        text-align: right;\n",
       "    }\n",
       "</style>\n",
       "<table border=\"1\" class=\"dataframe\">\n",
       "  <thead>\n",
       "    <tr style=\"text-align: right;\">\n",
       "      <th></th>\n",
       "      <th>filename</th>\n",
       "      <th>fold</th>\n",
       "      <th>target</th>\n",
       "      <th>category</th>\n",
       "      <th>esc10</th>\n",
       "      <th>src_file</th>\n",
       "      <th>take</th>\n",
       "    </tr>\n",
       "  </thead>\n",
       "  <tbody>\n",
       "    <tr>\n",
       "      <th>0</th>\n",
       "      <td>1-100032-A-0.wav</td>\n",
       "      <td>1</td>\n",
       "      <td>0</td>\n",
       "      <td>dog</td>\n",
       "      <td>True</td>\n",
       "      <td>100032</td>\n",
       "      <td>A</td>\n",
       "    </tr>\n",
       "    <tr>\n",
       "      <th>1</th>\n",
       "      <td>1-100038-A-14.wav</td>\n",
       "      <td>1</td>\n",
       "      <td>14</td>\n",
       "      <td>chirping_birds</td>\n",
       "      <td>False</td>\n",
       "      <td>100038</td>\n",
       "      <td>A</td>\n",
       "    </tr>\n",
       "    <tr>\n",
       "      <th>2</th>\n",
       "      <td>1-100210-A-36.wav</td>\n",
       "      <td>1</td>\n",
       "      <td>36</td>\n",
       "      <td>vacuum_cleaner</td>\n",
       "      <td>False</td>\n",
       "      <td>100210</td>\n",
       "      <td>A</td>\n",
       "    </tr>\n",
       "    <tr>\n",
       "      <th>3</th>\n",
       "      <td>1-100210-B-36.wav</td>\n",
       "      <td>1</td>\n",
       "      <td>36</td>\n",
       "      <td>vacuum_cleaner</td>\n",
       "      <td>False</td>\n",
       "      <td>100210</td>\n",
       "      <td>B</td>\n",
       "    </tr>\n",
       "    <tr>\n",
       "      <th>4</th>\n",
       "      <td>1-101296-A-19.wav</td>\n",
       "      <td>1</td>\n",
       "      <td>19</td>\n",
       "      <td>thunderstorm</td>\n",
       "      <td>False</td>\n",
       "      <td>101296</td>\n",
       "      <td>A</td>\n",
       "    </tr>\n",
       "  </tbody>\n",
       "</table>\n",
       "</div>"
      ],
      "text/plain": [
       "            filename  fold  target        category  esc10  src_file take\n",
       "0   1-100032-A-0.wav     1       0             dog   True    100032    A\n",
       "1  1-100038-A-14.wav     1      14  chirping_birds  False    100038    A\n",
       "2  1-100210-A-36.wav     1      36  vacuum_cleaner  False    100210    A\n",
       "3  1-100210-B-36.wav     1      36  vacuum_cleaner  False    100210    B\n",
       "4  1-101296-A-19.wav     1      19    thunderstorm  False    101296    A"
      ]
     },
     "execution_count": 2,
     "metadata": {},
     "output_type": "execute_result"
    }
   ],
   "source": [
    "df = pd.read_csv('ESC-50-master/meta/esc50.csv')\n",
    "\n",
    "df.head()"
   ]
  },
  {
   "cell_type": "code",
   "execution_count": 3,
   "id": "a8171e25",
   "metadata": {},
   "outputs": [
    {
     "data": {
      "text/plain": [
       "50"
      ]
     },
     "execution_count": 3,
     "metadata": {},
     "output_type": "execute_result"
    }
   ],
   "source": [
    "len(df[\"category\"].unique())"
   ]
  },
  {
   "cell_type": "markdown",
   "id": "3b106d50",
   "metadata": {},
   "source": [
    "ESC-50 has 50 different classes. But for simplicity I'm taking ESC-10 which has 10 classes"
   ]
  },
  {
   "cell_type": "markdown",
   "id": "2f40ff1c",
   "metadata": {},
   "source": [
    "## Filter out ESC-10"
   ]
  },
  {
   "cell_type": "code",
   "execution_count": 4,
   "id": "4be9eccf",
   "metadata": {},
   "outputs": [
    {
     "name": "stdout",
     "output_type": "stream",
     "text": [
      "['dog' 'chainsaw' 'crackling_fire' 'helicopter' 'rain' 'crying_baby'\n",
      " 'clock_tick' 'sneezing' 'rooster' 'sea_waves']\n"
     ]
    }
   ],
   "source": [
    "df = df[df['esc10'] == True].reset_index(drop=True)\n",
    "\n",
    "print(df['category'].unique())"
   ]
  },
  {
   "cell_type": "code",
   "execution_count": 5,
   "id": "376e5f4d",
   "metadata": {},
   "outputs": [
    {
     "data": {
      "text/plain": [
       "10"
      ]
     },
     "execution_count": 5,
     "metadata": {},
     "output_type": "execute_result"
    }
   ],
   "source": [
    "len(df[\"category\"].unique())"
   ]
  },
  {
   "cell_type": "code",
   "execution_count": 6,
   "id": "a702875b",
   "metadata": {},
   "outputs": [],
   "source": [
    "audio_dir = 'ESC-50-master/audio'\n",
    "save_dir = 'esc10_dataset'\n",
    "os.makedirs(save_dir, exist_ok=True)\n",
    "\n",
    "for _, row in df.iterrows():\n",
    "    class_name = row['category']\n",
    "    filename = row['filename']\n",
    "    \n",
    "    class_dir = os.path.join(save_dir, class_name)\n",
    "    os.makedirs(class_dir, exist_ok=True)\n",
    "    \n",
    "    src = os.path.join(audio_dir, filename)\n",
    "    dst = os.path.join(class_dir, filename)\n",
    "    \n",
    "    shutil.copy(src, dst)\n"
   ]
  },
  {
   "cell_type": "markdown",
   "id": "6851b09f",
   "metadata": {},
   "source": [
    "### Creating file_paths.csv to later use it in custom dataset class"
   ]
  },
  {
   "cell_type": "code",
   "execution_count": 7,
   "id": "18eadbc7",
   "metadata": {},
   "outputs": [],
   "source": [
    "dataset_dir = 'esc10_dataset'\n",
    "data = []\n",
    "\n",
    "for class_name in os.listdir(dataset_dir):\n",
    "    class_dir = os.path.join(dataset_dir, class_name)\n",
    "    if os.path.isdir(class_dir):\n",
    "        for file_name in os.listdir(class_dir):\n",
    "            if file_name.endswith('.wav'):\n",
    "                file_path = os.path.join(class_dir, file_name)\n",
    "                data.append({'FilePath': file_path, 'Class': class_name})\n",
    "\n",
    "df_paths = pd.DataFrame(data)\n",
    "df_paths.to_csv('file_paths.csv', index=False)"
   ]
  },
  {
   "cell_type": "code",
   "execution_count": 8,
   "id": "7b75e6c7",
   "metadata": {},
   "outputs": [
    {
     "data": {
      "text/html": [
       "<div>\n",
       "<style scoped>\n",
       "    .dataframe tbody tr th:only-of-type {\n",
       "        vertical-align: middle;\n",
       "    }\n",
       "\n",
       "    .dataframe tbody tr th {\n",
       "        vertical-align: top;\n",
       "    }\n",
       "\n",
       "    .dataframe thead th {\n",
       "        text-align: right;\n",
       "    }\n",
       "</style>\n",
       "<table border=\"1\" class=\"dataframe\">\n",
       "  <thead>\n",
       "    <tr style=\"text-align: right;\">\n",
       "      <th></th>\n",
       "      <th>FilePath</th>\n",
       "      <th>Class</th>\n",
       "    </tr>\n",
       "  </thead>\n",
       "  <tbody>\n",
       "    <tr>\n",
       "      <th>0</th>\n",
       "      <td>esc10_dataset\\chainsaw\\1-116765-A-41.wav</td>\n",
       "      <td>chainsaw</td>\n",
       "    </tr>\n",
       "    <tr>\n",
       "      <th>1</th>\n",
       "      <td>esc10_dataset\\chainsaw\\1-19898-A-41.wav</td>\n",
       "      <td>chainsaw</td>\n",
       "    </tr>\n",
       "    <tr>\n",
       "      <th>2</th>\n",
       "      <td>esc10_dataset\\chainsaw\\1-19898-B-41.wav</td>\n",
       "      <td>chainsaw</td>\n",
       "    </tr>\n",
       "    <tr>\n",
       "      <th>3</th>\n",
       "      <td>esc10_dataset\\chainsaw\\1-19898-C-41.wav</td>\n",
       "      <td>chainsaw</td>\n",
       "    </tr>\n",
       "    <tr>\n",
       "      <th>4</th>\n",
       "      <td>esc10_dataset\\chainsaw\\1-47250-A-41.wav</td>\n",
       "      <td>chainsaw</td>\n",
       "    </tr>\n",
       "  </tbody>\n",
       "</table>\n",
       "</div>"
      ],
      "text/plain": [
       "                                   FilePath     Class\n",
       "0  esc10_dataset\\chainsaw\\1-116765-A-41.wav  chainsaw\n",
       "1   esc10_dataset\\chainsaw\\1-19898-A-41.wav  chainsaw\n",
       "2   esc10_dataset\\chainsaw\\1-19898-B-41.wav  chainsaw\n",
       "3   esc10_dataset\\chainsaw\\1-19898-C-41.wav  chainsaw\n",
       "4   esc10_dataset\\chainsaw\\1-47250-A-41.wav  chainsaw"
      ]
     },
     "execution_count": 8,
     "metadata": {},
     "output_type": "execute_result"
    }
   ],
   "source": [
    "df_paths.head()"
   ]
  },
  {
   "cell_type": "markdown",
   "id": "a3248633",
   "metadata": {},
   "source": [
    "# Exploration"
   ]
  },
  {
   "cell_type": "code",
   "execution_count": 9,
   "id": "2a02f96b",
   "metadata": {},
   "outputs": [
    {
     "data": {
      "image/png": "[encoded data removed]",
      "text/plain": [
       "<Figure size 600x600 with 1 Axes>"
      ]
     },
     "metadata": {},
     "output_type": "display_data"
    }
   ],
   "source": [
    "plt.figure(figsize=(6, 6)) \n",
    "\n",
    "plt.pie(df_paths['Class'].value_counts(), labels=df_paths['Class'].value_counts().index, autopct='%1.1f%%')\n",
    "\n",
    "plt.title('Class Distribution') \n",
    "plt.show() "
   ]
  },
  {
   "cell_type": "markdown",
   "id": "2c4a4024",
   "metadata": {},
   "source": [
    "# Preprocessing"
   ]
  },
  {
   "cell_type": "code",
   "execution_count": 10,
   "id": "984684a3",
   "metadata": {},
   "outputs": [],
   "source": [
    "label_encoder = LabelEncoder()\n",
    "df_paths[\"Class\"] = label_encoder.fit_transform(df_paths[\"Class\"])"
   ]
  },
  {
   "cell_type": "code",
   "execution_count": 11,
   "id": "02e31c2c",
   "metadata": {},
   "outputs": [
    {
     "name": "stdout",
     "output_type": "stream",
     "text": [
      "Training Shape:  (280, 2)\n",
      "Validation Shape:  (60, 2)\n",
      "Testing Shape:  (60, 2)\n"
     ]
    }
   ],
   "source": [
    "train = df_paths.sample(frac=0.7, random_state=7)\n",
    "test = df_paths.drop(train.index)\n",
    "\n",
    "val = test.sample(frac=0.5, random_state=7)\n",
    "test = test.drop(val.index)\n",
    "\n",
    "print(\"Training Shape: \", train.shape)\n",
    "print(\"Validation Shape: \", val.shape)\n",
    "print(\"Testing Shape: \", test.shape)"
   ]
  },
  {
   "cell_type": "markdown",
   "id": "64f92a21",
   "metadata": {},
   "source": [
    "##### PyTorch Dataset Preprocessing Tasks\n",
    "\n",
    "| Inside `Dataset` Class *(per-sample, at runtime)* | Outside `Dataset` Class *(once for full dataset)* |\n",
    "|------------------------------------------------------|-----------------------------------------------------|\n",
    "| Load files (e.g., image, audio)                     | Read CSV or metadata                                |\n",
    "| Apply transforms (e.g., resize, crop)               | Train/test split                                    |\n",
    "| Create features (e.g., spectrogram)                 | Label encoding                                      |\n",
    "| Normalize per sample                                | Compute global mean/std                             |\n",
    "|                                                    | Clean or filter data                                |\n",
    "\n"
   ]
  },
  {
   "cell_type": "markdown",
   "id": "980ea3df",
   "metadata": {},
   "source": [
    "# Custom Dataset Class"
   ]
  },
  {
   "cell_type": "code",
   "execution_count": 12,
   "id": "deb67a8e",
   "metadata": {},
   "outputs": [],
   "source": [
    "class CustomAudioDataset(Dataset):\n",
    "  def __init__(self, dataframe):\n",
    "    self.dataframe = dataframe\n",
    "    self.labels = torch.Tensor(list(dataframe[\"Class\"])).type(torch.LongTensor).to(device)\n",
    "    self.audios = [torch.Tensor(self.get_spectrogram(path)).type(torch.FloatTensor) for path in dataframe['FilePath']]\n",
    "\n",
    "  def __len__(self):\n",
    "    return self.dataframe.shape[0]\n",
    "\n",
    "  def __getitem__(self, idx):\n",
    "    img_path = self.dataframe.iloc[idx, 0]     # --- In dataframe, that FilePath colum which corresponds to the audio\n",
    "    label = torch.Tensor(self.labels[idx]).to(device)\n",
    "    audio = (self.audios[idx]).unsqueeze(0).to(device)    # --- this is the actual audio itself which was loaded in __init__\n",
    "    return audio, label      # -- here we are only returning Pectrogam and class label\n",
    "\n",
    "  def get_spectrogram(self, file_path):\n",
    "    sr = 22050  \n",
    "\n",
    "    img_height = 128\n",
    "    img_width = 256\n",
    "\n",
    "    signal, sr = librosa.load(file_path, sr=22050)\n",
    "\n",
    "    spec = librosa.feature.melspectrogram(y=signal, sr=sr, n_fft=2048, hop_length=512, n_mels=128)\n",
    "\n",
    "    spec_db = librosa.power_to_db(spec, ref=np.max)\n",
    "\n",
    "    spec_resized = librosa.util.fix_length(spec_db, size = sr // 512 + 1)\n",
    "    spec_resized = resize(spec_resized, (img_height, img_width), anti_aliasing=True)\n",
    "    spec_resized = (spec_resized - np.mean(spec_resized)) / (np.std(spec_resized) + 1e-9)\n",
    "    return spec_resized"
   ]
  },
  {
   "cell_type": "markdown",
   "id": "ec33cd1c",
   "metadata": {},
   "source": [
    "### Creating Dataset Objects"
   ]
  },
  {
   "cell_type": "code",
   "execution_count": 13,
   "id": "28988e70",
   "metadata": {},
   "outputs": [],
   "source": [
    "train_dataset = CustomAudioDataset(dataframe=train)\n",
    "val_dataset = CustomAudioDataset(dataframe=val)\n",
    "test_dataset = CustomAudioDataset(dataframe=test)"
   ]
  },
  {
   "cell_type": "markdown",
   "id": "3aba7c43",
   "metadata": {},
   "source": [
    "# Hyperparameters"
   ]
  },
  {
   "cell_type": "code",
   "execution_count": 14,
   "id": "27486328",
   "metadata": {},
   "outputs": [],
   "source": [
    "LR = 1e-4\n",
    "BATCH_SIZE = 16\n",
    "EPOCHS = 25"
   ]
  },
  {
   "cell_type": "markdown",
   "id": "64524fa1",
   "metadata": {},
   "source": [
    "# DataLoaders"
   ]
  },
  {
   "cell_type": "code",
   "execution_count": 15,
   "id": "0d1100db",
   "metadata": {},
   "outputs": [],
   "source": [
    "train_loader = DataLoader(train_dataset, batch_size=BATCH_SIZE, shuffle=True)\n",
    "val_loader = DataLoader(val_dataset, batch_size=BATCH_SIZE, shuffle=True)\n",
    "test_loader = DataLoader(test_dataset, batch_size=BATCH_SIZE, shuffle=True)"
   ]
  },
  {
   "cell_type": "markdown",
   "id": "d468913a",
   "metadata": {},
   "source": [
    "# Model"
   ]
  },
  {
   "cell_type": "code",
   "execution_count": 16,
   "id": "175474ac",
   "metadata": {},
   "outputs": [
    {
     "name": "stdout",
     "output_type": "stream",
     "text": [
      "Net(\n",
      "  (conv1): Conv2d(1, 16, kernel_size=(3, 3), stride=(1, 1), padding=(1, 1))\n",
      "  (conv2): Conv2d(16, 32, kernel_size=(3, 3), stride=(1, 1), padding=(1, 1))\n",
      "  (conv3): Conv2d(32, 64, kernel_size=(3, 3), stride=(1, 1), padding=(1, 1))\n",
      "  (pooling): MaxPool2d(kernel_size=2, stride=2, padding=0, dilation=1, ceil_mode=False)\n",
      "  (relu): ReLU()\n",
      "  (flatten): Flatten(start_dim=1, end_dim=-1)\n",
      "  (linear1): Linear(in_features=32768, out_features=4096, bias=True)\n",
      "  (linear2): Linear(in_features=4096, out_features=1024, bias=True)\n",
      "  (linear4): Linear(in_features=1024, out_features=512, bias=True)\n",
      "  (output): Linear(in_features=512, out_features=10, bias=True)\n",
      "  (dropout): Dropout(p=0.5, inplace=False)\n",
      ")\n"
     ]
    }
   ],
   "source": [
    "class Net(nn.Module):\n",
    "  def __init__(self):\n",
    "    super().__init__()\n",
    "\n",
    "    self.conv1 = nn.Conv2d(1, 16, kernel_size = 3, padding = 1) # First Convolution layer\n",
    "    self.conv2 = nn.Conv2d(16, 32, kernel_size = 3, stride = 1, padding = 1) # Second Convolution layer\n",
    "    self.conv3 = nn.Conv2d(32, 64, kernel_size = 3, stride = 1, padding = 1) # Third Convolution layer\n",
    "    self.pooling = nn.MaxPool2d(2,2) # The pooling layer, we will be using the same layer after each conv2d.\n",
    "    self.relu = nn.ReLU() # ReLU Activation function\n",
    "\n",
    "    self.flatten = nn.Flatten() # Flatten and vectorize the output feature maps that somes from the final convolution layer.\n",
    "    self.linear1 = nn.Linear((64 * 16 * 32), 4096) # Traditional Dense (Linear)\n",
    "    self.linear2 = nn.Linear(4096, 1024) # Traditional Dense (Linear)\n",
    "    self.linear4 = nn.Linear(1024, 512) # Traditional Dense (Linear)\n",
    "    self.output = nn.Linear(512, len(df_paths['Class'].unique())) # Output Linear Layer\n",
    "\n",
    "    self.dropout = nn.Dropout(0.5)\n",
    "\n",
    "  def forward(self, x):\n",
    "    x = self.conv1(x) # -> Outputs: (16, (128, 256))\n",
    "    x = self.pooling(x)# -> Outputs: (16, (64, 128))\n",
    "    x = self.relu(x)\n",
    "    x = self.dropout(x)\n",
    "    x = self.conv2(x) # -> Outputs: (32, (64, 128))\n",
    "    x = self.pooling(x) # -> Outputs: (32, (32, 64))\n",
    "    x = self.relu(x)\n",
    "    x = self.dropout(x)\n",
    "    x = self.conv3(x) # -> Outputs: (64, (32, 64))\n",
    "    x = self.pooling(x) # -> Outputs: (64, (16, 32))\n",
    "    x = self.relu(x)\n",
    "    x = self.dropout(x)\n",
    "    x = x.view(x.size(0), -1)\n",
    "\n",
    "    x = self.flatten(x)\n",
    "\n",
    "    x = self.linear1(x)\n",
    "    x = self.dropout(x)\n",
    "\n",
    "    x = self.linear2(x)\n",
    "    x = self.dropout(x)\n",
    "\n",
    "\n",
    "    x = self.linear4(x)\n",
    "    x = self.dropout(x)\n",
    "\n",
    "    x = self.output(x)\n",
    "\n",
    "    return x\n",
    "\n",
    "model = Net().to(device) \n",
    "\n",
    "\n",
    "print(model)"
   ]
  },
  {
   "cell_type": "markdown",
   "id": "ad9f7a9b",
   "metadata": {},
   "source": [
    "### Model Summary"
   ]
  },
  {
   "cell_type": "code",
   "execution_count": 17,
   "id": "717a7ecd",
   "metadata": {},
   "outputs": [
    {
     "name": "stdout",
     "output_type": "stream",
     "text": [
      "----------------------------------------------------------------\n",
      "        Layer (type)               Output Shape         Param #\n",
      "================================================================\n",
      "            Conv2d-1         [-1, 16, 128, 256]             160\n",
      "         MaxPool2d-2          [-1, 16, 64, 128]               0\n",
      "              ReLU-3          [-1, 16, 64, 128]               0\n",
      "           Dropout-4          [-1, 16, 64, 128]               0\n",
      "            Conv2d-5          [-1, 32, 64, 128]           4,640\n",
      "         MaxPool2d-6           [-1, 32, 32, 64]               0\n",
      "              ReLU-7           [-1, 32, 32, 64]               0\n",
      "           Dropout-8           [-1, 32, 32, 64]               0\n",
      "            Conv2d-9           [-1, 64, 32, 64]          18,496\n",
      "        MaxPool2d-10           [-1, 64, 16, 32]               0\n",
      "             ReLU-11           [-1, 64, 16, 32]               0\n",
      "          Dropout-12           [-1, 64, 16, 32]               0\n",
      "          Flatten-13                [-1, 32768]               0\n",
      "           Linear-14                 [-1, 4096]     134,221,824\n",
      "          Dropout-15                 [-1, 4096]               0\n",
      "           Linear-16                 [-1, 1024]       4,195,328\n",
      "          Dropout-17                 [-1, 1024]               0\n",
      "           Linear-18                  [-1, 512]         524,800\n",
      "          Dropout-19                  [-1, 512]               0\n",
      "           Linear-20                   [-1, 10]           5,130\n",
      "================================================================\n",
      "Total params: 138,970,378\n",
      "Trainable params: 138,970,378\n",
      "Non-trainable params: 0\n",
      "----------------------------------------------------------------\n",
      "Input size (MB): 0.12\n",
      "Forward/backward pass size (MB): 12.59\n",
      "Params size (MB): 530.13\n",
      "Estimated Total Size (MB): 542.84\n",
      "----------------------------------------------------------------\n"
     ]
    }
   ],
   "source": [
    "from torchsummary import summary \n",
    "summary(model, (1, 128, 256))"
   ]
  },
  {
   "cell_type": "markdown",
   "id": "a994cc56",
   "metadata": {},
   "source": [
    "# Loss and Optimizer"
   ]
  },
  {
   "cell_type": "code",
   "execution_count": 18,
   "id": "53d48747",
   "metadata": {},
   "outputs": [],
   "source": [
    "criterion = nn.CrossEntropyLoss() \n",
    "optimizer = Adam(model.parameters(), lr=LR)"
   ]
  },
  {
   "cell_type": "markdown",
   "id": "1aec5a71",
   "metadata": {},
   "source": [
    "# Training and Validation"
   ]
  },
  {
   "cell_type": "code",
   "execution_count": 19,
   "id": "8ab37376",
   "metadata": {},
   "outputs": [
    {
     "name": "stdout",
     "output_type": "stream",
     "text": [
      "\n",
      "                  Epoch: 1/25, Train Loss: 0.4795, Train Accuracy: 15.7143, \n",
      "                  Validation Loss: 0.0872, Validation Accuracy: 23.3333\n",
      "                  \n",
      "\n",
      "                  Epoch: 2/25, Train Loss: 0.4119, Train Accuracy: 22.8571, \n",
      "                  Validation Loss: 0.0854, Validation Accuracy: 31.6667\n",
      "                  \n",
      "\n",
      "                  Epoch: 3/25, Train Loss: 0.3488, Train Accuracy: 31.0714, \n",
      "                  Validation Loss: 0.0821, Validation Accuracy: 36.6667\n",
      "                  \n",
      "\n",
      "                  Epoch: 4/25, Train Loss: 0.3154, Train Accuracy: 35.7143, \n",
      "                  Validation Loss: 0.0789, Validation Accuracy: 36.6667\n",
      "                  \n",
      "\n",
      "                  Epoch: 5/25, Train Loss: 0.2934, Train Accuracy: 43.5714, \n",
      "                  Validation Loss: 0.0755, Validation Accuracy: 36.6667\n",
      "                  \n",
      "\n",
      "                  Epoch: 6/25, Train Loss: 0.2622, Train Accuracy: 49.6429, \n",
      "                  Validation Loss: 0.0746, Validation Accuracy: 45.0\n",
      "                  \n",
      "\n",
      "                  Epoch: 7/25, Train Loss: 0.2459, Train Accuracy: 50.3571, \n",
      "                  Validation Loss: 0.0728, Validation Accuracy: 35.0\n",
      "                  \n",
      "\n",
      "                  Epoch: 8/25, Train Loss: 0.2441, Train Accuracy: 51.0714, \n",
      "                  Validation Loss: 0.0719, Validation Accuracy: 46.6667\n",
      "                  \n",
      "\n",
      "                  Epoch: 9/25, Train Loss: 0.2193, Train Accuracy: 57.5, \n",
      "                  Validation Loss: 0.0703, Validation Accuracy: 38.3333\n",
      "                  \n",
      "\n",
      "                  Epoch: 10/25, Train Loss: 0.2003, Train Accuracy: 61.7857, \n",
      "                  Validation Loss: 0.0715, Validation Accuracy: 38.3333\n",
      "                  \n",
      "\n",
      "                  Epoch: 11/25, Train Loss: 0.1867, Train Accuracy: 66.7857, \n",
      "                  Validation Loss: 0.067, Validation Accuracy: 45.0\n",
      "                  \n",
      "\n",
      "                  Epoch: 12/25, Train Loss: 0.1635, Train Accuracy: 68.5714, \n",
      "                  Validation Loss: 0.0635, Validation Accuracy: 48.3333\n",
      "                  \n",
      "\n",
      "                  Epoch: 13/25, Train Loss: 0.1643, Train Accuracy: 66.0714, \n",
      "                  Validation Loss: 0.0627, Validation Accuracy: 50.0\n",
      "                  \n",
      "\n",
      "                  Epoch: 14/25, Train Loss: 0.1604, Train Accuracy: 67.8571, \n",
      "                  Validation Loss: 0.064, Validation Accuracy: 53.3333\n",
      "                  \n",
      "\n",
      "                  Epoch: 15/25, Train Loss: 0.1453, Train Accuracy: 72.8571, \n",
      "                  Validation Loss: 0.0621, Validation Accuracy: 50.0\n",
      "                  \n",
      "\n",
      "                  Epoch: 16/25, Train Loss: 0.1325, Train Accuracy: 73.5714, \n",
      "                  Validation Loss: 0.0607, Validation Accuracy: 51.6667\n",
      "                  \n",
      "\n",
      "                  Epoch: 17/25, Train Loss: 0.1189, Train Accuracy: 77.1429, \n",
      "                  Validation Loss: 0.0579, Validation Accuracy: 56.6667\n",
      "                  \n",
      "\n",
      "                  Epoch: 18/25, Train Loss: 0.1213, Train Accuracy: 77.1429, \n",
      "                  Validation Loss: 0.0589, Validation Accuracy: 55.0\n",
      "                  \n",
      "\n",
      "                  Epoch: 19/25, Train Loss: 0.1115, Train Accuracy: 81.0714, \n",
      "                  Validation Loss: 0.0586, Validation Accuracy: 53.3333\n",
      "                  \n",
      "\n",
      "                  Epoch: 20/25, Train Loss: 0.1094, Train Accuracy: 78.5714, \n",
      "                  Validation Loss: 0.0578, Validation Accuracy: 51.6667\n",
      "                  \n",
      "\n",
      "                  Epoch: 21/25, Train Loss: 0.1073, Train Accuracy: 81.7857, \n",
      "                  Validation Loss: 0.057, Validation Accuracy: 55.0\n",
      "                  \n",
      "\n",
      "                  Epoch: 22/25, Train Loss: 0.0989, Train Accuracy: 83.2143, \n",
      "                  Validation Loss: 0.0571, Validation Accuracy: 55.0\n",
      "                  \n",
      "\n",
      "                  Epoch: 23/25, Train Loss: 0.0846, Train Accuracy: 83.2143, \n",
      "                  Validation Loss: 0.0565, Validation Accuracy: 56.6667\n",
      "                  \n",
      "\n",
      "                  Epoch: 24/25, Train Loss: 0.0899, Train Accuracy: 82.1429, \n",
      "                  Validation Loss: 0.0546, Validation Accuracy: 60.0\n",
      "                  \n",
      "\n",
      "                  Epoch: 25/25, Train Loss: 0.0821, Train Accuracy: 83.2143, \n",
      "                  Validation Loss: 0.0565, Validation Accuracy: 61.6667\n",
      "                  \n"
     ]
    }
   ],
   "source": [
    "total_loss_train_plot = [] # Empty list to be filled with train loss after each epoch\n",
    "total_loss_validation_plot = [] # Empty list to be filled with validation loss after each epoch\n",
    "total_acc_train_plot = [] # Empty list to be filled with train accuracy after each epoch\n",
    "total_acc_validation_plot = [] # Empty list to be filled with validation accuracy after each epoch\n",
    "\n",
    "\n",
    "for epoch in range(EPOCHS):\n",
    "  model.train()\n",
    "  start_time = time.time() # We use this to calculate the time of each epoch, it starts a counter once called\n",
    "  total_acc_train = 0\n",
    "  total_loss_train = 0\n",
    "  total_loss_val = 0\n",
    "  total_acc_val = 0\n",
    "\n",
    "  for inputs, labels in train_loader:\n",
    "    outputs = model(inputs)\n",
    "    train_loss = criterion(outputs, labels)\n",
    "    total_loss_train += train_loss.item()\n",
    "    train_loss.backward()\n",
    "\n",
    "    train_acc = (torch.argmax(outputs, axis = 1) == labels).sum().item()\n",
    "    total_acc_train += train_acc\n",
    "    optimizer.step()\n",
    "    optimizer.zero_grad()\n",
    "\n",
    "  model.eval()\n",
    "  with torch.no_grad():\n",
    "    for inputs, labels in val_loader:\n",
    "      outputs = model(inputs)\n",
    "      val_loss = criterion(outputs, labels)\n",
    "      total_loss_val += val_loss.item()\n",
    "\n",
    "      val_acc = (torch.argmax(outputs, axis = 1) == labels).sum().item()\n",
    "      total_acc_val += val_acc\n",
    "\n",
    "  total_loss_train_plot.append(round(total_loss_train / len(train_loader), 4))\n",
    "  total_loss_validation_plot.append(round(total_loss_val / len(val_loader), 4))\n",
    "  total_acc_train_plot.append(round(total_acc_train/(train_dataset.__len__())*100, 4))\n",
    "  total_acc_validation_plot.append(round(total_acc_val/(val_dataset.__len__())*100, 4))\n",
    "  epoch_string = f\"\"\"\n",
    "                  Epoch: {epoch+1}/{EPOCHS}, Train Loss: {round(total_loss_train/100, 4)}, Train Accuracy: {round((total_acc_train/train_dataset.__len__() * 100), 4)}, \n",
    "                  Validation Loss: {round(total_loss_val/100, 4)}, Validation Accuracy: {round((total_acc_val/val_dataset.__len__() * 100), 4)}\n",
    "                  \"\"\"\n",
    "  print(epoch_string)"
   ]
  },
  {
   "cell_type": "markdown",
   "id": "351f8eb7",
   "metadata": {},
   "source": [
    "# Visualization"
   ]
  },
  {
   "cell_type": "code",
   "execution_count": 20,
   "id": "ce055a38",
   "metadata": {},
   "outputs": [
    {
     "data": {
      "image/png": "[encoded data removed]",
      "text/plain": [
       "<Figure size 1500x500 with 2 Axes>"
      ]
     },
     "metadata": {},
     "output_type": "display_data"
    }
   ],
   "source": [
    "fig, axs = plt.subplots(nrows=1, ncols=2, figsize=(15, 5))\n",
    "\n",
    "axs[0].plot(total_loss_train_plot, label='Training Loss')\n",
    "axs[0].plot(total_loss_validation_plot, label='Validation Loss')\n",
    "axs[0].set_title('Training and Validation Loss over Epochs')\n",
    "axs[0].set_xlabel('Epochs')\n",
    "axs[0].set_ylabel('Loss')\n",
    "axs[1].set_ylim([0, 2])\n",
    "axs[0].legend()\n",
    "\n",
    "axs[1].plot(total_acc_train_plot, label='Training Accuracy')\n",
    "axs[1].plot(total_acc_validation_plot, label='Validation Accuracy')\n",
    "axs[1].set_title('Training and Validation Accuracy over Epochs')\n",
    "axs[1].set_xlabel('Epochs')\n",
    "axs[1].set_ylabel('Accuracy')\n",
    "axs[1].set_ylim([0, 100])\n",
    "axs[1].legend()\n",
    "\n",
    "plt.tight_layout()\n",
    "\n",
    "plt.show()"
   ]
  },
  {
   "cell_type": "markdown",
   "id": "9d8943f5",
   "metadata": {},
   "source": [
    "# Testing and evaluation"
   ]
  },
  {
   "cell_type": "code",
   "execution_count": 21,
   "id": "72625213",
   "metadata": {},
   "outputs": [
    {
     "name": "stdout",
     "output_type": "stream",
     "text": [
      "Accuracy Score is: 51.67%\n"
     ]
    }
   ],
   "source": [
    "with torch.no_grad():\n",
    "  total_loss_test = 0\n",
    "  total_acc_test = 0\n",
    "  for indx, (input, labels) in enumerate(test_loader):\n",
    "\n",
    "    prediction = model(input)\n",
    "\n",
    "    acc = (torch.argmax(prediction, axis = 1) == labels).sum().item()\n",
    "    total_acc_test += acc\n",
    "\n",
    "print(f\"Accuracy Score is: {round((total_acc_test/test_dataset.__len__())*100, 2)}%\")"
   ]
  }
 ],
 "metadata": {
  "kernelspec": {
   "display_name": "Python 3",
   "language": "python",
   "name": "python3"
  },
  "language_info": {
   "codemirror_mode": {
    "name": "ipython",
    "version": 3
   },
   "file_extension": ".py",
   "mimetype": "text/x-python",
   "name": "python",
   "nbconvert_exporter": "python",
   "pygments_lexer": "ipython3",
   "version": "3.10.0"
  }
 },
 "nbformat": 4,
 "nbformat_minor": 5
}
