{
 "cells": [
  {
   "cell_type": "markdown",
   "id": "10909a16",
   "metadata": {},
   "source": [
    "# 2. Autograd"
   ]
  },
  {
   "cell_type": "markdown",
   "id": "5f90f5e7",
   "metadata": {},
   "source": [
    "The autograd package provides automatic differentiation for all operations on Tensors. Generally speaking, torch.autograd is an engine for computing the vector-Jacobian product. It computes partial derivates while applying the chain rule.\n",
    "\n",
    "Set `requires_grad = True`:"
   ]
  },
  {
   "cell_type": "code",
   "execution_count": 23,
   "id": "38f84745",
   "metadata": {},
   "outputs": [
    {
     "name": "stdout",
     "output_type": "stream",
     "text": [
      "x: tensor([-0.2688,  0.8487, -0.0750], requires_grad=True)\n",
      "x.grad_fn: None\n",
      "\n",
      "y: tensor([1.7312, 2.8487, 1.9250], grad_fn=<AddBackward0>)\n",
      "y.grad_fn: <AddBackward0 object at 0x00000188B5EAFAC0>\n"
     ]
    }
   ],
   "source": [
    "import torch\n",
    "\n",
    "# requires_grad = True -> tracks all operations on the tensor in a computational graph. \n",
    "x = torch.randn(3, requires_grad=True)   \n",
    "y = x + 2\n",
    "\n",
    "# y was created as a result of an operation, so it has a grad_fn attribute.\n",
    "# grad_fn: references a Function that has created the Tensor\n",
    "\n",
    "print(\"x:\",x) # created by the user -> grad_fn is None\n",
    "print(\"x.grad_fn:\",x.grad_fn)\n",
    "\n",
    "print(\"\\ny:\",y)\n",
    "print(\"y.grad_fn:\",y.grad_fn)"
   ]
  },
  {
   "cell_type": "markdown",
   "id": "1b4f1990",
   "metadata": {},
   "source": [
    "#### Why these these.grad_fn matters?  \n",
    "Later, when you call y.backward(), PyTorch uses y.grad_fn to trace back the operations through the graph (e.g., x + 2, then maybe something else) and compute gradients for each variable involved"
   ]
  },
  {
   "cell_type": "code",
   "execution_count": 24,
   "id": "ef8ed220",
   "metadata": {},
   "outputs": [
    {
     "name": "stdout",
     "output_type": "stream",
     "text": [
      "z: tensor([ 8.9912, 24.3458, 11.1170], grad_fn=<MulBackward0>)\n",
      "z.grad_fn: <MulBackward0 object at 0x00000188B5EAE3E0>\n",
      "\n",
      "z: tensor(14.8180, grad_fn=<MeanBackward0>)\n",
      "z.grad_fn: <MeanBackward0 object at 0x00000188CCB1DD20>\n"
     ]
    }
   ],
   "source": [
    "# Do more operations on y\n",
    "z = y * y * 3\n",
    "print(\"z:\",z)\n",
    "print(\"z.grad_fn:\",z.grad_fn)\n",
    "\n",
    "z = z.mean()\n",
    "print(\"\\nz:\",z)\n",
    "print(\"z.grad_fn:\",z.grad_fn)"
   ]
  },
  {
   "cell_type": "code",
   "execution_count": 25,
   "id": "54556dc4",
   "metadata": {},
   "outputs": [
    {
     "name": "stdout",
     "output_type": "stream",
     "text": [
      "None\n",
      "tensor([3.4624, 5.6975, 3.8500])\n"
     ]
    }
   ],
   "source": [
    "# Let's compute the gradients with backpropagation\n",
    "##### When we finish our computation we can call .backward() and have all the gradients computed automatically.\n",
    "# The gradient for this tensor will be accumulated into .grad attribute.\n",
    "# It is the partial derivate of the function w.r.t. the tensor\n",
    "\n",
    "print(x.grad)\n",
    "z.backward()   # here it computes dz/dx\n",
    "print(x.grad) # dz/dx\n",
    "\n",
    "# !!! Careful!!! backward() accumulates the gradient for this tensor into .grad attribute.  ---- DURING EACH EPOCH WE NEED TO EMPTY THE GRADIENT (VERY IMPORTANT)\n",
    "# !!! We need to be careful during optimization !!! optimizer.zero_grad()"
   ]
  },
  {
   "cell_type": "markdown",
   "id": "c9a4e7f9",
   "metadata": {},
   "source": [
    "#### Stop a tensor from tracking history:\n",
    "For example `during the training loop when we want to update our weights`, or `after training during evaluation`. These operations should not be part of the gradient computation. To prevent this, we can use:  \n",
    "\n",
    "(3 diff ways)\n",
    "- `x.requires_grad_(False)`\n",
    "- `x.detach()`\n",
    "- wrap in `with torch.no_grad():`"
   ]
  },
  {
   "cell_type": "code",
   "execution_count": null,
   "id": "f048ba3c",
   "metadata": {},
   "outputs": [
    {
     "name": "stdout",
     "output_type": "stream",
     "text": [
      "False\n",
      "None\n",
      "True\n",
      "<SumBackward0 object at 0x00000188B5EAE5C0>\n"
     ]
    }
   ],
   "source": [
    "# .requires_grad_(...) changes an existing flag in-place.\n",
    "a = torch.randn(2, 2)# by default requires_grad = False\n",
    "b = (a * a).sum()\n",
    "print(a.requires_grad)\n",
    "print(b.grad_fn)\n",
    "\n",
    "# a = torch.randn(2, 2, requires_grad = True) # this or below\n",
    "a.requires_grad_(True)\n",
    "b = (a * a).sum()\n",
    "print(a.requires_grad)\n",
    "print(b.grad_fn)"
   ]
  },
  {
   "cell_type": "code",
   "execution_count": 27,
   "id": "0a10bfec",
   "metadata": {},
   "outputs": [
    {
     "name": "stdout",
     "output_type": "stream",
     "text": [
      "True\n",
      "False\n"
     ]
    }
   ],
   "source": [
    "# .detach(): get a new Tensor with the same content but no gradient computation:\n",
    "a = torch.randn(2, 2, requires_grad=True)\n",
    "b = a.detach()\n",
    "print(a.requires_grad)\n",
    "print(b.requires_grad)"
   ]
  },
  {
   "cell_type": "code",
   "execution_count": 34,
   "id": "3d93ae04",
   "metadata": {},
   "outputs": [
    {
     "name": "stdout",
     "output_type": "stream",
     "text": [
      "True\n",
      "False\n"
     ]
    }
   ],
   "source": [
    "# we will see this often during model eval\n",
    "\n",
    "# wrap in 'with torch.no_grad():'\n",
    "a = torch.randn(2, 2, requires_grad=True)\n",
    "print(a.requires_grad)\n",
    "with torch.no_grad():\n",
    "    b = a ** 2\n",
    "    print(b.requires_grad)"
   ]
  }
 ],
 "metadata": {
  "kernelspec": {
   "display_name": "Python 3",
   "language": "python",
   "name": "python3"
  },
  "language_info": {
   "codemirror_mode": {
    "name": "ipython",
    "version": 3
   },
   "file_extension": ".py",
   "mimetype": "text/x-python",
   "name": "python",
   "nbconvert_exporter": "python",
   "pygments_lexer": "ipython3",
   "version": "3.10.0"
  }
 },
 "nbformat": 4,
 "nbformat_minor": 5
}
